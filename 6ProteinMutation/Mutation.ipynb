{
 "cells": [
  {
   "cell_type": "markdown",
   "id": "58e40356-1cb9-42ef-8a44-ebeb6b468216",
   "metadata": {},
   "source": [
    "# Protein Mutation Tutorial for $\\lambda$ Dynamics Workshop"
   ]
  },
  {
   "cell_type": "markdown",
   "id": "4bb31f48-c713-4600-9a83-ca9ace51684e",
   "metadata": {},
   "source": [
    "## I. Introduction"
   ]
  },
  {
   "cell_type": "markdown",
   "id": "fdec0521-aa9e-4c18-8544-e6c3205c161d",
   "metadata": {},
   "source": [
    "### I.A. Free Energy Cycle"
   ]
  },
  {
   "cell_type": "markdown",
   "id": "88f36723-5996-45eb-b3d5-595ae7a089d9",
   "metadata": {},
   "source": [
    "### I.B. Approximations"
   ]
  },
  {
   "cell_type": "markdown",
   "id": "e01fbbfc-8ebb-44a6-8769-bed7e112e1c0",
   "metadata": {},
   "source": [
    "### I.C. Patches"
   ]
  },
  {
   "cell_type": "markdown",
   "id": "0f633980-a648-4d19-abee-6651232af4eb",
   "metadata": {},
   "source": [
    "#### I.C.1. Side Chain Patches"
   ]
  },
  {
   "cell_type": "markdown",
   "id": "ba9e8559-7e62-4ec8-a3e7-ce4698495bf9",
   "metadata": {},
   "source": [
    "#### I.C.2. Whole Residue Patches for Proline and Glycine"
   ]
  },
  {
   "cell_type": "markdown",
   "id": "969f1038-f09b-4b17-8627-4f8f076ef58e",
   "metadata": {},
   "source": [
    "## II. CHARMM-GUI Setup"
   ]
  },
  {
   "cell_type": "markdown",
   "id": "7cb07fe1-29a8-4671-96e4-6760770c43db",
   "metadata": {},
   "source": [
    "### II.A. Patches"
   ]
  },
  {
   "cell_type": "markdown",
   "id": "d19f0a20-f56b-456d-b9de-25ff5676fab0",
   "metadata": {},
   "source": [
    "## III. Setting Up prep Directories"
   ]
  },
  {
   "cell_type": "markdown",
   "id": "3fbca578-86aa-494c-a93a-fab133ffd801",
   "metadata": {},
   "source": [
    "## IV. Running ALF"
   ]
  },
  {
   "cell_type": "markdown",
   "id": "990aad9a-086b-4681-8d30-0f9d6ef880f8",
   "metadata": {},
   "source": [
    "## V. Analyzing Results"
   ]
  }
 ],
 "metadata": {
  "kernelspec": {
   "display_name": "Python 3 (ipykernel)",
   "language": "python",
   "name": "python3"
  },
  "language_info": {
   "codemirror_mode": {
    "name": "ipython",
    "version": 3
   },
   "file_extension": ".py",
   "mimetype": "text/x-python",
   "name": "python",
   "nbconvert_exporter": "python",
   "pygments_lexer": "ipython3",
   "version": "3.10.12"
  }
 },
 "nbformat": 4,
 "nbformat_minor": 5
}
