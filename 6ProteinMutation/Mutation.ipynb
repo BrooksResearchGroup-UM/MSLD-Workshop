{
 "cells": [
  {
   "cell_type": "markdown",
   "id": "58e40356-1cb9-42ef-8a44-ebeb6b468216",
   "metadata": {},
   "source": [
    "# Protein Mutation Tutorial for $\\lambda$ Dynamics Workshop"
   ]
  },
  {
   "cell_type": "code",
   "execution_count": null,
   "id": "4b6faaf6-29c6-49df-8096-3727be65c11c",
   "metadata": {},
   "outputs": [],
   "source": [
    "import alf\n",
    "import os, subprocess, shutil\n",
    "import numpy as np\n",
    "alf_tutorial_dir=os.getcwd()"
   ]
  },
  {
   "cell_type": "markdown",
   "id": "4bb31f48-c713-4600-9a83-ca9ace51684e",
   "metadata": {},
   "source": [
    "## I. Introduction"
   ]
  },
  {
   "cell_type": "markdown",
   "id": "fdec0521-aa9e-4c18-8544-e6c3205c161d",
   "metadata": {},
   "source": [
    "### I.A. Free Energy Cycle"
   ]
  },
  {
   "cell_type": "markdown",
   "id": "b898a34b-fc9f-4ece-b452-5a06b7af1666",
   "metadata": {},
   "source": [
    "Today we will be evaluating relative protein folding free energies (i.e. relative stabilities) by considering the free energy of mutation in the folded ensemble and in the unfolded ensemble.\n",
    "\n",
    "Other free energies, such as relative protein-protein binding free energies can be obtained with these same techniques by evaluating the mutations in different ensembles.\n",
    "\n",
    "<img src=\"Figures/CycleBoth.jpg\" alf=\"cycle\" width=400/>"
   ]
  },
  {
   "cell_type": "markdown",
   "id": "88f36723-5996-45eb-b3d5-595ae7a089d9",
   "metadata": {},
   "source": [
    "### I.B. Approximations"
   ]
  },
  {
   "cell_type": "markdown",
   "id": "5e63bfb8-0872-4df4-9edd-3958e1aae1ef",
   "metadata": {},
   "source": [
    "The unfolded ensemble is structurally diverse and relaxes slowly. To avoid sampling this difficult ensemble, we note that amino acids are extended and solvent exposed in the unfolded ensemble, and approximate the unfolded ensemble with a short pentapeptide. The mutating amino acid is flanked by two non-mutating residues on each side.\n",
    "\n",
    "While a full protein is typically capped by charged caps under normal pH conditions, the ends of this peptide are artificially truncated, so we cap them with neutral groups (ACE ad CT3 in CHARMM) to avoid perturbing local electrostatics.\n",
    "\n",
    "When multiple mutation sites are considered, we approximate their effects as being additive in the unfolded ensemble, unless they are adjacent or next to adjacent in sequence. Nearby residues such as these are modeled in the same peptide with two non-mutating residues on each side."
   ]
  },
  {
   "cell_type": "markdown",
   "id": "e01fbbfc-8ebb-44a6-8769-bed7e112e1c0",
   "metadata": {},
   "source": [
    "### I.C. Patches"
   ]
  },
  {
   "cell_type": "markdown",
   "id": "858f74d9-0d46-49a2-9853-c21190f73e2a",
   "metadata": {},
   "source": [
    "For small molecule perturbations, one must go through the process of generating new patches for each new systems because the ligands and perturbations of interest are always unique. Protein mutations are more convenient in this regard. Protein mutations are always the same, so the set of patches may be generated once and applied to any system."
   ]
  },
  {
   "cell_type": "markdown",
   "id": "0f633980-a648-4d19-abee-6651232af4eb",
   "metadata": {},
   "source": [
    "#### I.C.1. Side Chain Patches"
   ]
  },
  {
   "cell_type": "markdown",
   "id": "d1e010f5-ec1e-40d6-9bcd-5c90e726c089",
   "metadata": {},
   "source": [
    "The first study amino acid mutations with $\\lambda$ dynamics (in T4 lysozyme) placed the protein backbone in the environment (with a single C$\\alpha$ atom) and used patches for the side chains (which gives many C$\\beta$ atoms). An immediately obvious limitation of this is that glycine and proline mutations cannot be treated with this approach because backbone parameters and connectivity change.\n",
    "\n",
    "This approach works because the alchemical regions are connected to the environment in just one place, via the C$\\alpha$-C$\\beta$ bond, and this allows the contribution of the unscaled bonded interactions to be factored out of the partition function by a change of variables when $\\lambda=0$. (There is a caveat here about angles.) As the free energy is proportional to the log of the partition function, their contribution to $\\Delta G$ is the same in both ensembles and cancels out.\n",
    "\n",
    "T4 Lysozyme Citation: DOI: <a href=\"https://doi.org/10.1002/pro.3500\">10.1002/pro.3500</a>"
   ]
  },
  {
   "cell_type": "markdown",
   "id": "ba9e8559-7e62-4ec8-a3e7-ce4698495bf9",
   "metadata": {},
   "source": [
    "#### I.C.2. Whole Residue Patches for Proline and Glycine"
   ]
  },
  {
   "cell_type": "markdown",
   "id": "f2b0bf3c-2250-4370-adc1-abfeae1c2607",
   "metadata": {},
   "source": [
    "An obvious limitation of the side chain perturbation scheme is that backbone parameters and connectivity change for glycine and especially for proline mutations, so they cannot be treated with the side chain perturbation scheme. An obvious alternative is to scale the entire residue by $\\lambda$. However, the alchemical group is now bonded to the rest of the system in two places, and unscaled bonds can no longer be factored out of the partition function when $\\lambda=0$. Consider an example of a problem this causes: in mutating from proline to glycine, when proline is off, the ring topology still restricts rotation around the protein $\\phi$ angle, so glycine loses entropy it ought to have in the unfolded ensemble, and the $\\Delta\\Delta G$ favors glycine more than it should, because the entropic cost of folding glycine is artificially reduced.\n",
    "\n",
    "In order to scale the entire residue by $\\lambda$ two additional techniques were developed. The first was a soft bond scaled by $\\lambda$ in the proline side chain. This allows free rotation around the backbone $\\phi$ angle when $\\lambda=0$, and while the whole residue cannot be factored out of the partition function, at least the side chains and HN atoms can be.\n",
    "\n",
    "The second development was to scale all the remaining backbone bonds which could not be factored out of the partition function by $\\lambda$ so they do not contribute to the partition function at $\\lambda=0$, and harmonically restrain these gas phase atoms to an analogous atom on another substituent so they do not drift off. These harmonic restraints can also be factored out of the partition function.\n",
    "\n",
    "These two developments lead to two additional sections in the BLOCK module. The CATS section (Constrained ATom Scaling) lists groups of atoms that are restrained together whose bonded interactions are scaled by $\\lambda$. There must be one atom from each substituent in each CATS selection. The SOBO section (SOft BOnds) list pairs of bonded atoms whose bond term (and associated angle terms) should be scaled by $\\lambda$.\n",
    "\n",
    "An additional complication of this approach is that adjacent mutations must have bonded terms added between mutated forms of the residues, necessitating a more complicated patching procedure. Fortunately, this patching is scripted.\n",
    "\n",
    "DOI: <a href=\"https://doi.org/10.1002/jcc.26525\">10.1002/jcc.26525</a>"
   ]
  },
  {
   "cell_type": "markdown",
   "id": "969f1038-f09b-4b17-8627-4f8f076ef58e",
   "metadata": {},
   "source": [
    "## II. CHARMM-GUI Setup"
   ]
  },
  {
   "cell_type": "markdown",
   "id": "2aebaae8-31ec-4093-8eac-f3e92296d832",
   "metadata": {},
   "source": [
    "Today's tutorial will focus on the three site mutant in T4 lysozyme (PDB: 1L63). The \"native\" sequence in this case already posesses two mutations to remove the disulfide bond. Within this background we will consider combinations of three mutations: I17M, I27M, and L33M. Experimental data exists for 6 of the 8 combinations:\n",
    "\n",
    "```\n",
    "17 27 33  ddG\n",
    " I  I  L  0.0\n",
    " I  I  M  2.0\n",
    " I  M  L  3.1\n",
    " I  M  M  3.05\n",
    " M  I  L  2.2\n",
    " M  I  M  ???\n",
    " M  M  L  ???\n",
    " M  M  M  3.3\n",
    "```\n",
    "\n",
    "Salt conditions are 100 mM NaCl, and temperature was 25$^{\\circ}$ C."
   ]
  },
  {
   "cell_type": "markdown",
   "id": "7cb07fe1-29a8-4671-96e4-6760770c43db",
   "metadata": {},
   "source": [
    "### II.A. Patches"
   ]
  },
  {
   "cell_type": "markdown",
   "id": "f315dc34-f529-45b2-b399-d5d0a882f064",
   "metadata": {},
   "source": [
    "Experiments were performed at a pH of 5.4. ProPKA indicates no D or E residues are protonated at this pKa, but that the H is in the protonated state. There are no disulfide bonds to include. This means no patches need to be applied on CHARMM-GUI, but HIS31 should be \"mutated\" to HSP.\n",
    "\n",
    "ProPKA may be downloaded and run through python, or can be run using CRIMM as a wrapper when one needs to determine protonation states in a new protein of interest. Disulfides can be extracted from the PDB header, by inspection, or using CRIMM.\n",
    "\n",
    "The full sequence should have NTER and CTER caps; the peptides should each have ACE and CT3 caps.\n",
    "\n",
    "Generate the folded structure and the three peptides on CHARMM-GUI. Note that you only need to generate the native sequence. Patches for alchemical mutations will be added later.\n",
    "\n",
    "<a href=\"https://www.charmm-gui.org/?doc=input/solution\">CHARMM-GUI</a>"
   ]
  },
  {
   "cell_type": "markdown",
   "id": "d19f0a20-f56b-456d-b9de-25ff5676fab0",
   "metadata": {},
   "source": [
    "## III. Setting Up prep Directories"
   ]
  },
  {
   "cell_type": "markdown",
   "id": "3fbca578-86aa-494c-a93a-fab133ffd801",
   "metadata": {},
   "source": [
    "## IV. Running ALF"
   ]
  },
  {
   "cell_type": "raw",
   "id": "92eb347c-b36f-4bfd-9b80-8f40da82df02",
   "metadata": {},
   "source": [
    "# Set the SLURMOPTSMD (for molecular dynamics) and SLURMOPTSPP (for postprocessing) appropriate for your cluster\n",
    "export SLURMOPTSMD=\"--time=240 --ntasks=1 --tasks-per-node=1 --cpus-per-task=1 -p gpu --gres=gpu:1 --export=ALL\"\n",
    "export SLURMOPTSPP=\"--time=240 --ntasks=1 --tasks-per-node=1 --cpus-per-task=1 -p gpu --gres=gpu:1 --export=ALL\""
   ]
  },
  {
   "cell_type": "code",
   "execution_count": null,
   "id": "28a3d065-cb60-41d4-8dcf-651527f2c0ba",
   "metadata": {},
   "outputs": [],
   "source": [
    "os.environ['SLURMOPTSMD']='--time=240 --ntasks=1 --tasks-per-node=1 --cpus-per-task=1 -p gpu -A rhayes1_lab_gpu --gres=gpu:1 --export=ALL'\n",
    "os.environ['SLURMOPTSPP']='--time=240 --ntasks=1 --tasks-per-node=1 --cpus-per-task=1 -p gpu -A rhayes1_lab_gpu --gres=gpu:1 --export=ALL'"
   ]
  },
  {
   "cell_type": "code",
   "execution_count": null,
   "id": "9d7eb34c-d5a1-4e39-994a-870462a11d5f",
   "metadata": {},
   "outputs": [],
   "source": [
    "os.chdir(alf_tutorial_dir+'/t4l_fold')\n",
    "!./subsetAll.sh\n",
    "os.chdir(alf_tutorial_dir)"
   ]
  },
  {
   "cell_type": "markdown",
   "id": "990aad9a-086b-4681-8d30-0f9d6ef880f8",
   "metadata": {},
   "source": [
    "## V. Analyzing Results"
   ]
  },
  {
   "cell_type": "markdown",
   "id": "0b651c2e-13dd-4f87-a893-091706dd0d8f",
   "metadata": {},
   "source": [
    "Apply independent peptide approximation to get the free energy of the unfolded ensemble."
   ]
  },
  {
   "cell_type": "code",
   "execution_count": 7,
   "id": "8d1ca691-dde8-402e-9754-ca4fd0001fda",
   "metadata": {},
   "outputs": [
    {
     "name": "stdout",
     "output_type": "stream",
     "text": [
      "I17M\n",
      " 0    0.000 +/- 0.028\n",
      " 1   -6.606 +/- 0.071\n",
      "I27M\n",
      " 0    0.000 +/- 0.010\n",
      " 1   -6.507 +/- 0.015\n",
      "L33M\n",
      " 0    0.000 +/- 0.012\n",
      " 1   12.225 +/- 0.022\n",
      "Unfolded ensemble\n",
      " 0  0  0    0.000 +/- 0.032\n",
      " 0  0  1   12.225 +/- 0.037\n",
      " 0  1  0   -6.507 +/- 0.034\n",
      " 0  1  1    5.718 +/- 0.039\n",
      " 1  0  0   -6.606 +/- 0.073\n",
      " 1  0  1    5.619 +/- 0.075\n",
      " 1  1  0  -13.113 +/- 0.074\n",
      " 1  1  1   -0.888 +/- 0.076\n"
     ]
    }
   ],
   "source": [
    "!echo I17M\n",
    "!cat prerun/t4l_i17m/Result.txt\n",
    "!echo I27M\n",
    "!cat prerun/t4l_i27m/Result.txt\n",
    "!echo L33M\n",
    "!cat prerun/t4l_l33m/Result.txt\n",
    "\n",
    "import math\n",
    "\n",
    "fpin=[]\n",
    "fpin.append(open(\"prerun/t4l_i17m/Result.txt\",\"r\"))\n",
    "fpin.append(open(\"prerun/t4l_i27m/Result.txt\",\"r\"))\n",
    "fpin.append(open(\"prerun/t4l_l33m/Result.txt\",\"r\"))\n",
    "fpout=open(\"prerun/ResultU.txt\",\"w\")\n",
    "\n",
    "i1=[]\n",
    "V=[]\n",
    "E=[]\n",
    "indices=[]\n",
    "for i in range(0,len(fpin)):\n",
    "  i1.append([])\n",
    "  V.append([])\n",
    "  E.append([])\n",
    "  indices.append(0)\n",
    "  lines=fpin[i].readlines()\n",
    "  for j in range(0,len(lines)):\n",
    "    line=lines[j].split()\n",
    "\n",
    "    i1[i].append(int(line[0]))\n",
    "    V[i].append(float(line[1]))\n",
    "    E[i].append(float(line[3]))\n",
    "\n",
    "while indices[0]<len(i1[0]):\n",
    "  Vi=0\n",
    "  Ei=0\n",
    "  for i in range(0,len(fpin)):\n",
    "    fpout.write(\"%2d \" % (i1[i][indices[i]],))\n",
    "    Vi+=V[i][indices[i]]\n",
    "    Ei=math.sqrt(Ei**2 + E[i][indices[i]]**2)\n",
    "  fpout.write(\"%8.3f +/- %5.3f\\n\" % (Vi,Ei))\n",
    "  for i in range(0,len(fpin)):\n",
    "    indices[len(fpin)-1-i]+=1\n",
    "    if indices[len(fpin)-1-i]==len(i1[len(fpin)-1-i]) and (len(fpin)-1-i)!=0:\n",
    "      indices[len(fpin)-1-i]=0\n",
    "    else:\n",
    "      break\n",
    "\n",
    "for i in range(0,len(fpin)):\n",
    "  fpin[i].close()\n",
    "fpout.close()\n",
    "\n",
    "!echo Unfolded ensemble\n",
    "!cat prerun/ResultU.txt"
   ]
  },
  {
   "cell_type": "code",
   "execution_count": 8,
   "id": "6922481c-08b7-46d7-8e61-209f6202d0e9",
   "metadata": {},
   "outputs": [
    {
     "name": "stdout",
     "output_type": "stream",
     "text": [
      "folded\n",
      " 0  0  0    0.000 +/- 0.043\n",
      " 0  0  1   14.870 +/- 0.092\n",
      " 0  1  0   -2.598 +/- 0.026\n",
      " 0  1  1   11.691 +/- 0.052\n",
      " 1  0  0   -5.591 +/- 0.026\n",
      " 1  0  1    7.983 +/- 0.096\n",
      " 1  1  0   -8.714 +/- 0.051\n",
      " 1  1  1    4.171 +/- 0.087\n",
      "ddG\n",
      " 0  0  0    0.000 +/- 0.054\n",
      " 0  0  1    2.645 +/- 0.099\n",
      " 0  1  0    3.909 +/- 0.043\n",
      " 0  1  1    5.973 +/- 0.065\n",
      " 1  0  0    1.015 +/- 0.077\n",
      " 1  0  1    2.364 +/- 0.122\n",
      " 1  1  0    4.399 +/- 0.090\n",
      " 1  1  1    5.059 +/- 0.116\n"
     ]
    }
   ],
   "source": [
    "!echo folded\n",
    "!cat prerun/t4l_fold/Result.txt\n",
    "\n",
    "import math\n",
    "\n",
    "fp1=open(\"prerun/ResultU.txt\",\"r\")\n",
    "fp2=open(\"prerun/t4l_fold/Result.txt\",\"r\")\n",
    "fp3=open(\"prerun/Result.txt\",\"w\")\n",
    "\n",
    "lines1=fp1.readlines()\n",
    "lines2=fp2.readlines()\n",
    "\n",
    "nsites=len(lines1[0].split())-3\n",
    "for i in range(0,len(lines1)):\n",
    "  line1=lines1[i].split()\n",
    "  line2=lines2[i].split()\n",
    "\n",
    "  i1=[]\n",
    "  for j in range(0,nsites):\n",
    "    i1.append(int(line1[j]))\n",
    "  V=float(line2[nsites])-float(line1[nsites])\n",
    "  E=math.sqrt(float(line2[nsites+2])**2 + float(line1[nsites+2])**2)\n",
    "\n",
    "  for j in range(0,nsites):\n",
    "    fp3.write(\"%2d \" % (i1[j],))\n",
    "  fp3.write(\"%8.3f +/- %5.3f\\n\" % (V,E))\n",
    "\n",
    "fp1.close()\n",
    "fp2.close()\n",
    "fp3.close()\n",
    "\n",
    "!echo ddG\n",
    "!cat prerun/Result.txt"
   ]
  },
  {
   "cell_type": "markdown",
   "id": "f324324f-a5b7-436f-867b-2acdd484ea38",
   "metadata": {},
   "source": [
    "At this point, one could consider computing Pearson's correlation and root mean squared error with the experimental values\n",
    "\n",
    "```\n",
    "17 27 33  ddG\n",
    " I  I  L  0.0\n",
    " I  I  M  2.0\n",
    " I  M  L  3.1\n",
    " I  M  M  3.05\n",
    " M  I  L  2.2\n",
    " M  I  M  ???\n",
    " M  M  L  ???\n",
    " M  M  M  3.3\n",
    "```"
   ]
  },
  {
   "cell_type": "markdown",
   "id": "7b0d1577-ff30-4607-90b3-40d1f65f4ae3",
   "metadata": {},
   "source": [
    "## VI. Exercises"
   ]
  },
  {
   "cell_type": "markdown",
   "id": "ba83dad3-b74c-4ada-ba23-530a412b5775",
   "metadata": {},
   "source": [
    "* Set up L33M peptide on CHARMM-GUI\n",
    "* Run L33M peptide with ALF"
   ]
  }
 ],
 "metadata": {
  "kernelspec": {
   "display_name": "Python 3 (ipykernel)",
   "language": "python",
   "name": "python3"
  },
  "language_info": {
   "codemirror_mode": {
    "name": "ipython",
    "version": 3
   },
   "file_extension": ".py",
   "mimetype": "text/x-python",
   "name": "python",
   "nbconvert_exporter": "python",
   "pygments_lexer": "ipython3",
   "version": "3.10.12"
  }
 },
 "nbformat": 4,
 "nbformat_minor": 5
}
