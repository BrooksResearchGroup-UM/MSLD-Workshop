{
 "cells": [
  {
   "cell_type": "markdown",
   "id": "58e40356-1cb9-42ef-8a44-ebeb6b468216",
   "metadata": {},
   "source": [
    "# Protein Mutation Tutorial for $\\lambda$ Dynamics Workshop"
   ]
  },
  {
   "cell_type": "markdown",
   "id": "4bb31f48-c713-4600-9a83-ca9ace51684e",
   "metadata": {},
   "source": [
    "## I. Introduction"
   ]
  },
  {
   "cell_type": "markdown",
   "id": "fdec0521-aa9e-4c18-8544-e6c3205c161d",
   "metadata": {},
   "source": [
    "### I.A. Free Energy Cycle"
   ]
  },
  {
   "cell_type": "markdown",
   "id": "b898a34b-fc9f-4ece-b452-5a06b7af1666",
   "metadata": {},
   "source": [
    "Today we will be evaluating relative protein folding free energies (i.e. relative stabilities) by considering the free energy of mutation in the folded ensemble and in the unfolded ensemble.\n",
    "\n",
    "Other free energies, such as relative protein-protein binding free energies can be obtained with these same techniques by evaluating the mutations in different ensembles.\n",
    "\n",
    "<img src=\"Figures/CycleBoth.jpg\" alf=\"cycle\" width=400/>"
   ]
  },
  {
   "cell_type": "markdown",
   "id": "88f36723-5996-45eb-b3d5-595ae7a089d9",
   "metadata": {},
   "source": [
    "### I.B. Approximations"
   ]
  },
  {
   "cell_type": "markdown",
   "id": "5e63bfb8-0872-4df4-9edd-3958e1aae1ef",
   "metadata": {},
   "source": [
    "The unfolded ensemble is structurally diverse and relaxes slowly. To avoid sampling this difficult ensemble, we note that amino acids are extended and solvent exposed in the unfolded ensemble, and approximate the unfolded ensemble with a short pentapeptide. The mutating amino acid is flanked by two non-mutating residues on each side.\n",
    "\n",
    "While a full protein is typically capped by charged caps under normal pH conditions, the ends of this peptide are artificially truncated, so we cap them with neutral groups (ACE ad CT3 in CHARMM) to avoid perturbing local electrostatics.\n",
    "\n",
    "When multiple mutation sites are considered, we approximate their effects as being additive in the unfolded ensemble, unless they are adjacent or next to adjacent in sequence. Nearby residues such as these are modeled in the same peptide with two non-mutating residues on each side."
   ]
  },
  {
   "cell_type": "markdown",
   "id": "e01fbbfc-8ebb-44a6-8769-bed7e112e1c0",
   "metadata": {},
   "source": [
    "### I.C. Patches"
   ]
  },
  {
   "cell_type": "markdown",
   "id": "858f74d9-0d46-49a2-9853-c21190f73e2a",
   "metadata": {},
   "source": [
    "For small molecule perturbations, one must go through the process of generating new patches for each new systems because the ligands and perturbations of interest are always unique. Protein mutations are more convenient in this regard. Protein mutations are always the same, so the set of patches may be generated once and applied to any system."
   ]
  },
  {
   "cell_type": "markdown",
   "id": "0f633980-a648-4d19-abee-6651232af4eb",
   "metadata": {},
   "source": [
    "#### I.C.1. Side Chain Patches"
   ]
  },
  {
   "cell_type": "markdown",
   "id": "d1e010f5-ec1e-40d6-9bcd-5c90e726c089",
   "metadata": {},
   "source": [
    "The first study amino acid mutations with $\\lambda$ dynamics (in T4 lysozyme) placed the protein backbone in the environment (with a single C$\\alpha$ atom) and used patches for the side chains (which gives many C$\\beta$ atoms). An immediately obvious limitation of this is that glycine and proline mutations cannot be treated with this approach because backbone parameters and connectivity change.\n",
    "\n",
    "This approach works because the alchemical regions are connected to the environment in just one place, via the C$\\alpha$-C$\\beta$ bond, and this allows the contribution of the unscaled bonded interactions to be factored out of the partition function by a change of variables when $\\lambda=0$. (There is a caveat here about angles.) As the free energy is proportional to the log of the partition function, their contribution to $\\Delta G$ is the same in both ensembles and cancels out.\n",
    "\n",
    "T4 Lysozyme Citation: DOI: <a href=\"https://doi.org/10.1002/pro.3500\">10.1002/pro.3500</a>"
   ]
  },
  {
   "cell_type": "markdown",
   "id": "ba9e8559-7e62-4ec8-a3e7-ce4698495bf9",
   "metadata": {},
   "source": [
    "#### I.C.2. Whole Residue Patches for Proline and Glycine"
   ]
  },
  {
   "cell_type": "markdown",
   "id": "f2b0bf3c-2250-4370-adc1-abfeae1c2607",
   "metadata": {},
   "source": [
    "An obvious limitation of the side chain perturbation scheme is that backbone parameters and connectivity change for glycine and especially for proline mutations, so they cannot be treated with the side chain perturbation scheme. An obvious alternative is to scale the entire residue by $\\lambda$. However, the alchemical group is now bonded to the rest of the system in two places, and unscaled bonds can no longer be factored out of the partition function when $\\lambda=0$. Consider an example of a problem this causes: in mutating from proline to glycine, when proline is off, the ring topology still restricts rotation around the protein $\\phi$ angle, so glycine loses entropy it ought to have in the unfolded ensemble, and the $\\Delta\\Delta G$ favors glycine more than it should, because the entropic cost of folding glycine is artificially reduced.\n",
    "\n",
    "In order to scale the entire residue by $\\lambda$ two additional techniques were developed. The first was a soft bond scaled by $\\lambda$ in the proline side chain. This allows free rotation around the backbone $\\phi$ angle when $\\lambda=0$, and while the whole residue cannot be factored out of the partition function, at least the side chains and HN atoms can be.\n",
    "\n",
    "The second development was to scale all the remaining backbone bonds which could not be factored out of the partition function by $\\lambda$ so they do not contribute to the partition function at $\\lambda=0$, and harmonically restrain these gas phase atoms to an analogous atom on another substituent so they do not drift off. These harmonic restraints can also be factored out of the partition function.\n",
    "\n",
    "These two developments lead to two additional sections in the BLOCK module. The CATS section (Constrained ATom Scaling) lists groups of atoms that are restrained together whose bonded interactions are scaled by $\\lambda$. There must be one atom from each substituent in each CATS selection. The SOBO section (SOft BOnds) list pairs of bonded atoms whose bond term (and associated angle terms) should be scaled by $\\lambda$.\n",
    "\n",
    "An additional complication of this approach is that adjacent mutations must have bonded terms added between mutated forms of the residues, necessitating a more complicated patching procedure. Fortunately, this patching is scripted.\n",
    "\n",
    "DOI: <a href=\"https://doi.org/10.1002/jcc.26525\">10.1002/jcc.26525</a>"
   ]
  },
  {
   "cell_type": "markdown",
   "id": "969f1038-f09b-4b17-8627-4f8f076ef58e",
   "metadata": {},
   "source": [
    "## II. CHARMM-GUI Setup"
   ]
  },
  {
   "cell_type": "markdown",
   "id": "2aebaae8-31ec-4093-8eac-f3e92296d832",
   "metadata": {},
   "source": [
    "Today's tutorial will focus on the three site mutant in T4 lysozyme (PDB: 1L63). The \"native\" sequence in this case already posesses two mutations to remove the disulfide bond. Within this background we will consider combinations of three mutations: I17M, I27M, and L33M. Experimental data exists for 6 of the 8 combinations:\n",
    "\n",
    "```\n",
    "17 27 33  ddG\n",
    " I  I  L  0.0\n",
    " I  I  M  2.0\n",
    " I  M  L  3.1\n",
    " I  M  M  3.05\n",
    " M  I  L  2.2\n",
    " M  I  M  ???\n",
    " M  M  L  ???\n",
    " M  M  M  3.3\n",
    "```\n",
    "\n",
    "Salt conditions are 100 mM NaCl, and temperature was 25$^{\\circ}$ C."
   ]
  },
  {
   "cell_type": "markdown",
   "id": "7cb07fe1-29a8-4671-96e4-6760770c43db",
   "metadata": {},
   "source": [
    "### II.A. Patches"
   ]
  },
  {
   "cell_type": "markdown",
   "id": "f315dc34-f529-45b2-b399-d5d0a882f064",
   "metadata": {},
   "source": [
    "Experiments were performed at a pH of 5.4. ProPKA indicates no D or E residues are protonated at this pKa, but that the H is in the protonated state. There are no disulfide bonds to include. This means no patches need to be applied on CHARMM-GUI, but HIS31 should be \"mutated\" to HSP.\n",
    "\n",
    "ProPKA may be downloaded and run through python, or can be run using CRIMM as a wrapper when one needs to determine protonation states in a new protein of interest. Disulfides can be extracted from the PDB header, by inspection, or using CRIMM.\n",
    "\n",
    "The full sequence should have NTER and CTER caps; the peptides should each have ACE and CT3 caps.\n",
    "\n",
    "Generate the folded structure and the three peptides on CHARMM-GUI. Note that you only need to generate the native sequence. Patches for alchemical mutations will be added later.\n",
    "\n",
    "<a href=\"https://www.charmm-gui.org/?doc=input/solution\">CHARMM-GUI</a>"
   ]
  },
  {
   "cell_type": "markdown",
   "id": "d19f0a20-f56b-456d-b9de-25ff5676fab0",
   "metadata": {},
   "source": [
    "## III. Setting Up prep Directories"
   ]
  },
  {
   "cell_type": "markdown",
   "id": "2ccf5d93-8ad5-4f09-b1ae-144b64699af4",
   "metadata": {},
   "source": [
    "The templates below are in CHARMM scripting language."
   ]
  },
  {
   "cell_type": "markdown",
   "id": "19436a16-4fad-467f-a0d4-c0f3e4b7c5f0",
   "metadata": {},
   "source": [
    "The first step is to finish equilibrating the output of CHARMM-GUI in the NVT and then NPT ensembles. (CHARMM-GUI only performs rudimentary minimization.) This is before we add any alchemy.\n",
    "\n",
    "Also note that there is some discrepancy between the developer version of CHARMM and the release version of CHARMM in how water angles are autogenerated, so this initial step must remove and readd the waters."
   ]
  },
  {
   "cell_type": "code",
   "execution_count": null,
   "id": "f9546952-c01e-4813-91ca-9dcc408bc546",
   "metadata": {},
   "outputs": [],
   "source": [
    "import os, sys, shutil, subprocess\n",
    "import alf\n",
    "import numpy as np\n",
    "\n",
    "gotcwd=os.getcwd()\n",
    "\n",
    "chmguidir=gotcwd+'/charmm-gui-fold'\n",
    "setupdir=gotcwd+'/charmm-gui-setup'\n",
    "tooldir=gotcwd+'/charmm-gui-tools'\n",
    "\n",
    "if not os.path.exists(setupdir):\n",
    "  os.mkdir(setupdir)\n",
    "if os.path.exists(setupdir+'/prep'):\n",
    "  shutil.rmtree(setupdir+'/prep')\n",
    "os.mkdir(setupdir+'/prep')"
   ]
  },
  {
   "cell_type": "markdown",
   "id": "cea211a5-731c-4b29-b8aa-872809668842",
   "metadata": {},
   "source": [
    "Copy the needed files from CHARMM-GUI output. Edit `toppar/toppar_water_ions.str` so that autogenerate will not add angles to water."
   ]
  },
  {
   "cell_type": "code",
   "execution_count": null,
   "id": "67980d1b-98e4-46b6-af8e-38c1aee18cc1",
   "metadata": {},
   "outputs": [],
   "source": [
    "shutil.copy(chmguidir+'/step3_pbcsetup.psf',setupdir+'/prep/')\n",
    "shutil.copy(chmguidir+'/step3_pbcsetup.crd',setupdir+'/prep/')\n",
    "shutil.copy(chmguidir+'/step3_pbcsetup.str',setupdir+'/prep/')\n",
    "shutil.copy(chmguidir+'/crystal_image.str',setupdir+'/prep/')\n",
    "\n",
    "shutil.copy(chmguidir+'/toppar.str',setupdir+'/prep/')\n",
    "if os.path.exists(setupdir+'/prep/toppar'):\n",
    "  shutil.rmtree(setupdir+'/prep/toppar')\n",
    "shutil.copytree(chmguidir+'/toppar',setupdir+'/prep/toppar')\n",
    "\n",
    "# Fix TIP3 rtf\n",
    "fpin=open(chmguidir+'/toppar/toppar_water_ions.str','r')\n",
    "fpout=open(setupdir+'/prep/toppar/toppar_water_ions.str','w')\n",
    "for line in fpin:\n",
    "  if len(line.split())>=2 and line.split()[0]=='RESI' and line.split()[1]=='TIP3':\n",
    "    fpout.write(' '.join(line.split()[0:3]+['NOANG','NODIH']+line.split()[3:])+'\\n')\n",
    "  else:\n",
    "    fpout.write(line)\n",
    "fpin.close()\n",
    "fpout.close()"
   ]
  },
  {
   "cell_type": "markdown",
   "id": "cb8be50a-96f9-472f-a504-fdda4ed947e4",
   "metadata": {},
   "source": [
    "Copy needed scripts from template directory. `eqchmgui.inp` performs minimization, NVT simulation, and NPT simulation."
   ]
  },
  {
   "cell_type": "code",
   "execution_count": null,
   "id": "840b9829-f792-41a1-b9ed-592a0a23cedd",
   "metadata": {},
   "outputs": [],
   "source": [
    "!cat charmm-gui-tools/eqchmgui.inp\n",
    "\n",
    "if not os.path.exists(tooldir):\n",
    "  print('Error missing tools directory')\n",
    "\n",
    "shutil.copy(tooldir+'/nbond.str',setupdir+'/prep/')\n",
    "\n",
    "shutil.copy(tooldir+'/eqchmgui.inp',setupdir+'/')"
   ]
  },
  {
   "cell_type": "markdown",
   "id": "7029ae10-6c3c-4d87-864e-498ee7a6acec",
   "metadata": {},
   "source": [
    "Run equilibration of the non-alchemical system"
   ]
  },
  {
   "cell_type": "code",
   "execution_count": null,
   "id": "c3953201-b94d-4e3c-aec8-d9eb67623825",
   "metadata": {},
   "outputs": [],
   "source": [
    "CHARMM=os.environ['CHARMMEXEC']\n",
    "\n",
    "os.chdir(setupdir)\n",
    "# Set OMP_NUM_THREADS=1 for BLaDE\n",
    "subprocess.call(['mpirun','-np','1','-x','OMP_NUM_THREADS=1',CHARMM,'-i','eqchmgui.inp'])\n",
    "os.chdir(gotcwd)"
   ]
  },
  {
   "cell_type": "markdown",
   "id": "c46cd2f3-c8dd-4470-92ef-a7676b47512b",
   "metadata": {},
   "source": [
    "Make the alchemical prep/name.inp script. This script should work for most CHARMM-GUI, and streams files from aa_stream to do most of the alchemical setup.\n",
    "\n",
    "If your system contains things besides water that autogeneration during alchemical patches will mess up (for example heme proteins), it is recommended to move those patches after `aa_stream/patchloop.inp`"
   ]
  },
  {
   "cell_type": "code",
   "execution_count": null,
   "id": "0b8e8162-4a87-40a5-a99d-15b1c6c57b5a",
   "metadata": {},
   "outputs": [],
   "source": [
    "!cat charmm-gui-tools/generic.inp\n",
    "\n",
    "shutil.copy(tooldir+'/generic.inp',setupdir+'/prep/fold.inp')"
   ]
  },
  {
   "cell_type": "markdown",
   "id": "4909e7e8-e6c4-4cf8-87b7-c1131546fb00",
   "metadata": {},
   "source": [
    "Make the alf_info.py file"
   ]
  },
  {
   "cell_type": "code",
   "execution_count": null,
   "id": "5131e047-c83b-49f6-893c-83a5534c8d94",
   "metadata": {},
   "outputs": [],
   "source": [
    "alf_info_str=\"\"\"\n",
    "import numpy as np\n",
    "import os\n",
    "alf_info={}\n",
    "alf_info['name']='fold'\n",
    "alf_info['nsubs']=[2,2,2]\n",
    "alf_info['nblocks']=np.sum(alf_info['nsubs'])\n",
    "alf_info['ncentral']=0\n",
    "alf_info['nreps']=1\n",
    "alf_info['nnodes']=1\n",
    "alf_info['enginepath']=os.environ['CHARMMEXEC']\n",
    "alf_info['temp']=298.15\n",
    "\"\"\"\n",
    "fp=open(setupdir+'/prep/alf_info.py','w')\n",
    "fp.write(alf_info_str)\n",
    "fp.close()"
   ]
  },
  {
   "cell_type": "markdown",
   "id": "57631c3e-7aee-47f5-b49e-069c19b4cad7",
   "metadata": {},
   "source": [
    "Define your alchemical mutations. These charmm script variables control the subsequent loops. aa_stream/README gives more instructions on how to set them. Every mutation site [i] should have resid[i] and segid[i] to indicate the segment and residue of the mutation. s[i]seq1 should always be 0 for the native residue. Subsequent mutations [j] are listed by their one letter amino acid code in s[i]seq[j].\n",
    "\n",
    "Mutations near termini are especially tricky to patch, so several additional variables are defined to control this. These 8 termini variables should be defined for every segid [s] being mutated, here only proa. nterdel_[s] and cterdel_[s] are 0 unless the length of your sequence is changing. nterres_[s] and cterres_[s] are the resids of the first and last residue of the chain. In a pentapeptide, these are resid1-2 and resid1+2 (unless the mutation is at the very end of the chain, then it's just the actual termius.) ntercap_[s] and ctercap_[s] are the capping patches. Only NTER, CTER, ACE, and CT3 are supported. (These caps have other names for proline and glycine, use the generic name here, not the specific name.) nterc_[s] and cterc_[s] are one character codes to represent the previous four caps."
   ]
  },
  {
   "cell_type": "code",
   "execution_count": null,
   "id": "b157d48b-f94a-4a6e-8970-9882b8093d31",
   "metadata": {},
   "outputs": [],
   "source": [
    "alchemical_definitions_str=\"\"\"\n",
    "! List all mutation sites and mutants at each site\n",
    "! j is hsp\n",
    "set resid1 = 17\n",
    "set s1seq1 = 0 ! i\n",
    "set s1seq2 = m\n",
    "set segid1 = PROA\n",
    "set resid2 = 27\n",
    "set s2seq1 = 0 ! i\n",
    "set s2seq2 = m\n",
    "set segid2 = PROA\n",
    "set resid3 = 33\n",
    "set s3seq1 = 0 ! l\n",
    "set s3seq2 = m\n",
    "set segid3 = PROA\n",
    "\n",
    "! Set the terminal properties of any segid mutated above\n",
    "set nterdel_proa = 0 ! 0 means don't do it\n",
    "set nterres_proa = 1\n",
    "set ntercap_proa = nter\n",
    "set nterc_proa = 2 ! 2 nter, 3 cter, 4 ace, 5 ct3\n",
    "set cterdel_proa = 0 ! 0 means don't do it\n",
    "set cterres_proa = 162\n",
    "set ctercap_proa = cter\n",
    "set cterc_proa = 3  ! 2 nter, 3 cter, 4 ace, 5 ct3\n",
    "\n",
    "! Only modify aainitl and aafinal if you're mutating things besides proteins\n",
    "set aainitl = 0\n",
    "set aafinal = @nsites\n",
    "\"\"\"\n",
    "fp=open(setupdir+'/prep/alchemical_definitions.inp','w')\n",
    "fp.write(alchemical_definitions_str)\n",
    "fp.close()"
   ]
  },
  {
   "cell_type": "markdown",
   "id": "eff13004-7c2b-49fc-b3fd-a5f3faeba81f",
   "metadata": {},
   "source": [
    "Copy in the alchemical stream files and patch files.\n",
    "\n",
    "* patchloop.inp : Adds patches for the mutating residues, adds further patches to link those residues to the neighboring residues correctly. Generates initial positions for mutated atoms from internal coordinates based on positions of native atoms.\n",
    "* selectloop.inp : Defines the alchemical selections used in the block module.\n",
    "* deleteloop.inp : Deletes the spurious intrasite, intersubstituent angles generated by autogenerate.\n",
    "* blocksetup.inp : Sets up block module with Call, Cats, ldin, ldbv, and sobo calls."
   ]
  },
  {
   "cell_type": "code",
   "execution_count": null,
   "id": "c6b65051-e293-47a8-b2b7-90fd87e8dbd8",
   "metadata": {},
   "outputs": [],
   "source": [
    "! cat aa_stream/patchloop.inp"
   ]
  },
  {
   "cell_type": "code",
   "execution_count": null,
   "id": "03db385e-c6c6-4ac7-9f3b-d9af5409c859",
   "metadata": {},
   "outputs": [],
   "source": [
    "! cat aa_stream/selectloop.inp"
   ]
  },
  {
   "cell_type": "code",
   "execution_count": null,
   "id": "46ecf5f3-677c-4b5d-96e2-961c1ad66922",
   "metadata": {},
   "outputs": [],
   "source": [
    "! cat aa_stream/deleteloop.inp"
   ]
  },
  {
   "cell_type": "code",
   "execution_count": null,
   "id": "1524bb2d-1044-4a29-a18e-2536da775165",
   "metadata": {},
   "outputs": [],
   "source": [
    "! cat aa_stream/blocksetup.inp"
   ]
  },
  {
   "cell_type": "code",
   "execution_count": null,
   "id": "26711047-841b-468b-8dc0-6f755e977725",
   "metadata": {},
   "outputs": [],
   "source": [
    "if os.path.exists(setupdir+'/prep/aa_stream'):\n",
    "  shutil.rmtree(setupdir+'/prep/aa_stream')\n",
    "shutil.copytree('aa_stream',setupdir+'/prep/aa_stream')"
   ]
  },
  {
   "cell_type": "markdown",
   "id": "22eb7cbb-cbef-423f-a7a7-551c6ff018c7",
   "metadata": {},
   "source": [
    "Do two cycles of flattening to make sure setup worked"
   ]
  },
  {
   "cell_type": "code",
   "execution_count": null,
   "id": "36ae2c4d-74db-4054-8155-d6523732aa2b",
   "metadata": {},
   "outputs": [],
   "source": [
    "os.chdir(setupdir)\n",
    "sys.path.insert(0,'') # so alf can find prep after os.chdir\n",
    "alf.initialize(engine='bladelib')\n",
    "alf.runflat(1,2,13000,39000,engine='bladelib')\n",
    "os.chdir(gotcwd)"
   ]
  },
  {
   "cell_type": "markdown",
   "id": "e375c0b3-bcba-4c6a-8c63-020c54348946",
   "metadata": {},
   "source": [
    "Copy the prep directory to `t4l_fold` to use it. (Or copy the bash files from there to `charmm-gui-setup` to continue from the two cycles we already ran.)"
   ]
  },
  {
   "cell_type": "code",
   "execution_count": null,
   "id": "e4bd4f17-b330-4e22-9f38-979b6ad0a63c",
   "metadata": {},
   "outputs": [],
   "source": [
    "os.chdir(gotcwd)\n",
    "# if os.path.exists(gotcwd+'/t4l_fold/prep'):\n",
    "#   shutil.rmtree(gotcwd+'/t4l_fold/prep')\n",
    "# shutil.copytree(setupdir+'/prep',gotcwd+'/t4l_fold/prep')\n",
    "os.system('rm -r t4l_fold/prep')\n",
    "os.system('cp -r charmm-gui-setup/prep t4l_fold/prep')"
   ]
  },
  {
   "cell_type": "markdown",
   "id": "3fbca578-86aa-494c-a93a-fab133ffd801",
   "metadata": {},
   "source": [
    "## IV. Running ALF"
   ]
  },
  {
   "cell_type": "raw",
   "id": "92eb347c-b36f-4bfd-9b80-8f40da82df02",
   "metadata": {},
   "source": [
    "# Set the SLURMOPTSMD (for molecular dynamics) and SLURMOPTSPP (for postprocessing) appropriate for your cluster\n",
    "export SLURMOPTSMD=\"--time=240 --ntasks=1 --tasks-per-node=1 --cpus-per-task=1 -p gpu --gres=gpu:1 --export=ALL\"\n",
    "export SLURMOPTSPP=\"--time=240 --ntasks=1 --tasks-per-node=1 --cpus-per-task=1 -p gpu --gres=gpu:1 --export=ALL\""
   ]
  },
  {
   "cell_type": "code",
   "execution_count": null,
   "id": "28a3d065-cb60-41d4-8dcf-651527f2c0ba",
   "metadata": {},
   "outputs": [],
   "source": [
    "os.environ['SLURMOPTSMD']='--time=240 --ntasks=1 --tasks-per-node=1 --cpus-per-task=1 -p gpu -A rhayes1_lab_gpu --gres=gpu:1 --export=ALL'\n",
    "os.environ['SLURMOPTSPP']='--time=240 --ntasks=1 --tasks-per-node=1 --cpus-per-task=1 -p gpu -A rhayes1_lab_gpu --gres=gpu:1 --export=ALL'"
   ]
  },
  {
   "cell_type": "code",
   "execution_count": null,
   "id": "9d7eb34c-d5a1-4e39-994a-870462a11d5f",
   "metadata": {},
   "outputs": [],
   "source": [
    "os.chdir(gotcwd+'/t4l_fold')\n",
    "!./subsetAll.sh\n",
    "os.chdir(gotcwd)"
   ]
  },
  {
   "cell_type": "markdown",
   "id": "990aad9a-086b-4681-8d30-0f9d6ef880f8",
   "metadata": {},
   "source": [
    "## V. Analyzing Results"
   ]
  },
  {
   "cell_type": "markdown",
   "id": "0b651c2e-13dd-4f87-a893-091706dd0d8f",
   "metadata": {},
   "source": [
    "Apply independent peptide approximation to get the free energy of the unfolded ensemble."
   ]
  },
  {
   "cell_type": "code",
   "execution_count": null,
   "id": "8d1ca691-dde8-402e-9754-ca4fd0001fda",
   "metadata": {},
   "outputs": [],
   "source": [
    "!echo I17M\n",
    "!cat prerun/t4l_i17m/Result.txt\n",
    "!echo I27M\n",
    "!cat prerun/t4l_i27m/Result.txt\n",
    "!echo L33M\n",
    "!cat prerun/t4l_l33m/Result.txt\n",
    "\n",
    "import math\n",
    "\n",
    "fpin=[]\n",
    "fpin.append(open(\"prerun/t4l_i17m/Result.txt\",\"r\"))\n",
    "fpin.append(open(\"prerun/t4l_i27m/Result.txt\",\"r\"))\n",
    "fpin.append(open(\"prerun/t4l_l33m/Result.txt\",\"r\"))\n",
    "fpout=open(\"prerun/ResultU.txt\",\"w\")\n",
    "\n",
    "i1=[]\n",
    "V=[]\n",
    "E=[]\n",
    "indices=[]\n",
    "for i in range(0,len(fpin)):\n",
    "  i1.append([])\n",
    "  V.append([])\n",
    "  E.append([])\n",
    "  indices.append(0)\n",
    "  lines=fpin[i].readlines()\n",
    "  for j in range(0,len(lines)):\n",
    "    line=lines[j].split()\n",
    "\n",
    "    i1[i].append(int(line[0]))\n",
    "    V[i].append(float(line[1]))\n",
    "    E[i].append(float(line[3]))\n",
    "\n",
    "while indices[0]<len(i1[0]):\n",
    "  Vi=0\n",
    "  Ei=0\n",
    "  for i in range(0,len(fpin)):\n",
    "    fpout.write(\"%2d \" % (i1[i][indices[i]],))\n",
    "    Vi+=V[i][indices[i]]\n",
    "    Ei=math.sqrt(Ei**2 + E[i][indices[i]]**2)\n",
    "  fpout.write(\"%8.3f +/- %5.3f\\n\" % (Vi,Ei))\n",
    "  for i in range(0,len(fpin)):\n",
    "    indices[len(fpin)-1-i]+=1\n",
    "    if indices[len(fpin)-1-i]==len(i1[len(fpin)-1-i]) and (len(fpin)-1-i)!=0:\n",
    "      indices[len(fpin)-1-i]=0\n",
    "    else:\n",
    "      break\n",
    "\n",
    "for i in range(0,len(fpin)):\n",
    "  fpin[i].close()\n",
    "fpout.close()\n",
    "\n",
    "!echo Unfolded ensemble\n",
    "!cat prerun/ResultU.txt"
   ]
  },
  {
   "cell_type": "code",
   "execution_count": null,
   "id": "6922481c-08b7-46d7-8e61-209f6202d0e9",
   "metadata": {},
   "outputs": [],
   "source": [
    "!echo folded\n",
    "!cat prerun/t4l_fold/Result.txt\n",
    "\n",
    "import math\n",
    "\n",
    "fp1=open(\"prerun/ResultU.txt\",\"r\")\n",
    "fp2=open(\"prerun/t4l_fold/Result.txt\",\"r\")\n",
    "fp3=open(\"prerun/Result.txt\",\"w\")\n",
    "\n",
    "lines1=fp1.readlines()\n",
    "lines2=fp2.readlines()\n",
    "\n",
    "nsites=len(lines1[0].split())-3\n",
    "for i in range(0,len(lines1)):\n",
    "  line1=lines1[i].split()\n",
    "  line2=lines2[i].split()\n",
    "\n",
    "  i1=[]\n",
    "  for j in range(0,nsites):\n",
    "    i1.append(int(line1[j]))\n",
    "  V=float(line2[nsites])-float(line1[nsites])\n",
    "  E=math.sqrt(float(line2[nsites+2])**2 + float(line1[nsites+2])**2)\n",
    "\n",
    "  for j in range(0,nsites):\n",
    "    fp3.write(\"%2d \" % (i1[j],))\n",
    "  fp3.write(\"%8.3f +/- %5.3f\\n\" % (V,E))\n",
    "\n",
    "fp1.close()\n",
    "fp2.close()\n",
    "fp3.close()\n",
    "\n",
    "!echo ddG\n",
    "!cat prerun/Result.txt"
   ]
  },
  {
   "cell_type": "markdown",
   "id": "f324324f-a5b7-436f-867b-2acdd484ea38",
   "metadata": {},
   "source": [
    "At this point, one could consider computing Pearson's correlation and root mean squared error with the experimental values\n",
    "\n",
    "```\n",
    "17 27 33  ddG\n",
    " I  I  L  0.0\n",
    " I  I  M  2.0\n",
    " I  M  L  3.1\n",
    " I  M  M  3.05\n",
    " M  I  L  2.2\n",
    " M  I  M  ???\n",
    " M  M  L  ???\n",
    " M  M  M  3.3\n",
    "```"
   ]
  },
  {
   "cell_type": "markdown",
   "id": "7b0d1577-ff30-4607-90b3-40d1f65f4ae3",
   "metadata": {},
   "source": [
    "## VI. Exercises"
   ]
  },
  {
   "cell_type": "markdown",
   "id": "ba83dad3-b74c-4ada-ba23-530a412b5775",
   "metadata": {},
   "source": [
    "* Set up L33M peptide on CHARMM-GUI\n",
    "* Run L33M peptide with ALF"
   ]
  }
 ],
 "metadata": {
  "kernelspec": {
   "display_name": "Python 3 (ipykernel)",
   "language": "python",
   "name": "python3"
  },
  "language_info": {
   "codemirror_mode": {
    "name": "ipython",
    "version": 3
   },
   "file_extension": ".py",
   "mimetype": "text/x-python",
   "name": "python",
   "nbconvert_exporter": "python",
   "pygments_lexer": "ipython3",
   "version": "3.10.12"
  }
 },
 "nbformat": 4,
 "nbformat_minor": 5
}
