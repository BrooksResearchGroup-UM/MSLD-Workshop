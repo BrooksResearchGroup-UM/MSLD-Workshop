{
 "cells": [
  {
   "cell_type": "markdown",
   "id": "0a9b66d9-f7bf-4a3c-877b-e4be371f56d3",
   "metadata": {},
   "source": [
    "# ALF Tutorial for $\\lambda$ Dynamics Workshop"
   ]
  },
  {
   "cell_type": "code",
   "execution_count": null,
   "id": "dcc9aa19-5d6c-40b4-8a33-eea070588eaf",
   "metadata": {},
   "outputs": [],
   "source": [
    "import alf\n",
    "import os, subprocess, shutil\n",
    "import numpy as np\n",
    "alf_tutorial_dir=os.getcwd()"
   ]
  },
  {
   "cell_type": "markdown",
   "id": "3be39ec3-2996-4388-9f4e-5feb38fadd42",
   "metadata": {},
   "source": [
    "## I. Statement of the Problem"
   ]
  },
  {
   "cell_type": "markdown",
   "id": "6836df66-00c6-4411-9d9f-04882fbbd285",
   "metadata": {},
   "source": [
    "ALF estimates free energy differences between physical states drawn from an equilibrium distribution using a histogram based estimator. States with $\\lambda>0.99$ are counted as $\\lambda=1$. The number of times a state is observed gives its probability $P_i$, which can be converted to a free energy:\n",
    "$$ G=-kT\\ln(P_i)$$"
   ]
  },
  {
   "cell_type": "markdown",
   "id": "64f0ce8a-cbe5-4fcc-9a2a-dd8f7698f2e8",
   "metadata": {},
   "source": [
    "The assumption of equilibrium gives rise to two problems\n",
    "* If states differ in free energy by more than 2-3 kcal/mol, higher free energy states will not be sampled enough to accurately estimate their probability\n",
    "* If there are barriers or traps between physical states of height $\\Delta G^{\\ddagger}$, the rate ($k$) of coming to equilibrium slows down exponentially\n",
    "$$ k \\propto \\exp(-\\Delta G^{\\ddagger}/k_BT)$$"
   ]
  },
  {
   "cell_type": "markdown",
   "id": "7bf7b2f8-8aa2-4498-bb0c-be0b32c7f00b",
   "metadata": {},
   "source": [
    "The solution to these problems is to flatten the alchemical space as a function of the alchemical coordinates $\\lambda$ to maximize the rate of convergence of the simulations"
   ]
  },
  {
   "cell_type": "markdown",
   "id": "7868ba41-d9af-42c9-9f70-0ebe84575a98",
   "metadata": {},
   "source": [
    "## II. Test System: 1,4-substituted-benzene Solvation Free Energy"
   ]
  },
  {
   "cell_type": "markdown",
   "id": "99f0eff1-44c1-4542-a397-3bbaa8e5c610",
   "metadata": {},
   "source": [
    "Solvation free energy of 1,4-substituted-benzene. Focus on vacuum side of solvation free energy to obtain quick results.\n",
    "* 5 substituents at first site\n",
    "* 6 substituents at second site (omit carboxylic acid due to protonation changes)\n",
    "\n",
    "Several experimental results are available from early SAMPL challenges"
   ]
  },
  {
   "cell_type": "markdown",
   "id": "ac2e5e56-502e-4ded-9d7e-dfcb461195f1",
   "metadata": {},
   "source": [
    "<img src=\"Figures/14benz/14benz.jpeg\" alf=\"1,4-benzene\" width=250/>\n",
    "\n",
    "Note: site 2 is mislabeled in this diagram. $\\lambda_{21}$ is correct, switch $\\lambda_{22}$ and $\\lambda_{27}$, switch $\\lambda_{23}$ and $\\lambda_{26}$, and switch $\\lambda_{24}$ and $\\lambda_{25}$."
   ]
  },
  {
   "cell_type": "markdown",
   "id": "0d7e9b77-4a89-46ad-9ea8-5e409edf16fc",
   "metadata": {},
   "source": [
    "JZ Vilseck, X Ding, RL Hayes, & CL Brooks III. Generalizing the Discrete Gibbs Sampler-Based $\\lambda$-Dynamics Approach for Multisite Sampling of Many Ligands. JCTC 17:3895–3907 (2021)\n",
    "\n",
    "DOI: <a href=https://doi.org/10.1021/acs.jctc.1c00176>10.1021/acs.jctc.1c00176</a>"
   ]
  },
  {
   "cell_type": "markdown",
   "id": "3da9cbc9-ca77-4f77-a083-184c584d04ac",
   "metadata": {},
   "source": [
    "## III. Profiles"
   ]
  },
  {
   "cell_type": "markdown",
   "id": "27b529ee-00d4-4e1d-ba2c-b3bccba307d3",
   "metadata": {},
   "source": [
    "Projections of the alchemical free energy landscape along 1-D and 2-D alchemical reaction coordinates are taken to assess whether the free energy landscape is flat\n",
    "* 1-D profiles bin as a function of a single variable (e.g. $\\lambda_{1}$)\n",
    "* 2-D profiles bin as a function of two variables (e.g. $\\lambda_{1}$ and $\\lambda_{2}$)\n",
    "* 1-D transitions profiles bin progress ($\\lambda_1/(\\lambda_1+\\lambda_2)$) only along the transition path ($\\lambda_{1}+\\lambda_{2}>0.8$)"
   ]
  },
  {
   "cell_type": "markdown",
   "id": "0611fb7b-3ad2-4779-870f-0bac0e1ea73b",
   "metadata": {},
   "source": [
    "<img src=\"Figures/Profile/Bins2.jpg\" alf=\"Bins\" width=400/>"
   ]
  },
  {
   "cell_type": "markdown",
   "id": "dfeb5097-4a8f-41f3-9c26-93596ed404e6",
   "metadata": {},
   "source": [
    "* 2-D profiles as a function of $\\lambda$ variables at two different sites may be used if there is significant coupling between sites\n",
    "\n",
    "(See optional \"ntersite\" parameter for alf module)"
   ]
  },
  {
   "cell_type": "markdown",
   "id": "d853b154-d424-4f64-a9b9-e5fb35020926",
   "metadata": {},
   "source": [
    "1-D profiles consist of 400 bins, 2-D profiles consist of 20x20 bins"
   ]
  },
  {
   "cell_type": "markdown",
   "id": "611956de-6435-4d25-9339-bb4cc1b6a0c4",
   "metadata": {},
   "source": [
    "### III.A alf.PlotFreeEnergy5() Is Useful For Visualizing Free Energy Profiles"
   ]
  },
  {
   "cell_type": "markdown",
   "id": "30127223-51dc-4a17-8134-1cc148aaec13",
   "metadata": {},
   "source": [
    "Run help on alf.PlotFreeEnergy5 to learn about usage."
   ]
  },
  {
   "cell_type": "code",
   "execution_count": null,
   "id": "4a45fda1-042f-42c7-b09c-3bf64bd87837",
   "metadata": {},
   "outputs": [],
   "source": [
    "help(alf.PlotFreeEnergy5)"
   ]
  },
  {
   "cell_type": "markdown",
   "id": "5e120d4e-1af4-483e-8bff-f498fa45f42c",
   "metadata": {},
   "source": [
    "Plot free energy profiles from early in flattening"
   ]
  },
  {
   "cell_type": "code",
   "execution_count": null,
   "id": "bcbf94b9-c727-46f2-9601-44c06193829d",
   "metadata": {},
   "outputs": [],
   "source": [
    "alf.PlotFreeEnergy5('prerun/vacuum/analysis3')"
   ]
  },
  {
   "cell_type": "markdown",
   "id": "7496654e-98e8-4b9e-aaf4-eba92379fd30",
   "metadata": {},
   "source": [
    "Plot free energy profiles from end of production"
   ]
  },
  {
   "cell_type": "code",
   "execution_count": null,
   "id": "d81a2802-b9f1-485e-a127-14371e6891a7",
   "metadata": {},
   "outputs": [],
   "source": [
    "alf.PlotFreeEnergy5('prerun/vacuum/analysis61')"
   ]
  },
  {
   "cell_type": "markdown",
   "id": "b646d5ca-6db5-46a3-a6a1-727f2f31e509",
   "metadata": {},
   "source": [
    "## IV. Biases"
   ]
  },
  {
   "cell_type": "markdown",
   "id": "f2c9ca22-457b-426d-934d-76d02594aab8",
   "metadata": {},
   "source": [
    "Alchemical barriers turn out to have similar shapes, and can be largely flattened with a simple set of biases"
   ]
  },
  {
   "cell_type": "markdown",
   "id": "83832610-313e-4506-a2de-4129134fd615",
   "metadata": {},
   "source": [
    "### IV.A. Fixed or Linear Bias (b or $\\phi$)"
   ]
  },
  {
   "cell_type": "markdown",
   "id": "f2b144dd-d5df-4b37-9152-19bc9923e6e4",
   "metadata": {},
   "source": [
    "With correct parameters, this bias ensures all perturbations at each site are equally populated\n",
    "$$U_{\\text{fixed}}=\\sum_{s=1}^M\\sum_{i=1}^{N_s} \\phi_{si}\\lambda_{si}$$"
   ]
  },
  {
   "cell_type": "markdown",
   "id": "c0b63780-8513-455f-b150-92c6a16235f1",
   "metadata": {},
   "source": [
    "<img src=\"Figures/Profile/Gphi.jpg\" alf=\"Fixed bias\" width=200/>"
   ]
  },
  {
   "cell_type": "markdown",
   "id": "5a21cd7d-4c08-4573-833f-f51dc9b090ef",
   "metadata": {},
   "source": [
    "### IV.B Quadratic Bias (c or $\\psi$)"
   ]
  },
  {
   "cell_type": "markdown",
   "id": "77b2d467-a6d3-43c9-bcf5-ac47666f1114",
   "metadata": {},
   "source": [
    "This bias is largely responsible for removing barriers in alchemical space due to electrostatic interactions\n",
    "$$U_{\\text{quad}}=\\sum_{s=1}^M\\sum_{i=1}^{N_s}\\sum_{j=i+1}^{N_s} \\psi_{si,sj}\\lambda_{si}\\lambda_{sj}$$"
   ]
  },
  {
   "cell_type": "markdown",
   "id": "49a124c0-137a-40df-8996-b0605d008d28",
   "metadata": {},
   "source": [
    "<img src=\"Figures/Profile/Gpsi.jpg\" alf=\"Quad bias\" width=200/>"
   ]
  },
  {
   "cell_type": "markdown",
   "id": "8ea0a5d6-33da-4525-b80c-d933ca7b6ec0",
   "metadata": {},
   "source": [
    "### IV.C Skew Bias (x or $\\chi$)"
   ]
  },
  {
   "cell_type": "markdown",
   "id": "a0595be3-1858-4dbf-a15c-c2ddc7a98265",
   "metadata": {
    "jp-MarkdownHeadingCollapsed": true
   },
   "source": [
    "Upon the introduction of soft cores the barriers became less symmetric, and this bias fit the residuals beyond the quadratic and end biases well\n",
    "$$U_{\\text{skew}}=\\sum_{s=1}^M\\sum_{i=1}^{N_s}\\sum_{j \\neq i}^{N_s} \\chi_{si,sj}\\lambda_{sj}(1-\\exp(\\lambda_{si}/0.18))$$"
   ]
  },
  {
   "cell_type": "markdown",
   "id": "d7b1b346-c99d-4073-a55c-d93ef40ab13c",
   "metadata": {},
   "source": [
    "<img src=\"Figures/Profile/Gchi.jpg\" alf=\"Skew bias\" width=200/>"
   ]
  },
  {
   "cell_type": "markdown",
   "id": "93ae9239-6ed7-4fbe-b80b-39329743df8c",
   "metadata": {},
   "source": [
    "### IV.D End Bias (s or $\\omega$)"
   ]
  },
  {
   "cell_type": "markdown",
   "id": "fdcc7e4f-b43f-4879-93b9-be05f00da779",
   "metadata": {},
   "source": [
    "The end bias pays the entropic and surface tension cost of displacing solvent and nearby molecules to make space for a substituent to appear \n",
    "$$U_{\\text{end}}=\\sum_{s=1}^M\\sum_{i=1}^{N_s}\\sum_{j \\neq i}^{N_s} \\omega_{si,sj}\\lambda_{sj}\\frac{\\lambda_{si}}{\\lambda_{si}+0.017}$$"
   ]
  },
  {
   "cell_type": "markdown",
   "id": "efb4ffa1-db99-4497-abf3-e8ba211fcd56",
   "metadata": {},
   "source": [
    "<img src=\"Figures/Profile/Gomega.jpg\" alf=\"End bias\" width=200/>"
   ]
  },
  {
   "cell_type": "markdown",
   "id": "43abfcdb-2466-4e7b-a3ef-90607b40d5a0",
   "metadata": {},
   "source": [
    "### IV.E Biases Are Stored in Matrices"
   ]
  },
  {
   "cell_type": "markdown",
   "id": "281deea6-f02b-4866-a323-e4a23de102fa",
   "metadata": {},
   "source": [
    "Each cycle [i] of ALF, previous biases are stored in\n",
    "* analysis[i]/b_prev.dat\n",
    "* analysis[i]/c_prev.dat\n",
    "* analysis[i]/x_prev.dat\n",
    "* analysis[i]/s_prev.dat\n",
    "\n",
    "changes to biases are stored in\n",
    "* analysis[i]/b.dat\n",
    "* analysis[i]/c.dat\n",
    "* analysis[i]/x.dat\n",
    "* analysis[i]/s.dat\n",
    "\n",
    "and new biases are stored in\n",
    "* analysis[i]/b_sum.dat\n",
    "* analysis[i]/c_sum.dat\n",
    "* analysis[i]/x_sum.dat\n",
    "* analysis[i]/s_prev.dat\n",
    "\n",
    "The b, c, x, and s matrices describe the shape of the free energy landscape. Thus, they are opposite in sign from the $\\phi$, $\\psi$, $\\chi$, and $\\omega$ parameters required to flatten the landscape."
   ]
  },
  {
   "cell_type": "markdown",
   "id": "d7536b7a-929f-4f0e-a3c8-bf0318a826fb",
   "metadata": {},
   "source": [
    "#### IV.E.1 Final Biases"
   ]
  },
  {
   "cell_type": "code",
   "execution_count": null,
   "id": "14c13420-1de8-46d4-9a7d-d7127424b4be",
   "metadata": {},
   "outputs": [],
   "source": [
    "print('Fixed bias parameters b_sum.dat')\n",
    "b=np.loadtxt('prerun/vacuum/analysis61/b_sum.dat')\n",
    "print(b)\n",
    "print('Site 1')\n",
    "print(b[0:5])\n",
    "print('Site 2')\n",
    "print(b[5:11])\n",
    "print('Quad bias parameters c_sum.dat')\n",
    "c=np.loadtxt('prerun/vacuum/analysis61/c_sum.dat')\n",
    "print(c)\n",
    "print('Site 1')\n",
    "print(c[0:5,0:5])\n",
    "print('Site 2')\n",
    "print(c[5:11,5:11])\n",
    "print('Skew bias parameters x_sum.dat')\n",
    "x=np.loadtxt('prerun/vacuum/analysis61/x_sum.dat')\n",
    "print(x)\n",
    "print('Site 1')\n",
    "print(x[0:5,0:5])\n",
    "print('Site 2')\n",
    "print(x[5:11,5:11])\n",
    "print('End bias parameters s_sum.dat')\n",
    "s=np.loadtxt('prerun/vacuum/analysis61/s_sum.dat')\n",
    "print(s)\n",
    "print('Site 1')\n",
    "print(s[0:5,0:5])\n",
    "print('Site 2')\n",
    "print(s[5:11,5:11])"
   ]
  },
  {
   "cell_type": "markdown",
   "id": "3808de53-73b3-4794-8d71-d960d98ad12c",
   "metadata": {},
   "source": [
    "Notes:\n",
    "* b(site 1, sub 1) and b(site 2, sub 1) are zero because $\\sum_i^{N_s} \\lambda_{si}=1$\n",
    "* c is upper triangular because quadratic bias is symmetric\n",
    "* s or $\\omega$ biases are near zero because this is the vacuum side of the solvation free energy calculation, and there is no solvent to push out of the way. Typically s biases are a little under 1 kcal/mol per heavy atom"
   ]
  },
  {
   "cell_type": "markdown",
   "id": "a0f81612-9ade-4de8-8804-1092def1f66e",
   "metadata": {},
   "source": [
    "## V. Algorithm Overview"
   ]
  },
  {
   "cell_type": "markdown",
   "id": "fb20f359-8e88-4b62-8d34-eb881a20f404",
   "metadata": {},
   "source": [
    "Many cycles of flattening are required because the shape of the free energy profile only becomes clear once biases are near optimal. However, even with poor biases the direction in which to change biases is quite clear from the parts of profiles that are sampled. Thus many cycles of ALF are run. Each cycle consists of molecular dynamics sampling followed by estimation of new bias parameters. Early cycles are very short to avoid wasting computational resources. Simulations get longer as the biases improve."
   ]
  },
  {
   "cell_type": "markdown",
   "id": "870b1397-0d46-468c-b2fa-c5e43f4ded07",
   "metadata": {},
   "source": [
    "ALF may be run using the following high level routines:\n",
    "* alf.initialize()\n",
    "* alf.runflat()\n",
    "* alf.runprod()\n",
    "* alf.postprocess()\n",
    "\n",
    "Users who desire or require more fine-grained control may examine these high level routines to appropriately call the low level routines upon which they rely."
   ]
  },
  {
   "cell_type": "markdown",
   "id": "09fb9f91-47e2-4656-a5ae-bde174049ef3",
   "metadata": {},
   "source": [
    "### V.A. Documentation"
   ]
  },
  {
   "cell_type": "markdown",
   "id": "9aaec014-eb22-445e-9aef-ac132f11674d",
   "metadata": {},
   "source": [
    "The ALF package was documented in detail recently. Read the README.md for an overview of how to use it. Modules and routines are described in docstrings, which can be read by calling `help(alf)` or `help(alf.runflat)` in python. There are several examples of how to use ALF in the examples directory with an INSTRUCTIONS file describing how to run them, and I expect to refine and add examples in the coming weeks."
   ]
  },
  {
   "cell_type": "markdown",
   "id": "857f22d6-8e14-49a8-bd09-29a791fd7ec7",
   "metadata": {},
   "source": [
    "### V.B. alf.initialize()"
   ]
  },
  {
   "cell_type": "markdown",
   "id": "aa168bcd-5705-42f1-93e4-aa5a05a64cf6",
   "metadata": {},
   "source": [
    "Set initial values for biases"
   ]
  },
  {
   "cell_type": "code",
   "execution_count": null,
   "id": "de4269c5-99bb-4031-b892-ac2c479dafaf",
   "metadata": {},
   "outputs": [],
   "source": [
    "help(alf.initialize)"
   ]
  },
  {
   "cell_type": "markdown",
   "id": "95d831a8-9679-438d-8ea8-b5b39dbf188a",
   "metadata": {},
   "source": [
    "### V.C. alf.runflat()"
   ]
  },
  {
   "cell_type": "markdown",
   "id": "d1630546-dfd1-431e-bef0-ab814724f7da",
   "metadata": {},
   "source": [
    "Runs several cycles of flattening"
   ]
  },
  {
   "cell_type": "code",
   "execution_count": null,
   "id": "54d855c1-d8fa-498e-8f2c-78a7238b04f5",
   "metadata": {},
   "outputs": [],
   "source": [
    "help(alf.runflat)"
   ]
  },
  {
   "cell_type": "markdown",
   "id": "0e5e6029-a4ac-4ec7-bac4-329699eb3645",
   "metadata": {},
   "source": [
    "### V.D. alf.runprod()"
   ]
  },
  {
   "cell_type": "markdown",
   "id": "140c6425-c2ee-484b-85d5-729a456cdab5",
   "metadata": {},
   "source": [
    "Run several chunks of a production run. Saves progress in chunks, usually 1 ns each."
   ]
  },
  {
   "cell_type": "code",
   "execution_count": null,
   "id": "db04035e-36d2-43ae-8071-3a18bf298d54",
   "metadata": {},
   "outputs": [],
   "source": [
    "help(alf.runprod)"
   ]
  },
  {
   "cell_type": "markdown",
   "id": "d937be30-7553-47f8-950d-9f428f8ae403",
   "metadata": {},
   "source": [
    "### V.E. alf.postprocess()"
   ]
  },
  {
   "cell_type": "markdown",
   "id": "b8ece0a9-9d2d-4284-b959-2b801d2aa453",
   "metadata": {},
   "source": [
    "Reoptimize biases and evaluate $\\Delta G$ upon chemical transformation from a production run by alf.runflat. The difference between $\\Delta G$ in two different ensembles gives the relative free energy $\\Delta \\Delta G$."
   ]
  },
  {
   "cell_type": "code",
   "execution_count": null,
   "id": "f722e0b3-8712-44fe-8616-9e041eee8cfc",
   "metadata": {},
   "outputs": [],
   "source": [
    "help(alf.postprocess)"
   ]
  },
  {
   "cell_type": "markdown",
   "id": "db76190a-dbc1-4c84-a6d4-a4c99c01c226",
   "metadata": {},
   "source": [
    "### V.F. Launching an ALF run"
   ]
  },
  {
   "cell_type": "markdown",
   "id": "753a6285-250c-46df-8239-b1053bf7f3c4",
   "metadata": {},
   "source": [
    "ALF is often run through slurm scripts on a cluster. The file `subsetAll.sh` is designed to submit an entire ALF workflow to the queue and set dependencies between jobs and job array elements appropriately. It uses the following environment variables, which you may set through this tutorial to suit your cluster. `subsetAll.sh` and the slurm scripts it submits may be found in the examples/engines directory of ALF."
   ]
  },
  {
   "cell_type": "raw",
   "id": "620bce2a-799e-4419-b0e8-9c5e8780a391",
   "metadata": {},
   "source": [
    "# Set the SLURMOPTSMD (for molecular dynamics) and SLURMOPTSPP (for postprocessing) appropriate for your cluster\n",
    "export SLURMOPTSMD=\"--time=240 --ntasks=1 --tasks-per-node=1 --cpus-per-task=1 -p gpu --gres=gpu:1 --export=ALL\"\n",
    "export SLURMOPTSPP=\"--time=240 --ntasks=1 --tasks-per-node=1 --cpus-per-task=1 -p gpu --gres=gpu:1 --export=ALL\""
   ]
  },
  {
   "cell_type": "code",
   "execution_count": null,
   "id": "b44db0d4-5198-4220-a18e-24e11c9e4526",
   "metadata": {},
   "outputs": [],
   "source": [
    "os.environ['SLURMOPTSMD']='--time=240 --ntasks=1 --tasks-per-node=1 --cpus-per-task=1 -p gpu -A rhayes1_lab_gpu --gres=gpu:1 --export=ALL'\n",
    "os.environ['SLURMOPTSPP']='--time=240 --ntasks=1 --tasks-per-node=1 --cpus-per-task=1 -p gpu -A rhayes1_lab_gpu --gres=gpu:1 --export=ALL'"
   ]
  },
  {
   "cell_type": "code",
   "execution_count": null,
   "id": "44a27bcc-12c3-47e0-bd7a-a61a859d72a3",
   "metadata": {},
   "outputs": [],
   "source": [
    "os.chdir(alf_tutorial_dir+'/vacuum')\n",
    "!./subsetAll.sh\n",
    "os.chdir(alf_tutorial_dir)"
   ]
  },
  {
   "cell_type": "markdown",
   "id": "5ea86679-7330-4ecf-86c6-30628b88f6e1",
   "metadata": {},
   "source": [
    "One could achieve comparable results without slurm by running"
   ]
  },
  {
   "cell_type": "raw",
   "id": "ea492cfb-23ff-4b7f-8748-6846706bbcb3",
   "metadata": {},
   "source": [
    "import alf\n",
    "alf.initialize(engine='pycharmm')\n",
    "alf.runflat(1,50,13000,39000,engine='pycharmm')\n",
    "alf.runflat(51,60,125000,375000,engine='pycharmm')\n",
    "alf.runprod(61,'a',0,5,engine='pycharmm')\n",
    "alf.runprod(61,'a',5,10,engine='pycharmm')\n",
    "alf.runprod(61,'b',0,5,engine='pycharmm')\n",
    "alf.runprod(61,'b',5,10,engine='pycharmm')\n",
    "alf.runprod(61,'c',0,5,engine='pycharmm')\n",
    "alf.runprod(61,'c',5,10,engine='pycharmm')\n",
    "alf.runprod(61,'d',0,5,engine='pycharmm')\n",
    "alf.runprod(61,'d',5,10,engine='pycharmm')\n",
    "alf.runprod(61,'e',0,5,engine='pycharmm')\n",
    "alf.runprod(61,'e',5,10,engine='pycharmm')\n",
    "alf.postprocess(61,2,10,5,1,True,engine='pycharmm')"
   ]
  },
  {
   "cell_type": "markdown",
   "id": "b22b148b-0c5d-4d1f-9959-ce9991ef06bf",
   "metadata": {},
   "source": [
    "Typically initial flattening runs are 0.1 ns. For this system 50 of these runs are sufficient. 100 cycles is sufficient for most systems. Some strongly charged perturbations like arginine mutations require 200 cycles. Next 10 cycles of 1 ns are typically run to further refine flattening. Then typically 5 independent trials are run for production. In this system and many solvation free energy calculations 10 ns is sufficient. In well behaved ligand and protein mutation systems 20-40 ns is sufficient. In poorly behaved systems 100 ns may be required. Larger numbers of perturbation sites typically increase sampling requirements. The largest system simulated yet with 15 perturbation sites required 12 independent trials of 400 ns for convergence."
   ]
  },
  {
   "cell_type": "markdown",
   "id": "b019b6ea-c66b-4388-af07-7d2acd9e2e7d",
   "metadata": {},
   "source": [
    "## VI. Algorithm Details"
   ]
  },
  {
   "cell_type": "markdown",
   "id": "b5787b7a-ee13-4818-8c97-da4dca7c5399",
   "metadata": {},
   "source": [
    "### VI.A. Input Format"
   ]
  },
  {
   "cell_type": "markdown",
   "id": "0d0f01fa-00a1-4222-9f11-71e30792edc1",
   "metadata": {},
   "source": [
    "In ALF, everything system specific is placed inside a directory called prep. The prep directory should contain:\n",
    "* alf_info.py : a file containing a python dictionary of basic info ALF needs\n",
    "* 14benz.py : a file setting up the system on the molecular dynamics engine of choice; the name of this file varies\n",
    "* etc... : all supporting files required by 14benz.py\n",
    "\n",
    "Detailed instructions for how to prepare these prep directories for several applications of interest will be provided over the next several days."
   ]
  },
  {
   "cell_type": "markdown",
   "id": "c22dae3c-9910-44c9-a1af-8b60cf4a9d98",
   "metadata": {},
   "source": [
    "#### VI.A.1. alf_info.py"
   ]
  },
  {
   "cell_type": "code",
   "execution_count": null,
   "id": "2cab59a4-7c2d-4ffa-8fc0-0682a28ee709",
   "metadata": {},
   "outputs": [],
   "source": [
    "!cat vacuum/prep/alf_info.py"
   ]
  },
  {
   "cell_type": "markdown",
   "id": "a7fbf112-8354-468e-b2a3-3f0a57b564f0",
   "metadata": {},
   "source": [
    "The fields are as follows:\n",
    "* name : a name for the system; ALF will look for the setup file in name.py\n",
    "* nsubs : a python list of the number of substituents at each perturbation site; the length of this list is the number of perturbation sites\n",
    "* nblocks : the total number of perturbations at all sites\n",
    "* ncentral : for use with replica exchange, set to 0 if not using replica exchange\n",
    "* nreps : for use with replica exchange, set to 1 if not using replica exchange\n",
    "* nnodes : for parallelization to multiple GPUs, values greater than 1 do not provide significant benefit for most applications\n",
    "* enginepath : the path to the molecular dynamics engine executable; not used with pyCHARMM\n",
    "* temp : the system temperature in Kelvin\n",
    "* q : an optional field that should be set for charge changing perturbations, which is a list containing the charge of each substituent"
   ]
  },
  {
   "cell_type": "markdown",
   "id": "88839b9a-e8da-4df1-a121-dbab91e4dad6",
   "metadata": {},
   "source": [
    "#### VI.A.2 14benz.py"
   ]
  },
  {
   "cell_type": "code",
   "execution_count": null,
   "id": "4b827751-ddff-4391-8357-f98be725a596",
   "metadata": {
    "scrolled": true
   },
   "outputs": [],
   "source": [
    "!cat vacuum/prep/14benz.py"
   ]
  },
  {
   "cell_type": "markdown",
   "id": "db2bd967-69f5-4d35-9074-f414cb157b10",
   "metadata": {},
   "source": [
    "This pyCHARMM script proceeds through several of the steps common to most setups on pyCHARMM\n",
    "* Reading in rtf (residue topology file) and prm (parameter) files\n",
    "* Generating a psf (protein structure file) by reading sequences (here with read.sequence_pdb)\n",
    "* Applying alchemical patches (here using lingo to submit commands like `patch p1_1 LIG 1 setup`)\n",
    "* Defining selections (conventionally with names like site1sub1 to reference alchemical groups)\n",
    "* Setting up the box (crystal.define_cubic() and image commands)\n",
    "* Setting up the block module (with lingo)\n",
    "\n",
    "The block module of CHARMM defines the alchemical portion of the calculation. However, the block module has not been effectively ported to pyCHARMM yet, so it is written as a single large script submitted through lingo. (Lingo allows one to submit commands to pyCHARMM using the original CHARMM scripting language). The \"call\" commands assign selections of atoms to various alchemical groups. The \"ldin\" commands set initial conditions, and also read the linear biases. The \"ldbi\" and \"ldbv\" commands read in the quadratic, skew, and end biases from their matrices."
   ]
  },
  {
   "cell_type": "markdown",
   "id": "c5447ca6-ad30-43d4-a306-dd44242df3ab",
   "metadata": {},
   "source": [
    "#### VI.A.3 etc..."
   ]
  },
  {
   "cell_type": "code",
   "execution_count": null,
   "id": "a995f4e2-296b-430b-b9cb-3280b087df97",
   "metadata": {},
   "outputs": [],
   "source": [
    "!ls vacuum/prep"
   ]
  },
  {
   "cell_type": "markdown",
   "id": "f058a1b5-417c-4ea4-aa98-069a80a80b69",
   "metadata": {},
   "source": [
    "### VI.B. ALF Output"
   ]
  },
  {
   "cell_type": "markdown",
   "id": "8171c35b-2bdd-4439-a00b-8759f7b72541",
   "metadata": {},
   "source": [
    "Outside the prep directory is where the output appears. This includes run[i] directories where the molecular dynamics simulations of ALF cycle [i] are performed, analysis[i] directories where new biases are estimated from the sampling recorded in run[i], and variables[i+1].py where these biases are saved to be read into pyCHARMM on the next cycle of dynamics."
   ]
  },
  {
   "cell_type": "code",
   "execution_count": null,
   "id": "ed76b335-fc93-4a60-a2bc-c127fe92a2ac",
   "metadata": {},
   "outputs": [],
   "source": [
    "!ls vacuum"
   ]
  },
  {
   "cell_type": "markdown",
   "id": "8f43f0dc-f966-4782-ac2e-f69a49e7b750",
   "metadata": {},
   "source": [
    "### VI.C. Molecular Dynamics"
   ]
  },
  {
   "cell_type": "markdown",
   "id": "9792bcc5-11fd-4d66-8501-65a8ca6ed4ad",
   "metadata": {},
   "source": [
    "ALF supports several molecular dynamics engines. The engine being used is passed to routines like alf.initialize and alf.runflat as an optional parameter named engine. Currently supported engines include\n",
    "* charmm : CHARMM script using domdec for gpu acceleration\n",
    "* bladelib : CHARMM script using BLaDE for gpu acceleration\n",
    "* blade : BLaDE script using standalone BLaDE\n",
    "* pycharmm : pyCHARMM python script using BLaDE for gpu acceleration\n",
    "\n",
    "We hope to eventually support OpenMM. System setup is very similar in other engines, but some python scripts ending in .py become CHARMM scripts ending in .inp. If you are more comfortable with CHARMM scripting than with pyCHARMM, you may wish to consider the charmm or bladelib engines."
   ]
  },
  {
   "cell_type": "markdown",
   "id": "a92dc172-5da3-4d29-b688-8e082cfe6405",
   "metadata": {},
   "source": [
    "You may have noticed there were no energy, minimization, or dynamics commands in prep/14benz.py. That is because the prep/14benz.py script is called by another pyCHARMM script, msld_flat.py for short flattening runs or msld_prod.py for longer production runs. These scripts contain the system independent parts of a $\\lambda$ dynamics molecular dynamics simulation. If these scripts do not exist, default versions of them are copied from alf/default_scripts. If the scripts do exist, they are not overwritten, because sometimes small edits are necessary (here I've edited these files to change cutoffs in both ensembles and run constant volume instead of constant pressure in the vacuum ensemble)."
   ]
  },
  {
   "cell_type": "code",
   "execution_count": null,
   "id": "9f4b8285-42f8-4488-9989-6089a1f0293d",
   "metadata": {},
   "outputs": [],
   "source": [
    "!cat vacuum/msld_flat.py"
   ]
  },
  {
   "cell_type": "markdown",
   "id": "d909d1dd-1ff7-480b-be36-ad3c6d55b9a9",
   "metadata": {},
   "source": [
    "Note that after loading pyCHARMM, this script begins by running any arguments passed by ALF (arguments.py), reading in the bias and alf_info parameters (variablesflat.py), and setting up the system (prep/14benz.py).\n",
    "\n",
    "In runflat.py, an optional minimization is performed on the first cycle of ALF. In runflat.py, two segments of dynamics are called, esteps of equilibration and nsteps of sampling. In runprod.py, only one segment of dynamics is called to run a chunk of dynamics, but that chunk starts from the restart file of the previous chunk. An appropriate number of chunks should be discarded for equilibration."
   ]
  },
  {
   "cell_type": "markdown",
   "id": "2cec5062-c920-46ff-9e6f-0d285335eb1d",
   "metadata": {},
   "source": [
    "### VI.D. alf.GetLambdas"
   ]
  },
  {
   "cell_type": "markdown",
   "id": "0df98d1b-e24b-446d-b99a-8f72518fc606",
   "metadata": {},
   "source": [
    "Walk through a cycle of flattening to see what is going on."
   ]
  },
  {
   "cell_type": "code",
   "execution_count": null,
   "id": "d7fc079e-d51c-420e-b319-9209a146cef8",
   "metadata": {},
   "outputs": [],
   "source": [
    "!ls prerun/vacuum/analysis4 # does not exist before this analysis"
   ]
  },
  {
   "cell_type": "code",
   "execution_count": null,
   "id": "f417fe06-ac7b-4a24-8e0f-871ca789d188",
   "metadata": {},
   "outputs": [],
   "source": [
    "os.chdir(alf_tutorial_dir+'/prerun/vacuum')\n",
    "alf_info=alf.initialize_alf_info('pycharmm')\n",
    "G_imp=alf_tutorial_dir+'/prerun/G_imp'\n",
    "i=4\n",
    "\n",
    "# Prep the analysis directories\n",
    "print('analysis%d started' % i)\n",
    "if not os.path.exists('analysis%d' % i):\n",
    "  os.mkdir('analysis%d' % i)\n",
    "shutil.copy('analysis%d/b_sum.dat' % (i-1),'analysis%d/b_prev.dat' % i)\n",
    "shutil.copy('analysis%d/c_sum.dat' % (i-1),'analysis%d/c_prev.dat' % i)\n",
    "shutil.copy('analysis%d/x_sum.dat' % (i-1),'analysis%d/x_prev.dat' % i)\n",
    "shutil.copy('analysis%d/s_sum.dat' % (i-1),'analysis%d/s_prev.dat' % i)\n",
    "np.savetxt('analysis%d/nsubs' % i,np.array(alf_info['nsubs']).reshape((1,-1)),fmt=' %d')\n",
    "\n",
    "if not os.path.exists('analysis%d/G_imp' % i):\n",
    "  if not G_imp:\n",
    "    G_imp_dir=os.path.dirname(os.path.abspath(__file__))+'/G_imp'\n",
    "  else:\n",
    "    G_imp_dir=G_imp\n",
    "  os.symlink(G_imp_dir,'analysis%d/G_imp' % i)\n",
    "os.chdir('analysis%d' % i)\n",
    "\n",
    "# Run the analysis\n",
    "alf.GetLambdas(alf_info,i)\n",
    "\n",
    "os.chdir(alf_tutorial_dir)"
   ]
  },
  {
   "cell_type": "markdown",
   "id": "8c47bc72-1277-43cf-89dc-c2176967ede0",
   "metadata": {},
   "source": [
    "* Copy previous biases into current analysis directory (in this case analysis4).\n",
    "* Link the G_imp directory to a precomputed directory. The implicit constraints are a nonlinear mapping from $\\theta$ space to $\\lambda$ space, so sampling will be non-uniform in $\\lambda$ space due to implicit constraints. $\\lambda$ values near physical end states are sampled more. Subtract the free energy of implicit constraints before flattening so we don't get rid of this desirable feature by flattening\n",
    "* alf.GetLambdas copies alchemical trajectory from binary format in run4/res/14benz_flat.lmd into human readable format in analysis4/data/Lambda.0.0.dat\n",
    "\n",
    "<img src=\"Figures/ImpCons/G1_6.jpg\" alf=\"Gimp\" width=250/>"
   ]
  },
  {
   "cell_type": "code",
   "execution_count": null,
   "id": "788133e3-0724-4d00-abca-1cc019ffa103",
   "metadata": {},
   "outputs": [],
   "source": [
    "!ls prerun/vacuum/analysis4/data\n",
    "!head prerun/vacuum/analysis4/data/Lambda.0.0.dat"
   ]
  },
  {
   "cell_type": "markdown",
   "id": "30cb80b9-59fe-4e49-8454-2b9f69d585cd",
   "metadata": {},
   "source": [
    "### VI.E. alf.GetEnergy"
   ]
  },
  {
   "cell_type": "markdown",
   "id": "8eef2479-fd33-4ee8-a409-1b2f3fa3516f",
   "metadata": {},
   "source": [
    "In early testing of ALF, sometimes ALF would change a biasing parameter, sampling would shift, and ALF would immediately change it back, because it effectively had no memory of why it made changes in previous cycles. To deal with this, sampling from the previous 5 cycles is agregated together. This gives a more comprehensive view of the landscape. Including significantly more than the previous 5 cycles was found to cause artifacts because older simulations far from equilibrium were treated on the same footing as more recent simulations with better biases, leading to distorted estimates of the landscape. The previous 5 cycles were all run with different biasing potentials, so they are combined with WHAM/MBAR. The WHAM/MBAR equations require the energies of each alchemical trajectory in each of the 5 biases that were used. alf.GetEnergy computes these energies."
   ]
  },
  {
   "cell_type": "code",
   "execution_count": null,
   "id": "63846d1f-89d5-4897-acea-360718a5f711",
   "metadata": {},
   "outputs": [],
   "source": [
    "os.chdir(alf_tutorial_dir+'/prerun/vacuum/analysis4')\n",
    "im5=1\n",
    "\n",
    "alf.GetEnergy(alf_info,im5,i)\n",
    "\n",
    "os.chdir(alf_tutorial_dir)"
   ]
  },
  {
   "cell_type": "markdown",
   "id": "bbb3d792-eef3-431c-b054-a818223a9612",
   "metadata": {},
   "source": [
    "The previous 5 alchemical trajectories are copied into analysis4/Lambda, and the relative energies are saved in analysis4/Energy."
   ]
  },
  {
   "cell_type": "code",
   "execution_count": null,
   "id": "140a4030-e146-4571-ba16-d06166bfa06f",
   "metadata": {},
   "outputs": [],
   "source": [
    "!ls prerun/vacuum/analysis4/Lambda\n",
    "!ls prerun/vacuum/analysis4/Energy"
   ]
  },
  {
   "cell_type": "markdown",
   "id": "ad3dc19f-df4c-4660-82d2-ebbb0ab35d72",
   "metadata": {},
   "source": [
    "### VI.F. alf.RunWham"
   ]
  },
  {
   "cell_type": "markdown",
   "id": "f96cd0e8-bfd4-47d5-b69b-f3c8b4b72954",
   "metadata": {},
   "source": [
    "alf.RunWham is a python wrapper for the GPU code compiled in the alf/wham directory during installation. This code does most of the heavy lifting of the bias optimization.\n",
    "\n",
    "First, the output of alf.GetEnergy is used to reweight all the alchemical trajectory frames from the the previous 5 (or in this case 4) simulations using WHAM/MBAR.\n",
    "\n",
    "Next, free energy profiles like those plotted above are computed by binning.\n",
    "\n",
    "A penalty function\n",
    "$$E=\\sum_p^{\\text{Profiles}}\\sum_b^{\\text{Bins}}\\frac{k_{pb}}{2}(G_{pb}-G_{pb}^{\\text{imp}}-\\bar{G}_p)^2$$\n",
    "penalizes deviations of each point $G_{pb}$ at bin $b$ on profile $p$ from the average value of that profile $\\bar{G}_p$ (after subtracting off the implicit constraint free energy $G_{pb}^{\\text{imp}}$ for that point). The $k_{pb}$ term is used to more tightly restrain some profiles (the 1-D profiles), and some bins (the endpoint bins) to the average value.\n",
    "\n",
    "Changing the bias parameters changes the weights output by WHAM/MBAR, which in turn changes $G_{pb}$. The effect of the bias parameters on each $G_{pb}$ is nonlinear, which gives rise to a nonlinear optimization problem. To simplify the problem, the nonlinear dependence of $G_{pb}$ on the bias parameters is approximated as linear. If the bias parameters $\\phi$, $\\psi$, $\\chi$, and $\\omega$ are collectively referred to as $\\alpha_i$, $G_{pb}$ may be approximated as\n",
    "$$G_{pb}(\\{\\alpha_i\\}) \\approx G_{pb} + \\sum_i^{\\text{Biases}}\\Delta \\alpha_i \\frac{\\partial G_{pb}}{\\partial \\alpha_i}$$\n",
    "A regularization term $\\sum_i 0.5 k_i \\Delta {\\alpha_i}^2$ is added by the next routine alf.GetFreeEnergy5 to prevent excessively large changes in the biases.\n",
    "\n",
    "This reduces the penalty function $E$ to a quadratic function of the changes in the biases $\\Delta \\alpha_i$, and the optimum of this quadratic function is given by a system of linear equations\n",
    "$$C\\Delta\\alpha=V$$\n",
    "The matrix $C$ and vector $V$ are written to analysis4/multisite/C.dat and analysis4/multisite/V.dat."
   ]
  },
  {
   "cell_type": "code",
   "execution_count": null,
   "id": "feddd397-d46f-40c4-bb3a-6f9a85c27df3",
   "metadata": {},
   "outputs": [],
   "source": [
    "os.chdir(alf_tutorial_dir+'/prerun/vacuum/analysis4')\n",
    "N=i-im5+1\n",
    "ntersite=[0,0]\n",
    "\n",
    "fpout=open('output','w')\n",
    "fperr=open('error','w')\n",
    "subprocess.call([shutil.which('python'),'-c','import alf; alf.RunWham(%d,%f,%d,%d)' % (N*alf_info['nreps'],alf_info['temp'],ntersite[0],ntersite[1])],stdout=fpout,stderr=fperr)\n",
    "\n",
    "os.chdir(alf_tutorial_dir)"
   ]
  },
  {
   "cell_type": "code",
   "execution_count": null,
   "id": "2bfd413f-ca2f-4fde-8761-84c84c1341a2",
   "metadata": {},
   "outputs": [],
   "source": [
    "!ls prerun/vacuum/analysis4/multisite/C.dat\n",
    "!ls prerun/vacuum/analysis4/multisite/V.dat"
   ]
  },
  {
   "cell_type": "markdown",
   "id": "c384acb4-909d-49ea-9c68-1032cf2ffe92",
   "metadata": {},
   "source": [
    "### VI.G. alf.GetFreeEnergy5"
   ]
  },
  {
   "cell_type": "markdown",
   "id": "41d3a9dd-c66e-4990-b732-015bf62c2b81",
   "metadata": {},
   "source": [
    "alf.GetFreeEnergy5 takes the $C$ matrix and $V$ vector given by alf.RunWham, adds regularization terms, inverts $C$, and solves for $\\Delta \\alpha$. If any $\\alpha_i$ parameter changes by more than a maximum value, all changes are scaled down such that no change exceeds its cap. Changes are saved to analysis4/b.dat, analysis4/c.dat, analysis4/x.dat, and analysis4/s.dat"
   ]
  },
  {
   "cell_type": "code",
   "execution_count": null,
   "id": "30ae6950-ef1c-41ce-9d52-be664c22eba4",
   "metadata": {},
   "outputs": [],
   "source": [
    "os.chdir(alf_tutorial_dir+'/prerun/vacuum/analysis4')\n",
    "\n",
    "alf.GetFreeEnergy5(alf_info,ntersite[0],ntersite[1])\n",
    "\n",
    "os.chdir(alf_tutorial_dir)"
   ]
  },
  {
   "cell_type": "code",
   "execution_count": null,
   "id": "e30690dc-2395-456c-a36e-f9a4d654c9a6",
   "metadata": {},
   "outputs": [],
   "source": [
    "!cat prerun/vacuum/analysis4/b.dat"
   ]
  },
  {
   "cell_type": "markdown",
   "id": "7ca1fbbd-a202-43f5-bfb6-1f7e7adfe66f",
   "metadata": {},
   "source": [
    "Note that substituents 2 and 3 at both sites 1 and 2 which were oversampled have negative b changes to drive sampling to other substituents."
   ]
  },
  {
   "cell_type": "markdown",
   "id": "20d37cbb-d234-4c7e-8f84-7d23e446443f",
   "metadata": {},
   "source": [
    "### VI.H. alf.SetVars"
   ]
  },
  {
   "cell_type": "markdown",
   "id": "3a72f25d-2185-45fc-af3a-f904339af9c2",
   "metadata": {},
   "source": [
    "With the hard work done, alf.SetVars saves the bias variables into a format readable by the MD engine through msld_flat.py"
   ]
  },
  {
   "cell_type": "code",
   "execution_count": null,
   "id": "e10a50d3-9c47-41e9-9a0b-5c484bb4094c",
   "metadata": {},
   "outputs": [],
   "source": [
    "os.chdir(alf_tutorial_dir+'/prerun/vacuum/analysis4')\n",
    "\n",
    "alf.SetVars(alf_info,i+1)\n",
    "\n",
    "os.chdir(alf_tutorial_dir)"
   ]
  },
  {
   "cell_type": "code",
   "execution_count": null,
   "id": "f86592b8-da42-4e51-af87-d44027a330f8",
   "metadata": {},
   "outputs": [],
   "source": [
    "!ls prerun/vacuum/variables5.py\n",
    "!head prerun/vacuum/variables5.py"
   ]
  },
  {
   "cell_type": "markdown",
   "id": "a59f76e8-39b8-4252-80d7-3831b2f269e5",
   "metadata": {},
   "source": [
    "### VI.I. Production and Postprocessing"
   ]
  },
  {
   "cell_type": "markdown",
   "id": "448a317a-792c-42d7-bfce-bea06719195a",
   "metadata": {},
   "source": [
    "In flattening by alf.runflat, dynamics and bias optimization alternate many times within a single slurm script. In production, alf.runprod performs dynamics and alf.postprocess performs bias optimization and free energy estimation.\n",
    "\n",
    "Typically 5 independent trials are run by alf.runprod during production using the same biases in order to estimate the statistical precision of the results. Each of these simulations is run with a different tag, a, b, c, d, or e. In addition, each production is divided into several cycles, typically of 1 ns each, and each call of alf.runprod is responsible for some number of these cycles (in this case 5). This makes it easy to submit production simulations that would run longer than a cluster time limit with a slurm job array where each element is significantly shorter than the time limit.\n",
    "\n",
    "alf.postprocess follows largely the same flattening algorithm as alf.runflat, but in addition uses the routine alf.GetVariance to estimate free energies. Free energies are estimated by\n",
    "$$G_i - G_0 = -k_BT \\ln(P_i/P_0) -(\\phi_i-\\phi_0)$$\n",
    "where $P_i$ is the fraction of the time ligand $i$ was sampled, $P_0$ is the fraction of the time the reference ligand was sampled, and the excess free energy contributed by the biases to each state is subtracted off. Statistical uncertainties for these free energies are estimated by bootstrapping from the 5 independent trials."
   ]
  },
  {
   "cell_type": "raw",
   "id": "9faccd7c-6ff4-4835-a5b2-cef318a95fc6",
   "metadata": {},
   "source": [
    "import alf\n",
    "alf.initialize(engine='pycharmm')\n",
    "alf.runflat(1,50,13000,39000,engine='pycharmm')\n",
    "alf.runflat(51,60,125000,375000,engine='pycharmm')\n",
    "alf.runprod(61,'a',0,5,engine='pycharmm')\n",
    "alf.runprod(61,'a',5,10,engine='pycharmm')\n",
    "alf.runprod(61,'b',0,5,engine='pycharmm')\n",
    "alf.runprod(61,'b',5,10,engine='pycharmm')\n",
    "alf.runprod(61,'c',0,5,engine='pycharmm')\n",
    "alf.runprod(61,'c',5,10,engine='pycharmm')\n",
    "alf.runprod(61,'d',0,5,engine='pycharmm')\n",
    "alf.runprod(61,'d',5,10,engine='pycharmm')\n",
    "alf.runprod(61,'e',0,5,engine='pycharmm')\n",
    "alf.runprod(61,'e',5,10,engine='pycharmm')\n",
    "alf.postprocess(61,2,10,5,1,True,engine='pycharmm')"
   ]
  },
  {
   "cell_type": "markdown",
   "id": "219176f9-d382-4eb2-83e3-d1af60699da1",
   "metadata": {},
   "source": [
    "### VI.J. Robustness"
   ]
  },
  {
   "cell_type": "markdown",
   "id": "19ad8b12-53ce-42f0-a9db-7ea8ac3e755d",
   "metadata": {},
   "source": [
    "The implementation of ALF is designed to be robust against interruptions such as simulation crashes and node failure. During alf.runflat, each cycle is repeatedly attempted until it succeeds (judged by the presence of analysis[i]/b.dat). If the slurm job goes down, alf.runflat may be relaunched and ALF will resume at the first incomplete cycle. During alf.runprod, each 1 ns chunk is attempted until it succeeds (judged by the presence of an alchemical trajectory containing the correct number of frames), and if previous instances of alf.runprod did not complete their chunks, the current instance will go back and redo their chunks."
   ]
  },
  {
   "cell_type": "markdown",
   "id": "af9fdb1c-633e-432d-a965-613d58a1e80c",
   "metadata": {},
   "source": [
    "## VII. Results"
   ]
  },
  {
   "cell_type": "markdown",
   "id": "521bf4d9-49f7-4c8c-9e69-42c6a21e319b",
   "metadata": {},
   "source": [
    "The $\\Delta G$ for an alchemical process in one physical ensemble given by alf.postprocess using alf.GetVariance has little meaning unless it is compared to the $\\Delta G$ of that same chemical process in another physical ensemble. The difference $\\Delta \\Delta G$ is the relative free energy of interest.\n",
    "\n",
    "<img src=\"Figures/CycleBoth.jpg\" alf=\"cycle\" width=400/>"
   ]
  },
  {
   "cell_type": "code",
   "execution_count": null,
   "id": "576d0f38-c782-424c-b330-6bc2541e1b83",
   "metadata": {},
   "outputs": [],
   "source": [
    "!echo vacuum\n",
    "!cat prerun/vacuum/analysis61/Result.txt\n",
    "!echo solvent\n",
    "!cat prerun/solvent/analysis61/Result.txt\n",
    "\n",
    "import math\n",
    "\n",
    "fp1=open(\"prerun/vacuum/analysis61/Result.txt\",\"r\")\n",
    "fp2=open(\"prerun/solvent/analysis61/Result.txt\",\"r\")\n",
    "fp3=open(\"prerun/Result.txt\",\"w\")\n",
    "\n",
    "lines1=fp1.readlines()\n",
    "lines2=fp2.readlines()\n",
    "\n",
    "nsites=len(lines1[0].split())-3\n",
    "for i in range(0,len(lines1)):\n",
    "  line1=lines1[i].split()\n",
    "  line2=lines2[i].split()\n",
    "\n",
    "  i1=[]\n",
    "  for j in range(0,nsites):\n",
    "    i1.append(int(line1[j]))\n",
    "  V=float(line2[nsites])-float(line1[nsites])\n",
    "  E=math.sqrt(float(line2[nsites+2])**2 + float(line1[nsites+2])**2)\n",
    "\n",
    "  for j in range(0,nsites):\n",
    "    fp3.write(\"%2d \" % (i1[j],))\n",
    "  fp3.write(\"%8.3f +/- %5.3f\\n\" % (V,E))\n",
    "\n",
    "fp1.close()\n",
    "fp2.close()\n",
    "fp3.close()\n",
    "\n",
    "!echo ddG\n",
    "!cat prerun/Result.txt"
   ]
  },
  {
   "cell_type": "markdown",
   "id": "d4a8d291-12ce-44c0-b1ad-f4790531a96d",
   "metadata": {},
   "source": [
    "## VIII. Further Practice"
   ]
  },
  {
   "cell_type": "markdown",
   "id": "e3650d3f-0628-4aaf-8434-f0899c31001c",
   "metadata": {},
   "source": [
    "* Run the solvent side of the calculation 1,4-substituted-benzene solvation free energy calculation in the solvent directory\n",
    "* Read the INSTRUCTIONS file in the ALF respository examples directory, and use the bladelib engine to run the unfolded side of T4 lysozyme (from the directory examples/systems/prep_T4L149U_charmm)"
   ]
  }
 ],
 "metadata": {
  "kernelspec": {
   "display_name": "Python 3 (ipykernel)",
   "language": "python",
   "name": "python3"
  },
  "language_info": {
   "codemirror_mode": {
    "name": "ipython",
    "version": 3
   },
   "file_extension": ".py",
   "mimetype": "text/x-python",
   "name": "python",
   "nbconvert_exporter": "python",
   "pygments_lexer": "ipython3",
   "version": "3.10.12"
  }
 },
 "nbformat": 4,
 "nbformat_minor": 5
}
