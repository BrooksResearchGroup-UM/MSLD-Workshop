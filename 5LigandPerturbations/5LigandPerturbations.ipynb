{
 "cells": [
  {
   "cell_type": "markdown",
   "id": "d1a1ce43",
   "metadata": {},
   "source": [
    "# Tutorial for MS$\\lambda$D Small Molecule Ligand Perturbations"
   ]
  },
  {
   "cell_type": "markdown",
   "id": "6b7a3aad",
   "metadata": {},
   "source": [
    "This tutorial assumes that you have pyCHARMM and pyALF working within your Conda environment and that the MMTSB toolset is installed and accessible."
   ]
  },
  {
   "cell_type": "markdown",
   "id": "85c550ac",
   "metadata": {},
   "source": [
    "### Prior to starting this tutorial:  \n",
    "- Your protein-ligand complex should be solvated in a periodic box of water (e.g. a cube, etc.). The FAAH system used in this tutorial has been solvated in TIP3P water with an ionic buffer using the CHARMM-GUI. These files can be found in `../4msld-py-prep/faah_prep/faah_charmmgui`\n",
    "\n",
    "\n",
    "- Your congeneric ligand series should have been processed with msld-py-prep to generate the hybrid multiple topology and parameter files needed to work with MSλD in CHARMM. A copy of these files can be found in `./faah_prep/msld-py-prep`"
   ]
  },
  {
   "cell_type": "markdown",
   "id": "d877b48b",
   "metadata": {},
   "source": [
    "## 1) Create `protein` and `water` MS$\\lambda$D  working directories"
   ]
  },
  {
   "cell_type": "markdown",
   "id": "0015563f",
   "metadata": {},
   "source": [
    "Copy the `template_protein` and `template_water` directories for MS$\\lambda$D into new `protein` and `water` directories, respectively"
   ]
  },
  {
   "cell_type": "code",
   "execution_count": null,
   "id": "2f0a6ebb",
   "metadata": {},
   "outputs": [],
   "source": [
    "! cp -r template_protein protein\n",
    "! cp -r template_water water"
   ]
  },
  {
   "cell_type": "markdown",
   "id": "d39d4ec5",
   "metadata": {},
   "source": [
    "## 2) Set up the `prep` directories"
   ]
  },
  {
   "cell_type": "markdown",
   "id": "ee338a1a",
   "metadata": {},
   "source": [
    "First, let's set up the protein/prep directory. Copy the `faah_prep/msld-py-prep/build.faah` directory into `protein` as `prep`. The pdb coordinates in these ligand files were previously aligned with the solvated protein-ligand complex from the CHARMM-GUI before msld-py-prep was originally run."
   ]
  },
  {
   "cell_type": "code",
   "execution_count": null,
   "id": "fb119779",
   "metadata": {},
   "outputs": [],
   "source": [
    "! cp -r faah_prep/msld-py-prep/build.faah ./protein/prep"
   ]
  },
  {
   "cell_type": "markdown",
   "id": "aa2ab9ee",
   "metadata": {},
   "source": [
    "Next, we need to generate pdb files for the rest of the protein-ligand complex, specifically for: the protein, water molecules, and ions. One way we can approach this (and there are other ways) is to split apart the solvated system pdb file (`step2_solvator.pdb`) that was obtained from the CHARMM-GUI into separate pdb files. For convenience, `step2_solvator.pdb` can be found in `faah_prep/split_complex`. An additional script, `list_segids.py`, is also found in that directory. This script reads an input pdb file and breaks it apart into separate pdb files by segid. (The script assumes it is given a CHARMM-formmatted pdb file). Running this script on `step2_solvator.pdb` will provide us with protein (proa.pdb), water (solv.pdb), and ion (ion.pdb) pdb files. Next, we need to copy these files into our `protein/prep` directory."
   ]
  },
  {
   "cell_type": "code",
   "execution_count": null,
   "id": "f8282f27",
   "metadata": {},
   "outputs": [],
   "source": [
    "import os\n",
    "os.chdir('./faah_prep/split_complex') #! cd faah_prep/split_complex\n",
    "! python list_segids.py step2_solvator.pdb\n",
    "! cp proa.pdb ../../protein/prep/\n",
    "! cp solv.pdb ../../protein/prep/\n",
    "! cp ions.pdb ../../protein/prep/\n",
    "os.chdir('../../protein') #! cd ../../protein/"
   ]
  },
  {
   "cell_type": "markdown",
   "id": "d1c04011",
   "metadata": {},
   "source": [
    "Within the `protein` directory, we'll finish setting up the `prep` directory by (manually) editing the following files and moving them into `prep`:\n",
    "\n",
    "**1) alf_info:**\n",
    "This script contains important variables for running ALF\n",
    " - edit the `name` key value to be 'protein' *(this corresponds to the `protein.py` file)*\n",
    " - edit the `nsubs` key value to match the number of substituents you're planning to sample with MS$\\lambda$D (e.g. 6 for this tutorial)\n",
    " - check other key values. In most cases, these will remain unchanged. In some cases, the temperature (`temp`) or the `enginepath` may be different. For using pyCHARMM, the `enginepath` is set to `''`.\n",
    " \n",
    "**2) protein.py:**\n",
    "This is a pyCHARMM MS$\\lambda$D script that loads the full alchemical system into CHARMM prior to running minimization or  dynamics (those functions are called in `msld_flat.py` and `msld_prod.py` as part of running ALF); therefore, we often consider the `protein.py` script to be *system specific* and it must be edited to match the needs of your system. For example, the following variables or sections are often edited:\n",
    " - the box and pme-grid sizes (variables named `box` and `pmegrid`, respectively)\n",
    " - the `pert` dictionary, which defines which ligand (or protein side-chain) mutations should be sampled. For ligand perturbations, we list the substituent numbers, the ligand segid, and the ligand resid.\n",
    " - the sections where the protein, solvent, and ions are read into CHARMM (denoted with `#read in protein` or `#read in solvent and ions` comment lines). Pay special attention to file names and segid names in these sections. And, in some systems, more than one protein, solvent, or ion file may need to be read in.\n",
    " - `image.setup_segment` or `image.setup_residue` lines should be updated. Proteins and ligands are modeled with `image.setup_segment`, and solvent or ions are modeled with `image.setup_residue`. Adjust the segid names as appropriate.\n",
    " - the rest of protein.py sets up the BLOCK module within CHARMM. For most ligand perturbations, no edits are required here."
   ]
  },
  {
   "cell_type": "code",
   "execution_count": null,
   "id": "f0c10600",
   "metadata": {},
   "outputs": [],
   "source": [
    "# In this tutorial, these files are already pre-edited for the FAAH example \n",
    "# system, and they can be moved directly into prep\n",
    "! mv alf_info.py prep/\n",
    "! mv msld_patch.py prep/\n",
    "! mv protein.py prep/\n",
    "os.chdir('../') #! cd ../"
   ]
  },
  {
   "cell_type": "markdown",
   "id": "4cd3d7dd",
   "metadata": {},
   "source": [
    "Next, let's set up the `water/prep` directory. Back in `faah_prep/msld-py-prep`, we need to run `Lg_Solvate.sh`. This script uses the *convpdb.pl* utility from the MMTSB to solvate the ligand (& its substituents) in a cubic box of TIP3P water. All ligand pdb files in `build.faah` are translated into the center of the newly generated solvent box, and all other toppar files are copied over. A `solv_prep` directory is created in this process, and we need to copy it into our `water` MS$\\lambda$D working directory. It is also important to record the size of the generated box. This information will be used later when modifying the `water/water.py` script."
   ]
  },
  {
   "cell_type": "code",
   "execution_count": null,
   "id": "db2aa851",
   "metadata": {},
   "outputs": [],
   "source": [
    "os.chdir('./faah_prep/msld-py-prep') # cd ./faah_prep/msld-py-prep\n",
    "# the 12.0 in the next line specifies the buffer distance from the molecule to the edge of the box\n",
    "! bash Lg_Solvate.sh 12.0\n",
    "! cp -r solv_prep ../../water/prep\n",
    "os.chdir('../../water') # cd ../../water"
   ]
  },
  {
   "cell_type": "markdown",
   "id": "752fb705",
   "metadata": {},
   "source": [
    "Similar to the steps we took above in `protein`, we'll finish setting up the `prep` directory within `water` by (manually) editing the following files and moving them into `prep`:\n",
    "\n",
    "**1) alf_info:**\n",
    "This script contains important variables for running ALF\n",
    " - edit the `name` key value to be 'water' *(this corresponds to the `water.py` file)*\n",
    " - edit the `nsubs` key value to match the number of substituents you're planning to sample with MS$\\lambda$D (e.g. 6 for this tutorial)\n",
    " - check other key values. In most cases, these will remain unchanged. In some cases, the temperature (`temp`) or the `enginepath` may be different. For using pyCHARMM, the `enginepath` is set to `''`.\n",
    " \n",
    "**2) water.py:**\n",
    "This is a pyCHARMM MS$\\lambda$D script for the unbound-solvated ligand simulation. Similar to `protein.py`, `water.py` should be edited to match the system being modeled. For example, the following variables or sections are often edited:\n",
    " - the box and pme-grid sizes (variables named `box` and `pmegrid`, respectively)\n",
    " - the `pert` dictionary, which defines which ligand (or protein side-chain) mutations should be sampled. For ligand perturbations, we list the substituent numbers, the ligand segid, and the ligand resid.\n",
    " - the sections where the solvent and ions are read into CHARMM (denoted with a `#read in solvent and ions` comment line). Pay special attention to file names and segid names in these sections. And, in some systems, more than one solvent or ion file may need to be read in. Also note that lines related to reading in protein files are commented out.\n",
    " - `image.setup_segment` or `image.setup_residue` lines should be updated. Ligands are modeled with `image.setup_segment`, and solvent or ions are modeled with `image.setup_residue`. Adjust the segid names as appropriate.\n",
    " - the rest of water.py sets up the BLOCK module within CHARMM. For most ligand perturbations, no edits are required here."
   ]
  },
  {
   "cell_type": "code",
   "execution_count": null,
   "id": "07f6e269",
   "metadata": {},
   "outputs": [],
   "source": [
    "# In this tutorial, these files are already pre-edited for the FAAH example \n",
    "# system, and they can be moved directly into prep\n",
    "! mv alf_info.py prep/\n",
    "! mv msld_patch.py prep/\n",
    "! mv water.py prep/\n",
    "os.chdir('../') #! cd ../"
   ]
  },
  {
   "cell_type": "markdown",
   "id": "7013f7d8",
   "metadata": {},
   "source": [
    "## 3) Customize runtime scripts"
   ]
  },
  {
   "cell_type": "markdown",
   "id": "21adc296",
   "metadata": {},
   "source": [
    "Now that the `protein/prep` and `water/prep` directories are set up, we're almost ready to start running both ALF/MS$\\lambda$D simulations.\n",
    "\n",
    "However, before we can start ALF, `runflat.sh`, `runprod.sh`, and `postprocess.sh` files need to correctly load your Conda virtual environment. In each file, edit lines 3 and 4 so that the scripts will correctly load your python environment when they are called by `subsetAll.sh`.\n",
    "\n",
    "`subsetAll.sh` also needs to be edited to reflect your local cluster's queuing system. The current scripts are set up to work with Slurm. In this case, edit lines 4 and 5 the your cluster's walltime restrictions, partition name, and gpu specifications (if appropriate). If your cluster does not use slurm, edit lines 4 and 5, as well as all other lines that use the `sbatch` slurm command, and replace these with commands appropriate for your system.\n",
    "\n",
    "After these edits have been made, the ALF/MS$\\lambda$D calculations can begin by executing `subsetAll.sh`."
   ]
  },
  {
   "cell_type": "code",
   "execution_count": null,
   "id": "1e3df646",
   "metadata": {},
   "outputs": [],
   "source": [
    "! echo \"In both protein and water directories\"\n",
    "! echo \"Edit runflat.sh, runprod.sh, postprocess.sh to correctly load your local python virtual environment\"\n",
    "! echo \"Edit subsetAll.sh to match your cluster's queuing setup (slurm, etc.)\"\n",
    "! echo \"When ready, submit the job by executing the subsetAll.sh script\""
   ]
  },
  {
   "cell_type": "markdown",
   "id": "538d0731",
   "metadata": {},
   "source": [
    "## 4) Run ALF/MS$\\lambda$D"
   ]
  },
  {
   "cell_type": "markdown",
   "id": "4043cb45",
   "metadata": {},
   "source": [
    "To submit the jobs, change into `protein` and `water` directories and run:\n",
    "`bash subsetAll.sh > job.log; more job.log`"
   ]
  },
  {
   "cell_type": "code",
   "execution_count": null,
   "id": "6ec5615a",
   "metadata": {},
   "outputs": [],
   "source": [
    "os.chdir('./protein')\n",
    "! bash subsetAll.sh > job.log; more job.log\n",
    "os.chdir('../water')\n",
    "! bash subsetAll.sh > job.log; more job.log\n",
    "os.chdir('../')"
   ]
  },
  {
   "cell_type": "markdown",
   "id": "d73cfc13",
   "metadata": {},
   "source": [
    "## 6) ALF/MS$\\lambda$D Output"
   ]
  },
  {
   "cell_type": "markdown",
   "id": "ef3bdea2",
   "metadata": {},
   "source": [
    "In the current setup, ALF will perform 113 short (100 ps -1 ns-long) MS$\\lambda$D simulations for adaptive flattening. These simulations are performed in directories called `run1`, `run2`, ..., `run113`. Next, a brief 5 ns pre-production run is performed with 5 independent trials (labeled `run114a`, `run114b`, ..., `run114e`). And finally, two full production runs (`run115` and `run116`) are performed with 5 independent trials (`a-e`) for 25 ns and 50 ns, respectively. \n",
    "\n",
    "Upon completion of all ALF/MS$\\lambda$D calculations, free energy differences are computed and reported in `analysis115/Result.txt` and `analysis116/Result.txt`."
   ]
  },
  {
   "cell_type": "markdown",
   "id": "920ba525",
   "metadata": {},
   "source": [
    "## 7) Compute the $\\Delta$$\\Delta$G(binding) results"
   ]
  },
  {
   "attachments": {},
   "cell_type": "markdown",
   "id": "e7fd29fb",
   "metadata": {},
   "source": [
    "<img src=\"binding_thermodynamic_cycle.png\" width=\"400\">\n",
    "\n",
    "Using the above thermodynamic cycle for calculating relative differences in binding affinities between two or more ligands, our $\\Delta$$\\Delta$*G*(bind) can be computed by taking the results in `protein/analysis115/Result.txt` and subtracting from them the reults  in `water/analysis115/Result.txt`.\n",
    "\n"
   ]
  },
  {
   "cell_type": "markdown",
   "id": "04a19958",
   "metadata": {},
   "source": [
    "An example `analysis115` directory can be found in `finished_example`. The `collect_ddg.py` script can be used to calculate the $\\Delta$$\\Delta$*G*(bind) results\n"
   ]
  },
  {
   "cell_type": "code",
   "execution_count": null,
   "id": "5891903e",
   "metadata": {
    "scrolled": true
   },
   "outputs": [],
   "source": [
    "os.chdir('./finished_example')\n",
    "! python collect_ddg.py 115\n",
    "os.chdir('../')"
   ]
  },
  {
   "cell_type": "markdown",
   "id": "fe3b3a08",
   "metadata": {},
   "source": [
    "## Finished"
   ]
  }
 ],
 "metadata": {
  "kernelspec": {
   "display_name": "Python 3 (ipykernel)",
   "language": "python",
   "name": "python3"
  },
  "language_info": {
   "codemirror_mode": {
    "name": "ipython",
    "version": 3
   },
   "file_extension": ".py",
   "mimetype": "text/x-python",
   "name": "python",
   "nbconvert_exporter": "python",
   "pygments_lexer": "ipython3",
   "version": "3.9.17"
  }
 },
 "nbformat": 4,
 "nbformat_minor": 5
}
