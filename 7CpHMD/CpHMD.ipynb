{
 "cells": [
  {
   "cell_type": "markdown",
   "id": "2892e077-e098-41fe-bceb-c25389a932d1",
   "metadata": {
    "tags": []
   },
   "source": [
    "# Constant pH molecular dynamics in MS$\\lambda$D framework"
   ]
  },
  {
   "cell_type": "markdown",
   "id": "21da7183-6555-4fb7-8490-cff197c441f6",
   "metadata": {
    "tags": []
   },
   "source": [
    "## Introduction"
   ]
  },
  {
   "cell_type": "markdown",
   "id": "7fe63bc3-dc6a-43d4-a44d-51b2201bd0cf",
   "metadata": {
    "jp-MarkdownHeadingCollapsed": true,
    "tags": []
   },
   "source": [
    "### The objective of this tutorial is to illustrate how to perform constant pH molecular dynamics (CpHMD) simulations using MS$\\lambda$D. We will learn:\n",
    "- ### The physical principle behind CpHMD\n",
    "- ### How to set up a CpHMD simulation for model compound: Lys in water\n",
    "- ### How to set up a CpHMD simulation for a peptide\n",
    "- ### Analysis of the simulation results: get titration curve and pKa\n",
    "- ### Remarks about advanced techniques"
   ]
  },
  {
   "cell_type": "markdown",
   "id": "f208ad66-f302-427e-9225-69247887598e",
   "metadata": {
    "tags": []
   },
   "source": [
    "## (1) The physical principle behind CpHMD"
   ]
  },
  {
   "cell_type": "markdown",
   "id": "b4962210-bb62-4fec-b793-e580cc7c0eab",
   "metadata": {},
   "source": [
    "<img src=\"fig/Fig1-thermodynamic-cycle.jpg\" width=500/>"
   ]
  },
  {
   "cell_type": "markdown",
   "id": "c7f2f636-a4e9-4156-9d9c-274ba3d08bc0",
   "metadata": {},
   "source": [
    "<img src=\"fig/Fig2-pka-eqn.jpg\" width=600 />"
   ]
  },
  {
   "cell_type": "markdown",
   "id": "6d0a6adf-391f-4ff1-b72d-5f63db96420f",
   "metadata": {},
   "source": [
    "### According to Eq. 5, if we know the $pK_a$ of model compound, we can use $\\Delta\\Delta G=\\Delta G_{protein}-\\Delta G_{model}$ to compute the $pK_a$ of a titratable group in the protein environment. Here we assume that the non-MM part (i.e., quantum effects that can not be described by molecular mechanics) of $\\Delta G$ is the same for both legs."
   ]
  },
  {
   "cell_type": "markdown",
   "id": "c1d3a1ed-c372-4f32-8824-7189c0fe6ac9",
   "metadata": {},
   "source": [
    "### The potential energy of the system in MS$\\lambda$D is as follows. Here, the purpose of using $V_{bias}(\\{\\lambda\\})$ is to flatten the alchemical free energy landscape, such that we can get sufficient sampling of all end states. For instance, for a Lys dipeptide in water, if $V_{bias}(\\{\\lambda\\})$ is the negative of corresponding potential of mean force (PMF), we can obtain effcient sampling in alchemical space in MS$\\lambda$D simulations."
   ]
  },
  {
   "cell_type": "markdown",
   "id": "85fad3fb-b778-42f0-b1e4-5e7bd5c250c4",
   "metadata": {},
   "source": [
    "<img src='fig/Fig3-msld-energy-1.jpg' width=800 />"
   ]
  },
  {
   "cell_type": "markdown",
   "id": "1a8ec118-e079-4460-a541-afd91385fcef",
   "metadata": {},
   "source": [
    "A | B\n",
    "- | - \n",
    "![alt](fig/Fig4-lys-free-ener-profile.jpg) | ![alt](fig/Fig5-lys-lmd-trj.jpg)"
   ]
  },
  {
   "cell_type": "markdown",
   "id": "6706b193-eafa-4caa-9ff1-7c82c4af87fa",
   "metadata": {},
   "source": [
    "### The goal of ALF is to obtain optimal $V_{bias}(\\{\\lambda\\})$ using short trial simulations. In MS$\\lambda$D framework, there are four types of biasing potential so far. In CpHMD, two of them are more important, the fixed term $V_{fixed}(\\{\\lambda\\})$, and the quadratic term $V_{quadratic}(\\{\\lambda\\})$. The linear term $V_{fixed}(\\{\\lambda\\})$ is to make the free energies of different protonation states the same, and the quadratic term $V_{quadratic}(\\{\\lambda\\})$ is to lower the free energy barrier between different protonation states and it doesn't perturb the end states."
   ]
  },
  {
   "cell_type": "markdown",
   "id": "71dc89af-05ba-46c8-b953-688afebd9909",
   "metadata": {},
   "source": [
    "<img src='fig/Fig3-msld-energy-2.jpg' width=800 />"
   ]
  },
  {
   "cell_type": "markdown",
   "id": "8fb738eb-7c69-4c6c-befd-eae2d23cb740",
   "metadata": {},
   "source": [
    "<table><tr>\n",
    "<td> <img src=\"fig/fixed.jpg\" alt=\"Drawing\" style=\"width: 500px;\"/> </td>\n",
    "<td> <img src=\"fig/quad.jpg\" alt=\"Drawing\" style=\"width: 500px;\"/> </td>\n",
    "</tr></table>"
   ]
  },
  {
   "cell_type": "markdown",
   "id": "59f94e44-5ecd-4ce1-8cf4-607d81d809c9",
   "metadata": {},
   "source": [
    "## (2) Set up a CpHMD simulation for model compound: Lys in water"
   ]
  },
  {
   "cell_type": "markdown",
   "id": "2755617a-a9de-4231-a1c2-bbd0d71528b8",
   "metadata": {},
   "source": [
    "### Here, we will simulate a Lys dipeptide in water with $pH$ equal to its experimental $pK_a$. ALF will be used to optimize the biasing potential $V_{bias}(\\{\\lambda\\})$. Based on the above equation, we can see that when $pH = pK_a$, the pH dependent term in $V_{fixed}(\\{\\lambda\\})$ is zero. To obtain equal population of protonated and unprotonated states, parameters of $V_{fixed}(\\{\\lambda\\})$ obtained from ALF should reflect the pronation free energy of Lys in water (i.e., $\\Delta G_{model}$)."
   ]
  },
  {
   "cell_type": "markdown",
   "id": "5723bc9f-3023-482f-bc70-479ab9630a40",
   "metadata": {},
   "source": [
    "### (2.1) Use ALF to obtain optimal $V_{bias}(\\{\\lambda\\})$"
   ]
  },
  {
   "cell_type": "code",
   "execution_count": 1,
   "id": "56a84039-a561-4396-9b98-49ffe9fdf0d5",
   "metadata": {
    "collapsed": true,
    "jupyter": {
     "outputs_hidden": true
    }
   },
   "outputs": [],
   "source": [
    "# import pycharmm and other necessary modules\n",
    "import os\n",
    "import sys\n",
    "import subprocess\n",
    "import numpy as np\n",
    "import pandas as pd\n",
    "import shlex\n",
    "import matplotlib.pyplot as plt\n",
    "from scipy.optimize import curve_fit\n",
    "\n",
    "\n",
    "import alf\n",
    "from alf.GetLambda import GetLambda\n",
    "import shutil\n",
    "\n",
    "import pycharmm\n",
    "import pycharmm.read as read\n",
    "import pycharmm.lingo as lingo\n",
    "import pycharmm.generate as gen\n",
    "import pycharmm.settings as settings\n",
    "import pycharmm.write as write\n",
    "import pycharmm.nbonds as nbonds\n",
    "import pycharmm.ic as ic\n",
    "import pycharmm.coor as coor\n",
    "import pycharmm.energy as energy\n",
    "import pycharmm.dynamics as dynb\n",
    "import pycharmm.minimize as minimize\n",
    "import pycharmm.crystal as crystal\n",
    "import pycharmm.select as select\n",
    "import pycharmm.image as image\n",
    "import pycharmm.psf as psf\n",
    "import pycharmm.param as param\n",
    "import pycharmm.cons_harm as cons_harm\n",
    "import pycharmm.cons_fix as cons_fix\n",
    "import pycharmm.shake as shake\n",
    "import pycharmm.scalar as scalar\n",
    "import pycharmm.charmm_file as charmm_file\n"
   ]
  },
  {
   "cell_type": "markdown",
   "id": "2c8fcdfe-d053-432f-a279-f593fd5e56b4",
   "metadata": {},
   "source": [
    "#### Environmental variables `CHARMM_LIB_DIR` and `ALF_SOURCE_DIR` need to be defined before running this script"
   ]
  },
  {
   "cell_type": "code",
   "execution_count": 2,
   "id": "af3b33e2-5e4c-474f-bc6c-7ee4a30d2c84",
   "metadata": {
    "collapsed": true,
    "jupyter": {
     "outputs_hidden": true
    }
   },
   "outputs": [
    {
     "name": "stdout",
     "output_type": "stream",
     "text": [
      "/home/xrliu/program/charmm/stable/charmm-compile/build_pycharmm/install/lib\n",
      "/home/xrliu/program/ALF\n"
     ]
    }
   ],
   "source": [
    "pyCHARMM_LIB = '/home/xrliu/program/charmm/stable/charmm-compile/build_pycharmm/install/lib'\n",
    "if os.getenv('CHARMM_LIB_DIR') == None:\n",
    "    os.environ['CHARMM_LIB_DIR'] = pyCHARMM_LIB\n",
    "print(os.getenv('CHARMM_LIB_DIR'))\n",
    "\n",
    "\n",
    "ALF_SOURCE_DIR = '/home/xrliu/program/ALF'\n",
    "if os.getenv('ALF_SOURCE_DIR') == None:\n",
    "     os.environ['ALF_SOURCE_DIR'] = ALF_SOURCE_DIR\n",
    "print(os.getenv('ALF_SOURCE_DIR'))"
   ]
  },
  {
   "cell_type": "markdown",
   "id": "b97b426a-27a9-49ac-8f1a-4e0b81798044",
   "metadata": {},
   "source": [
    "#### The following variables need to be defined to reflect information of the system. A particularly important file is prep/alf_info.py. This will be used by ALF."
   ]
  },
  {
   "cell_type": "code",
   "execution_count": 3,
   "id": "2c17bf3c-d103-4a0c-a28d-819b7fa3653c",
   "metadata": {
    "collapsed": true,
    "jupyter": {
     "outputs_hidden": true
    }
   },
   "outputs": [],
   "source": [
    "segid='PROT'   # segment ID for the peptide\n",
    "tsim=298.15    # simulation temperature\n",
    "\n",
    "param_dir='./toppar_c36_jul21' # force field parameter directory\n",
    "comp='glu'                     # residue name\n",
    "wrk_dir=f'./water-{comp}'      # working directory\n",
    "\n",
    "\n",
    "\n",
    "# The following information is from file prep/alf_info.py\n",
    "cwd=os.getcwd()\n",
    "os.chdir(wrk_dir)\n",
    "alf_info=alf.initialize_alf_info('charmm')\n",
    "os.chdir(cwd)\n",
    "\n",
    "name=alf_info['name']\n",
    "nblocks=alf_info['nblocks']\n",
    "nsubs=alf_info['nsubs']\n",
    "nsites=len(alf_info['nsubs'])\n",
    "nreps=alf_info['nreps']\n",
    "nnodes=alf_info['nnodes']\n",
    "ncentral=alf_info['ncentral']\n",
    "\n",
    "# save alf_info to files\n",
    "np.savetxt(f'{wrk_dir}/prep/nsubs',alf_info['nsubs'],fmt='%i')\n",
    "\n",
    "\n",
    "# A dictionary to reflect all titratable residues in the system. \n",
    "# Keys are residue names, like LYS, ASP, GLU. \n",
    "# Values are list of two lists: the first list contains residue IDs; the second list contains residue index, which can be empty.\n",
    "titr_res={comp[0:3].upper():[[1]]}  "
   ]
  },
  {
   "cell_type": "code",
   "execution_count": 4,
   "id": "a116fc72-b607-497f-b20d-e153c910e2b1",
   "metadata": {
    "collapsed": true,
    "jupyter": {
     "outputs_hidden": true
    }
   },
   "outputs": [],
   "source": [
    "log_unit=30  # unit for CHARMM output file\n",
    "dcd_unit=40  # unit for dcd trajectory file\n",
    "rst_unit=50  # unit for restart file\n",
    "lmd_unit=60  # unit for lambda trajectory file\n",
    "rpr_unit=70  # unit for previous restart file\n",
    "\n",
    "# experimental pKa for model compound\n",
    "pka={'ASP':4.0,\n",
    "     'GLU':4.4,\n",
    "     'HSD':7.0,\n",
    "     'HSE':6.6,\n",
    "     'LYS':10.40}"
   ]
  },
  {
   "cell_type": "code",
   "execution_count": 5,
   "id": "4f84f0fc-f00c-4e4a-a878-f37be81706a9",
   "metadata": {
    "collapsed": true,
    "jupyter": {
     "outputs_hidden": true
    }
   },
   "outputs": [],
   "source": [
    "def init_variables():\n",
    "    '''\n",
    "    A function to initialize biasing potential parameters by setting all parameters to zero.\n",
    "    '''\n",
    "    AA=comp[0:3].upper()\n",
    "    b=np.zeros([1,nblocks])\n",
    "    c=np.zeros([nblocks,nblocks])\n",
    "    x=c\n",
    "    s=c\n",
    "    b_prev=np.zeros([1,nblocks])\n",
    "    c_prev=c\n",
    "    x_prev=x\n",
    "    s_prev=s\n",
    "    var_init_dir=wrk_dir+'/analysis0'\n",
    "    os.system('mkdir -p '+var_init_dir+'/../nbshift')\n",
    "    np.savetxt(var_init_dir+'/b_prev.dat',b_prev)\n",
    "    np.savetxt(var_init_dir+'/b.dat',b)\n",
    "    np.savetxt(var_init_dir+'/c_prev.dat',c_prev)\n",
    "    np.savetxt(var_init_dir+'/c.dat',c)\n",
    "    np.savetxt(var_init_dir+'/x_prev.dat',x_prev)\n",
    "    np.savetxt(var_init_dir+'/x.dat',x)\n",
    "    np.savetxt(var_init_dir+'/s_prev.dat',s_prev)\n",
    "    np.savetxt(var_init_dir+'/s.dat',s)\n",
    "    np.savetxt(var_init_dir+'/../nbshift/b_shift.dat',b_prev)\n",
    "    np.savetxt(var_init_dir+'/../nbshift/c_shift.dat',c_prev)\n",
    "    np.savetxt(var_init_dir+'/../nbshift/x_shift.dat',x_prev)\n",
    "    np.savetxt(var_init_dir+'/../nbshift/s_shift.dat',s_prev)\n"
   ]
  },
  {
   "cell_type": "code",
   "execution_count": 6,
   "id": "17603321-ef75-4d61-be85-f6463bd3b778",
   "metadata": {
    "collapsed": true,
    "jupyter": {
     "outputs_hidden": true
    }
   },
   "outputs": [],
   "source": [
    "def open_clog():\n",
    "    '''\n",
    "    specify charmm output file for a given system\n",
    "    '''\n",
    "    clog=charmm_file.CharmmFile(file_name=log_fn,file_unit=log_unit,read_only=False,formatted=True)\n",
    "    lingo.charmm_script('outu '+str(log_unit))"
   ]
  },
  {
   "cell_type": "code",
   "execution_count": 7,
   "id": "684f56d6-0b2a-4465-9792-dae6df6d0c2f",
   "metadata": {
    "collapsed": true,
    "jupyter": {
     "outputs_hidden": true
    }
   },
   "outputs": [],
   "source": [
    "def read_param():\n",
    "    '''\n",
    "    read CHARMM force field parameters.\n",
    "    note that special RTF file is needed for this tutorial.\n",
    "    '''\n",
    "    read.rtf(param_dir+'/top_all36_prot.rtf')\n",
    "    read.rtf(param_dir+'/cphmd_patch.rtf',append=True)\n",
    "    read.prm(param_dir+'/par_all36m_prot.prm',flex=True)\n",
    "    lingo.charmm_script('stream '+param_dir+'/toppar_water_ions.str')"
   ]
  },
  {
   "cell_type": "code",
   "execution_count": 8,
   "id": "74689b3a-5d2e-4a13-bb12-cb11b8443409",
   "metadata": {
    "collapsed": true,
    "jupyter": {
     "outputs_hidden": true
    }
   },
   "outputs": [],
   "source": [
    "def read_init():\n",
    "    '''\n",
    "    read psf and initial structure file\n",
    "    '''\n",
    "    read.psf_card(f'{wrk_dir}/{comp}-solv.psf')\n",
    "    if int(run)==1:\n",
    "       read.pdb(f'{wrk_dir}/{comp}-mini.pdb',resid=True)\n",
    "    else:\n",
    "       rst_from=np.loadtxt(f'{out_dir}/../variables/rst-from-{run}.txt',dtype=int)\n",
    "       read.pdb(f'{out_dir}/../run{rst_from}/pdb/prod.pdb',resid=True)"
   ]
  },
  {
   "cell_type": "code",
   "execution_count": 9,
   "id": "6fc671f7-cd40-43dd-a038-6117e7674cff",
   "metadata": {
    "collapsed": true,
    "jupyter": {
     "outputs_hidden": true
    }
   },
   "outputs": [],
   "source": [
    "def titr_grp(resn):\n",
    "    '''\n",
    "    atom names in the titratable group for a given amino acid\n",
    "    '''\n",
    "    if resn == 'ASP':\n",
    "       type_list=['CB','HB1','HB2','CG','OD1','OD2','HD1','HD2']\n",
    "    elif resn == 'GLU':\n",
    "       type_list=['CG','HG1','HG2','CD','OE1','OE2','HE1','HE2']\n",
    "    elif resn == 'HSP' or resn == 'HSD' or resn == 'HSE':\n",
    "       type_list=['CB','HB1','HB2','CG','ND1','HD1','CE1','HE1','CD2','HD2','NE2','HE2']\n",
    "    elif resn == 'LYS':\n",
    "       type_list=['CE','HE1','HE2','NZ','HZ1','HZ2','HZ3']\n",
    "    return type_list\n",
    "\n"
   ]
  },
  {
   "cell_type": "code",
   "execution_count": 10,
   "id": "8b422469-9048-4233-a726-38be53c1c45a",
   "metadata": {
    "collapsed": true,
    "jupyter": {
     "outputs_hidden": true
    }
   },
   "outputs": [],
   "source": [
    "def define_sub(titr_res_dict):\n",
    "    '''\n",
    "    define substituents. \n",
    "    see the special RTF file for more information.\n",
    "    '''\n",
    "    for aa in titr_res_dict.keys():\n",
    "        resn=aa.upper()\n",
    "        atom_list=titr_grp(resn)\n",
    "        for ires in titr_res_dict[resn][0]:\n",
    "            resid=str(ires)\n",
    "            w_str=' '.join([i+'W' for i in atom_list])\n",
    "            m_str=' '.join([i+'M' for i in atom_list])\n",
    "            p_str=' '.join([i+'P' for i in atom_list])\n",
    "            u_str=' '.join([i+'U' for i in atom_list])\n",
    "            sele_w=pycharmm.SelectAtoms().by_res_and_type(seg_id=segid,res_id=resid,atom_type=w_str)\n",
    "            sele_m=pycharmm.SelectAtoms().by_res_and_type(seg_id=segid,res_id=resid,atom_type=m_str)\n",
    "            sele_p=pycharmm.SelectAtoms().by_res_and_type(seg_id=segid,res_id=resid,atom_type=p_str)\n",
    "            sele_u=pycharmm.SelectAtoms().by_res_and_type(seg_id=segid,res_id=resid,atom_type=u_str)\n",
    "            sele_w.store(f'site{resn}{resid}subW')\n",
    "            sele_m.store(f'site{resn}{resid}subM')\n",
    "            sele_p.store(f'site{resn}{resid}subP')\n",
    "            sele_u.store(f'site{resn}{resid}subU')\n",
    "            lingo.charmm_script(f'print coor sele site{resn}{resid}subW end')\n",
    "            lingo.charmm_script(f'print coor sele site{resn}{resid}subM end')\n",
    "            lingo.charmm_script(f'print coor sele site{resn}{resid}subP end')\n",
    "            lingo.charmm_script(f'print coor sele site{resn}{resid}subU end')\n",
    "            \n"
   ]
  },
  {
   "cell_type": "code",
   "execution_count": 11,
   "id": "a2a2df85-42c3-46e1-938e-0d5c55b76f77",
   "metadata": {
    "collapsed": true,
    "jupyter": {
     "outputs_hidden": true
    }
   },
   "outputs": [],
   "source": [
    "class setup_block:\n",
    "    '''\n",
    "    Set up block for CpHMD simulation in the MSLD framework.\n",
    "    '''\n",
    "    def __init__(self,bias,titr_res_dict,pH):\n",
    "        self.Gbias=bias\n",
    "        self.titr_res_dict=titr_res_dict\n",
    "        self.pH=pH\n",
    "        \"\"\"\n",
    "        Parameters\n",
    "        ----------\n",
    "        Gbias : pandas.DataFrame\n",
    "             biasing potential parameters\n",
    "        titr_res_dict : dictionary\n",
    "             a dictionary to reflect all titratable residues in a system.\n",
    "             Keys are residue names, like LYS, ASP, GLU. \n",
    "             Values are list of two lists: the first list contains residue IDs; the second list contains residue index, which can be empty.\n",
    "        pH : float\n",
    "             pH value under which CpHMD simulation is performed\n",
    "            \n",
    "        \"\"\"\n",
    "    def run(self):\n",
    "        \"\"\"\n",
    "        run the BLOCK command\n",
    "        \"\"\"\n",
    "        self.reset()\n",
    "        self.call()\n",
    "    def set_utag(self,resname):\n",
    "        \"\"\"\n",
    "        Depending the amino acid and reference state, use either UNEG or UPOS for the pH-dependent term\n",
    "        \"\"\"\n",
    "        if resname == 'ASP' or resname == 'GLU':\n",
    "           utag='UNEG'\n",
    "        elif resname == 'HSD' or resname == 'HSE' or resname == 'HSP' or resname == 'LYS':\n",
    "           utag='UPOS'\n",
    "        return utag\n",
    "    def set_name(self,resname,res_id):\n",
    "        \"\"\"\n",
    "        Based on the speicial RTF file, get a list of selection names for a given residue.\n",
    "        \"\"\"\n",
    "        sele_name_w='site%s%ssubW'%(resname,res_id)\n",
    "        sele_name_m='site%s%ssubM'%(resname,res_id)\n",
    "        sele_name_p='site%s%ssubP'%(resname,res_id)\n",
    "        sele_name_u='site%s%ssubU'%(resname,res_id)\n",
    "        if resname == 'ASP' or resname == 'GLU':\n",
    "           sele_name=[sele_name_w,sele_name_m,sele_name_p]\n",
    "        elif resname == 'HSD':\n",
    "           sele_name=[sele_name_w,sele_name_u]\n",
    "        elif resname == 'HSE':\n",
    "           sele_name=[sele_name_w,sele_name_m]\n",
    "        elif resname == 'LYS':\n",
    "           sele_name=[sele_name_w,sele_name_m]\n",
    "        elif resname == 'HSP':\n",
    "           sele_name=[sele_name_w,sele_name_u,sele_name_m]\n",
    "        return sele_name\n",
    "    def set_pka(self,resname):\n",
    "        if resname == 'HSP':\n",
    "           refpka_list=[pka['HSD'],pka['HSE']]\n",
    "        else:\n",
    "           refpka_list=[pka[resname],pka[resname]]\n",
    "        return refpka_list\n",
    "    def reset(self):\n",
    "        \"\"\"\n",
    "        clear BLOCK\n",
    "        \"\"\"\n",
    "        lingo.charmm_script('''\n",
    "              BLOCK {}\n",
    "                    clear \n",
    "              END\n",
    "        '''.format(nblocks+1))\n",
    "    def call(self):\n",
    "        '''\n",
    "        Generate a string that will be used by lingo.charmm_script().\n",
    "        \n",
    "        note: don't put these commands into multiple block sections.\n",
    "        otherwise energy can be incorrect in domdec and blade.\n",
    "        '''\n",
    "\n",
    "        block_str=f'BLOCK {nblocks+1}\\n'\n",
    "        ldin_str='      !   id lmd vel mass energy friction-coefficient\\n'\n",
    "        ldin_str+='      ldin 1 1.0000  0.0  12.0     0.00  5.0\\n'\n",
    "        msld_str='      msld 0 '\n",
    "\n",
    "        iblock=2\n",
    "        isite=0\n",
    "        for aa in self.titr_res_dict.keys():\n",
    "            resn=aa.upper()\n",
    "            for ires in self.titr_res_dict[resn][0]:\n",
    "                resid=str(ires)\n",
    "                utag=self.set_utag(resn)\n",
    "                refpka=self.set_pka(resn)\n",
    "                sele_name_lst=self.set_name(resn,resid)\n",
    "                for isub in range(nsubs[isite]):\n",
    "                    #print(isite,isub)\n",
    "                    sele_name=sele_name_lst[isub]\n",
    "                    if isub==0:\n",
    "                        phtag='NONE'\n",
    "                    else:\n",
    "                        phtag=utag+' '+str(refpka[isub-1])\n",
    "                    block_str+=f'      call {iblock} sele {sele_name} end\\n'\n",
    "                    ldin_str+='      ldin {} {:.4f}  0.0  12.0  {:7.2f}  5.0  {}\\n'.format(iblock,1/nsubs[isite],self.Gbias.loc[f'lams{isite+1}s{isub+1}','value'],phtag)\n",
    "                    \n",
    "                    msld_str+=f'{isite+1} '\n",
    "                    iblock+=1\n",
    "                isite+=1\n",
    "        msld_str+='fnex 5.5\\n'\n",
    "\n",
    "        excl_lst='      excl '\n",
    "        iblock=2\n",
    "        for isite in range(nsites):\n",
    "            for isub in range(nsubs[isite]):\n",
    "                shift=1\n",
    "                for jsub in range(isub+1,nsubs[isite]):\n",
    "                    excl_lst+='{} {} '.format(iblock,iblock+shift)\n",
    "                    shift+=1\n",
    "                iblock+=1\n",
    "        excl_lst+='\\n'\n",
    "\n",
    "        nldbi=int(5*nblocks*(nblocks-1)/2)\n",
    "        ldbi_str='      ldbi {}\\n'.format(nldbi)\n",
    "        ibias=0\n",
    "        iblock0=2\n",
    "        for isite in range(nsites):\n",
    "            jblock0=iblock0\n",
    "            for jsite in range(isite,nsites):\n",
    "                for isub in range(nsubs[isite]):\n",
    "                    iblock=iblock0+isub\n",
    "                    if jsite==isite:\n",
    "                       jlow=isub+1\n",
    "                    else:\n",
    "                       jlow=0\n",
    "                    for jsub in range(jlow,nsubs[jsite]):\n",
    "                        jblock=jblock0+jsub\n",
    "                        ibias+=1\n",
    "                        ldbi_str+='      ldbv {:3d} {:3d} {:3d}  6   0.0 {:7.2f} 0\\n'.format(ibias,iblock,jblock,self.Gbias.loc[f'cs{isite+1}s{isub+1}s{jsite+1}s{jsub+1}','value'])\n",
    "                        ibias+=1\n",
    "                        ldbi_str+='      ldbv {:3d} {:3d} {:3d} 10 -5.56 {:7.2f} 0\\n'.format(ibias,iblock,jblock,self.Gbias.loc[f'xs{isite+1}s{isub+1}s{jsite+1}s{jsub+1}','value'])\n",
    "                        ibias+=1\n",
    "                        ldbi_str+='      ldbv {:3d} {:3d} {:3d} 10 -5.56 {:7.2f} 0\\n'.format(ibias,jblock,iblock,self.Gbias.loc[f'xs{jsite+1}s{jsub+1}s{isite+1}s{isub+1}','value'])\n",
    "                        ibias+=1\n",
    "                        ldbi_str+='      ldbv {:3d} {:3d} {:3d}  8 0.017 {:7.2f} 0\\n'.format(ibias,iblock,jblock,self.Gbias.loc[f'ss{isite+1}s{isub+1}s{jsite+1}s{jsub+1}','value'])\n",
    "                        ibias+=1\n",
    "                        ldbi_str+='      ldbv {:3d} {:3d} {:3d}  8 0.017 {:7.2f} 0\\n'.format(ibias,jblock,iblock,self.Gbias.loc[f'ss{jsite+1}s{jsub+1}s{isite+1}s{isub+1}','value'])\n",
    "                jblock0+=nsubs[isite]\n",
    "            iblock0+=nsubs[isite]\n",
    "\n",
    "        soft_str='\\n'\n",
    "\n",
    "        block_str+='\\n'\n",
    "        block_str+=excl_lst\n",
    "        block_str+='\\n'\n",
    "        block_str+='      qldm theta\\n'\n",
    "        block_str+='      lang temp {}\\n'.format(tsim)\n",
    "        block_str+='      pmel ex\\n'\n",
    "        block_str+='      phmd pH {}'.format(self.pH)\n",
    "        block_str+=soft_str\n",
    "        block_str+='\\n'\n",
    "        block_str+=ldin_str\n",
    "        block_str+='\\n'\n",
    "        block_str+='      rmla bond thet impr\\n'\n",
    "        block_str+=msld_str\n",
    "        block_str+='      msma\\n'\n",
    "        block_str+='\\n'\n",
    "        block_str+=ldbi_str\n",
    "        block_str+='END\\n'\n",
    "\n",
    "        lingo.charmm_script(block_str)\n"
   ]
  },
  {
   "cell_type": "code",
   "execution_count": 12,
   "id": "e42f93c4-6e5e-423e-8001-0602b5023f47",
   "metadata": {
    "collapsed": true,
    "jupyter": {
     "outputs_hidden": true
    }
   },
   "outputs": [],
   "source": [
    "# Ensure that FFT grid is product of small primes (2, 3, 5)\n",
    "def find_prime_prod(n):\n",
    "    '''\n",
    "    find a minimum integer that is a product of 2, 3, or 5, and is greater than the given value n\n",
    "    '''\n",
    "    n=np.ceil(n)\n",
    "    find=0\n",
    "    while find == 0:\n",
    "          if (n%2 != 0):\n",
    "             find=0   # we have to find an even number\n",
    "          else:\n",
    "             ni=n\n",
    "             while ni:\n",
    "                   #print(n,ni)\n",
    "                   flag=0\n",
    "                   for x in (2,3,5):\n",
    "                       if ni % x == 0:\n",
    "                          ni = ni / x\n",
    "                          flag=1\n",
    "                          # \"break\" terminates the current for/while loop\n",
    "                          # and resumes execution at the next statement\n",
    "                          break\n",
    "                   if ni==1:\n",
    "                      find=1\n",
    "                      return int(n)\n",
    "                   else:\n",
    "                      if flag == 1:\n",
    "                         # \"continue\" rejects the remaining statement in the current iteration\n",
    "                         # and returns the control to the beginning of the while loop\n",
    "                         continue\n",
    "                      break\n",
    "          n += 1\n",
    "    return int(n)\n",
    "\n",
    "\n",
    "\n",
    "nbond={'elec': True,\n",
    "       'atom': True,\n",
    "       'cdie': True,\n",
    "       'eps': 1,\n",
    "       'vdw': True,\n",
    "       'vatom': True,\n",
    "       'vfswitch': True,\n",
    "       'cutnb': 15,\n",
    "       'cutim': 15,\n",
    "       'ctofnb': 12,\n",
    "       'ctonnb': 10,\n",
    "       'ewald': True,\n",
    "       'pmewald': True,\n",
    "       'kappa': 0.320,\n",
    "       'order': 6\n",
    "      }\n",
    "\n",
    "def setup_nb(nb):\n",
    "    \"\"\"\n",
    "    set up nonbonded interactions\n",
    "    \"\"\"\n",
    "    if int(run)==1:\n",
    "       size=np.loadtxt(f'{wrk_dir}/{comp}-size.dat')\n",
    "    else:\n",
    "       rst_from=np.loadtxt(f'{out_dir}/../variables/rst-from-{run}.txt',dtype=int)\n",
    "       size=np.loadtxt(f'{out_dir}/../run{rst_from}/size.dat',usecols=(0))    \n",
    "    fft=find_prime_prod(size)\n",
    "    nbond['fftx']=fft\n",
    "    nbond['ffty']=fft\n",
    "    nbond['fftz']=fft\n",
    "    nb_pme=pycharmm.NonBondedScript(**nb)\n",
    "    nb_pme.run()\n",
    "    #lingo.charmm_script('energy blade')\n"
   ]
  },
  {
   "cell_type": "code",
   "execution_count": 13,
   "id": "ada2ab4f-e0ca-48eb-b815-fa4633d8070f",
   "metadata": {
    "collapsed": true,
    "jupyter": {
     "outputs_hidden": true
    }
   },
   "outputs": [],
   "source": [
    "def set_pbc():\n",
    "    if int(run)==1:\n",
    "       size=np.loadtxt(f'{wrk_dir}/{comp}-size.dat')\n",
    "    else:\n",
    "       rst_from=np.loadtxt(f'{out_dir}/../variables/rst-from-{run}.txt',dtype=int)\n",
    "       size=np.loadtxt(f'{out_dir}/../run{rst_from}/size.dat',usecols=(0))\n",
    "    crystal.define_cubic(size)\n",
    "    crystal.build(12)\n",
    "    offset=0\n",
    "    image.setup_residue(offset,offset,offset,'TIP3')\n",
    "    image.setup_segment(offset,offset,offset,segid)\n",
    "\n"
   ]
  },
  {
   "cell_type": "code",
   "execution_count": 14,
   "id": "5df91277-009b-4faa-bc50-f1cb256e9bfb",
   "metadata": {
    "collapsed": true,
    "jupyter": {
     "outputs_hidden": true
    }
   },
   "outputs": [],
   "source": [
    "def mini():\n",
    "    '''\n",
    "    In my initial structure, the restraining atoms are on top of each other.\n",
    "    I use energy minimization to make their coordinates slightly different, which is required for later\n",
    "    noe restraint if default charmm is used.\n",
    "    '''\n",
    "    minimize.run_abnr(nstep=200,tolenr=1e-3,tolgrd=1e-3)\n",
    "    energy.show()\n",
    "    write.coor_pdb(out_dir+'/../mini.pdb')\n"
   ]
  },
  {
   "cell_type": "code",
   "execution_count": 15,
   "id": "cdb4fd93-30db-46d6-85ba-99b266876ebf",
   "metadata": {
    "collapsed": true,
    "jupyter": {
     "outputs_hidden": true
    }
   },
   "outputs": [],
   "source": [
    "class scat_restrain:\n",
    "    '''\n",
    "    restrain all or heavy atoms between analogous groups of the 2 or 3 protonation states\n",
    "    using SCAT restraint.\n",
    "    '''\n",
    "    def __init__(self,titr_res_dict,heavy=True):\n",
    "        \"\"\"\n",
    "        Parameters\n",
    "        ----------\n",
    "        titr_res_dict : dictionary\n",
    "             a dictionary to reflect all titratable residues in a system.\n",
    "             Keys are residue names, like LYS, ASP, GLU. \n",
    "             Values are list of two lists: the first list contains residue IDs; the second list contains residue index, which can be empty.\n",
    "        heavy : bool\n",
    "             True for restraining all heavy atoms.\n",
    "             Flase for restraining all atoms including H atoms.\n",
    "        \"\"\"            \n",
    "        self.titr_res_dict=titr_res_dict\n",
    "        self.heavy=heavy\n",
    "    def restrain(self):\n",
    "        \"\"\"\n",
    "        Generate a string of BLOCK commands for lingo.charmm_script() to apply the SCAT restraining potential.\n",
    "        \"\"\"\n",
    "        scat_str='BLOCK\\n'\n",
    "        scat_str+='      ! enables Scaling of Constrained AToms\\n'\n",
    "        scat_str+='      scat on\\n'\n",
    "        scat_str+='      scat k 300\\n'\n",
    "        self.cats_str=''\n",
    "\n",
    "        isite=0\n",
    "        for aa in self.titr_res_dict.keys():\n",
    "            resn=aa.upper()\n",
    "            atom_list=titr_grp(resn)\n",
    "            for ires in self.titr_res_dict[resn][0]:\n",
    "                resid=str(ires)\n",
    "                for atom_name in atom_list:\n",
    "                    if self.heavy==True:  # restrain heavy atoms\n",
    "                       if atom_name[0]!='H':\n",
    "                          self.apply_restrain(resid,atom_name)\n",
    "                    else:                 # restrain all atoms\n",
    "                       self.apply_restrain(resid,atom_name)\n",
    "\n",
    "                isite+=1\n",
    "\n",
    "        #print(self.cats_str)\n",
    "        scat_str+=self.cats_str\n",
    "        scat_str+='END\\n'\n",
    "        lingo.charmm_script(scat_str)\n",
    "\n",
    "    def apply_restrain(self,res_id,name):\n",
    "        sel_w=pycharmm.SelectAtoms().by_res_and_type(seg_id=segid,res_id=res_id,atom_type=name+'W')\n",
    "        sel_m=pycharmm.SelectAtoms().by_res_and_type(seg_id=segid,res_id=res_id,atom_type=name+'M')\n",
    "        sel_p=pycharmm.SelectAtoms().by_res_and_type(seg_id=segid,res_id=res_id,atom_type=name+'P')\n",
    "        sel_u=pycharmm.SelectAtoms().by_res_and_type(seg_id=segid,res_id=res_id,atom_type=name+'U')\n",
    "        w=sel_w.get_n_selected()\n",
    "        m=sel_m.get_n_selected()\n",
    "        p=sel_p.get_n_selected()\n",
    "        u=sel_u.get_n_selected()\n",
    "        if w+m+p+u>=2:  # this is required when blade is used, otherwise we will see errors like \"Error running curandGenerateNormal(gen, p, n, 0.0f, 1.0f) in file source/blade/src/rng/rng_gpu.cxx, function rand_normal, line 89, Error string: CURAND_STATUS_LAUNCH_FAILURE\" \n",
    "           self.cats_str+='      cats sele segid {} .and. resid {} .and. ( type {}W .or. type {}M .or. type {}P .or. type {}U ) end\\n'.format(segid, res_id, name, name, name, name)\n",
    "\n"
   ]
  },
  {
   "cell_type": "code",
   "execution_count": 16,
   "id": "dade4aa4-33e6-4ac8-9207-26cce2eba15f",
   "metadata": {
    "collapsed": true,
    "jupyter": {
     "outputs_hidden": true
    }
   },
   "outputs": [],
   "source": [
    "def dyn_init():\n",
    "    lingo.charmm_script('''\n",
    "          faster on\n",
    "          blade on\n",
    "          shake fast bonh param\n",
    "    ''')\n",
    "    n = psf.get_natom()\n",
    "    scalar.set_fbetas([1.0] * n)\n",
    "\n"
   ]
  },
  {
   "cell_type": "code",
   "execution_count": 17,
   "id": "74dcc15d-c732-446c-ae1a-29416e3af903",
   "metadata": {
    "collapsed": true,
    "jupyter": {
     "outputs_hidden": true
    }
   },
   "outputs": [],
   "source": [
    "def set_var(Step):\n",
    "    \"\"\"\n",
    "    After using ALF to determine how much biasing potential parameters should change,\n",
    "    calcuate new biasing potential parameters that will be used the next run,\n",
    "    and save the corresponding pd.DataFrame to a file.\n",
    "    \"\"\"\n",
    "\n",
    "    \n",
    "    var_dict={}\n",
    "    \n",
    "    b_prev=np.loadtxt('b_prev.dat')\n",
    "    b=np.loadtxt('b.dat')\n",
    "    b_sum=b_prev+b\n",
    "    b_sum=np.reshape(b_sum,(1,-1))\n",
    "    np.savetxt('b_sum.dat',b_sum,fmt=' %7.2f')\n",
    "    \n",
    "    ibuff=0\n",
    "    for i in range(0,len(nsubs)):\n",
    "      for j in range(0,nsubs[i]):\n",
    "        var_dict['lams%ds%d'%(i+1,j+1)]=b_sum[0,ibuff+j]\n",
    "      ibuff+=nsubs[i]\n",
    "    \n",
    "    c_prev=np.loadtxt('c_prev.dat')\n",
    "    c=np.loadtxt('c.dat')\n",
    "    c_sum=c_prev+c\n",
    "    np.savetxt('c_sum.dat',c_sum,fmt=' %7.2f')\n",
    "\n",
    "    ibuff=0\n",
    "    for si in range(0,len(nsubs)):\n",
    "      jbuff=ibuff\n",
    "      for sj in range(si,len(nsubs)):\n",
    "        for i in range(0,nsubs[si]):\n",
    "          ii=i+ibuff\n",
    "          j0=0\n",
    "          if si==sj:\n",
    "            j0=i+1\n",
    "          for j in range(j0,nsubs[sj]):\n",
    "            jj=j+jbuff\n",
    "            var_dict['cs%ds%ds%ds%d'%(si+1,i+1,sj+1,j+1)]=-c_sum[ii,jj]\n",
    "        jbuff+=nsubs[sj]\n",
    "      ibuff+=nsubs[si]\n",
    "    \n",
    "    x_prev=np.loadtxt('x_prev.dat')\n",
    "    x=np.loadtxt('x.dat')\n",
    "    x_sum=x_prev+x\n",
    "    np.savetxt('x_sum.dat',x_sum,fmt=' %7.2f')\n",
    "    \n",
    "    s_prev=np.loadtxt('s_prev.dat')\n",
    "    s=np.loadtxt('s.dat')\n",
    "    s_sum=s_prev+s\n",
    "    np.savetxt('s_sum.dat',s_sum,fmt=' %7.2f')\n",
    "    \n",
    "    ibuff=0\n",
    "    for si in range(0,len(nsubs)):\n",
    "      jbuff=0\n",
    "      for sj in range(0,len(nsubs)):\n",
    "        for i in range(0,nsubs[si]):\n",
    "          ii=i+ibuff\n",
    "          for j in range(0,nsubs[sj]):\n",
    "            jj=j+jbuff\n",
    "            if ii!=jj:\n",
    "              var_dict['xs%ds%ds%ds%d'%(si+1,i+1,sj+1,j+1)]=-x_sum[ii,jj]\n",
    "              var_dict['ss%ds%ds%ds%d'%(si+1,i+1,sj+1,j+1)]=-s_sum[ii,jj]\n",
    "        jbuff+=nsubs[sj]\n",
    "      ibuff+=nsubs[si]\n",
    "    \n",
    "    # save variables \n",
    "    var_df=pd.DataFrame.from_dict(var_dict, orient='index')\n",
    "    os.system('mkdir -p ../variables')\n",
    "    var_df.to_csv('../variables/var-run'+str(Step)+'.txt',header=['value'])\n"
   ]
  },
  {
   "cell_type": "code",
   "execution_count": 18,
   "id": "13bb578d-a5e6-4b15-a638-d82b1dd07683",
   "metadata": {
    "collapsed": true,
    "jupyter": {
     "outputs_hidden": true
    }
   },
   "outputs": [],
   "source": [
    "def alf_flat_analysis(i,dir='.'):\n",
    "    \"\"\"\n",
    "    A function to call ALF functions to determine how biasing potential parameters should be updated\n",
    "    based on exisiting short trial simulations.\n",
    "    This is for flattening, i.e., phases 1 and 2\n",
    "    \"\"\"\n",
    "    cwd=os.getcwd()\n",
    "    os.chdir(dir)\n",
    "    \n",
    "    # Prep the analysis directories\n",
    "    print('analysis%d started' % i)\n",
    "    if not os.path.exists('analysis%d' % i):\n",
    "      os.mkdir('analysis%d' % i)\n",
    "    shutil.copy('analysis%d/b_sum.dat' % (i-1),'analysis%d/b_prev.dat' % i)\n",
    "    shutil.copy('analysis%d/c_sum.dat' % (i-1),'analysis%d/c_prev.dat' % i)\n",
    "    shutil.copy('analysis%d/x_sum.dat' % (i-1),'analysis%d/x_prev.dat' % i)\n",
    "    shutil.copy('analysis%d/s_sum.dat' % (i-1),'analysis%d/s_prev.dat' % i)\n",
    "    if not os.path.exists('analysis%d/G_imp' % i):\n",
    "      G_imp_dir=os.getenv('ALF_SOURCE_DIR')+'/v3.2beta/alf/G_imp'\n",
    "      print(G_imp_dir)\n",
    "      os.symlink(G_imp_dir,'analysis%d/G_imp' % i)\n",
    "    os.chdir('analysis%d' % i)\n",
    "    \n",
    "    # Run the analysis\n",
    "\n",
    "    im5=max(i-4,1)\n",
    "    N=i-im5+1\n",
    "    alf.GetLambdas(alf_info,i)\n",
    "    alf.GetEnergy(alf_info,im5,i)\n",
    "\n",
    "        \n",
    "    fpout=open('output','w')\n",
    "    fperr=open('error','w')\n",
    "    subprocess.call([shutil.which('python'),'-c','import alf; alf.RunWham(%d,0,0)' % (N*alf_info['nreps'])],stdout=fpout,stderr=fperr) # `cat ../ntersiteflat`\n",
    "    print('Warning: coupling flags ignored')\n",
    "    alf.GetFreeEnergy5(alf_info,0,0) # `cat ../ntersiteflat`\n",
    "\n",
    "    set_var(i+1)\n",
    "    os.system(f'echo {np.random.randint(first_run,high=i+1)} > ../variables/rst-from-{i+1}.txt')\n",
    "\n",
    "    \n",
    "    os.chdir(cwd)\n",
    "\n"
   ]
  },
  {
   "cell_type": "code",
   "execution_count": 19,
   "id": "f4fca375-0621-406a-86de-0843d90a9b17",
   "metadata": {
    "collapsed": true,
    "jupyter": {
     "outputs_hidden": true
    }
   },
   "outputs": [],
   "source": [
    "def alf_prod_analysis(i,N,eqS,S,skipE,dir='.'):\n",
    "    \"\"\"\n",
    "    A function to call ALF functions to determine how biasing potential parameters should be updated\n",
    "    based on exisiting short trial simulations.\n",
    "    This is for flattening, i.e., phases 1 and 2\n",
    "    \"\"\"\n",
    "    cwd=os.getcwd()\n",
    "    os.chdir(dir)\n",
    "    \n",
    "    # Prep the analysis directories\n",
    "    print('analysis%d started' % i)\n",
    "    if not os.path.exists('analysis%d' % i):\n",
    "      os.mkdir('analysis%d' % i)\n",
    "    shutil.copy('analysis%d/b_sum.dat' % (i-1),'analysis%d/b_prev.dat' % i)\n",
    "    shutil.copy('analysis%d/c_sum.dat' % (i-1),'analysis%d/c_prev.dat' % i)\n",
    "    shutil.copy('analysis%d/x_sum.dat' % (i-1),'analysis%d/x_prev.dat' % i)\n",
    "    shutil.copy('analysis%d/s_sum.dat' % (i-1),'analysis%d/s_prev.dat' % i)\n",
    "    if not os.path.exists('analysis%d/G_imp' % i):\n",
    "      G_imp_dir=os.getenv('ALF_SOURCE_DIR')+'/v3.2beta/alf/G_imp'\n",
    "      print(G_imp_dir)\n",
    "      os.symlink(G_imp_dir,'analysis%d/G_imp' % i)\n",
    "    os.chdir('analysis%d' % i)\n",
    "    \n",
    "    # Run the analysis\n",
    "\n",
    "\n",
    "    alf.GetLambdas(alf_info,i,N,eqS,S)\n",
    "    alf.GetEnergy(alf_info,i,i,skipE)\n",
    "        \n",
    "    fpout=open('output','w')\n",
    "    fperr=open('error','w')\n",
    "    subprocess.call([shutil.which('python'),'-c','import alf; alf.RunWham(%d,0,0)' % (N*alf_info['nreps'])],stdout=fpout,stderr=fperr) # `cat ../ntersiteflat`\n",
    "    print('Warning: coupling flags ignored')\n",
    "    alf.GetFreeEnergy5(alf_info,0,0) # `cat ../ntersiteflat`\n",
    "\n",
    "    set_var(i+1)\n",
    "    os.system(f'echo {np.random.randint(first_run,high=i+1)} > ../variables/rst-from-{i+1}.txt')\n",
    "    alf.GetVariance(alf_info,N)\n",
    "\n",
    "    \n",
    "    os.chdir(cwd)\n",
    "\n"
   ]
  },
  {
   "cell_type": "code",
   "execution_count": 20,
   "id": "4bfeaa60-ff63-4776-a8f4-f4b19f325598",
   "metadata": {
    "collapsed": true,
    "jupyter": {
     "outputs_hidden": true
    }
   },
   "outputs": [],
   "source": [
    "def clear_system():\n",
    "    \"\"\"\n",
    "    clear CHARMM system to make sure we can iterate simulations in ALF.\n",
    "    \"\"\"\n",
    "    psf.delete_atoms(pycharmm.SelectAtoms(select_all=True))\n",
    "    lingo.charmm_script('crystal free')"
   ]
  },
  {
   "cell_type": "markdown",
   "id": "fdffcb27-6349-4b97-be9c-303404b4cb4d",
   "metadata": {},
   "source": [
    "#### Below is the main script to run short trial simulations and use ALF to do analysis."
   ]
  },
  {
   "cell_type": "code",
   "execution_count": 21,
   "id": "8ae3b41b-33ed-4e3c-9eb9-4c73b3b77be2",
   "metadata": {
    "collapsed": true,
    "jupyter": {
     "outputs_hidden": true
    }
   },
   "outputs": [],
   "source": [
    "def run_dynamics():\n",
    "        global nsteps_eq, nsteps_prod, nsavc, out_dir, log_fn, ittm1  \n",
    "        if int(phase)==1 or int(phase)==2:\n",
    "           if int(phase)==1:\n",
    "              nsteps_eq=10000    # 20 ps\n",
    "              nsteps_prod=40000  # 80 ps\n",
    "           elif int(phase)==2:\n",
    "              nsteps_eq=125000   # 250 ps\n",
    "              nsteps_prod=375000 # 750 ps\n",
    "           nsavc=1000         # saving frequency for dcd file\n",
    "           out_dir=f'{wrk_dir}/run{run}'  # output directory\n",
    "           log_fn=f'{out_dir}/prod.out'   # CHARMM output/log file\n",
    "        elif int(phase)==3:\n",
    "           nsteps_eq=0\n",
    "           nsteps_prod=500000 # 1 ns\n",
    "           nsavc=10000   # saving frequency for dcd file\n",
    "           ittm1=itt-1\n",
    "           out_dir=f'{wrk_dir}/run{run}{alpha}' # output directory\n",
    "           log_fn=f'{out_dir}/prod{itt}.out'    # CHARMM output/log file\n",
    "\n",
    "        os.system('mkdir -p '+out_dir+'/dcd')\n",
    "        os.system('mkdir -p '+out_dir+'/res')\n",
    "        os.system('mkdir -p '+out_dir+'/pdb')\n",
    "\n",
    "        open_clog()\n",
    "        read_param()\n",
    "        \n",
    "        read_init()\n",
    "        \n",
    "        set_pbc()\n",
    "        define_sub(titr_res)\n",
    "        \n",
    "        if int(run)==1:\n",
    "           init_variables()\n",
    "           cwd=os.getcwd()\n",
    "           os.chdir(f'{wrk_dir}/analysis0')\n",
    "           set_var(run)\n",
    "           os.chdir(cwd)\n",
    "        var_df=pd.read_csv(f'{wrk_dir}/variables/var-run{run}.txt',index_col=0,header=0)\n",
    "        blk=setup_block(var_df,titr_res,pka[comp[0:3].upper()])\n",
    "        blk.run()\n",
    "        setup_nb(nbond)\n",
    "        \n",
    "        myscat=scat_restrain(titr_res,heavy=True)\n",
    "        myscat.restrain()\n",
    "        \n",
    "        lingo.charmm_script('energy blade')\n",
    "\n",
    "        # NPT simulation\n",
    "        dyn_dict={\n",
    "            'leap': True,\n",
    "            'verlet': False,\n",
    "            'cpt': False,\n",
    "            'new': False,\n",
    "            'langevin': False,\n",
    "            'omm': False,\n",
    "            'blade': True,\n",
    "            'start': True,\n",
    "            'timestep': 0.002,\n",
    "            'nstep': nsteps_eq,\n",
    "            'nsavc': nsavc,\n",
    "            'nsavv': 0,\n",
    "            'nsavl': 100,    # frequency for saving lambda values in lamda-dynamics\n",
    "            'nprint': nsavc, # Frequency to write to output\n",
    "            'iprfrq': nsavc, # Frequency to calculate averages\n",
    "            'isvfrq': nsavc, # Frequency to save restart file\n",
    "            'ntrfrq': 0,\n",
    "            'inbfrq':-1,\n",
    "            'ihbfrq':0,\n",
    "            'ilbfrq':0,\n",
    "            'imgfrq':-1,\n",
    "            'iunrea':-1,\n",
    "            'iunwri':rst_unit,\n",
    "            'iuncrd':dcd_unit,\n",
    "            'iunldm':lmd_unit,\n",
    "            'firstt': tsim,\n",
    "            'finalt': tsim,\n",
    "            'tstruct': tsim,\n",
    "            'tbath': tsim,\n",
    "            'prmc': True,\n",
    "            'iprs': 10,  # Monte carlo pressure frequency (50 is default)\n",
    "            'pref': 1,   # reference pressure (atmospheres)\n",
    "            'prdv': 100, # RMS proposed volume change (A cubed)\n",
    "            'iasors': 1, # assign velocities\n",
    "            'iasvel': 1, # method for assignment of velocities during heating & equil when IASORS is nonzero.\n",
    "                         # This option also controls the initial assignment of velocities \n",
    "            'iscale': 0, # not scale velocities on a restart\n",
    "            'scale': 1,  # scaling factor for velocity scaling\n",
    "            'ichecw': 0, # not check temperature\n",
    "            'echeck': -1 # not check energy\n",
    "        }\n",
    "        dyn_init()\n",
    "        \n",
    "        # equilibration\n",
    "        if int(phase)==1 or int(phase)==2:\n",
    "           dcd_fn=out_dir+'/dcd/'+name+'_eq.dcd'\n",
    "           rst_fn=out_dir+'/res/'+name+'_eq.res'\n",
    "           lmd_fn=out_dir+'/res/'+name+'_eq.lmd'\n",
    "           dcd=charmm_file.CharmmFile(file_name=dcd_fn,file_unit=dcd_unit,read_only=False,formatted=False)\n",
    "           rst=charmm_file.CharmmFile(file_name=rst_fn,file_unit=rst_unit,read_only=False,formatted='formatted')\n",
    "           lmd=charmm_file.CharmmFile(file_name=lmd_fn,file_unit=lmd_unit,read_only=False,formatted=False)\n",
    "           npt_eq=pycharmm.DynamicsScript(**dyn_dict)\n",
    "           npt_eq.run()\n",
    "           dcd.close()\n",
    "           rst.close()\n",
    "           lmd.close()\n",
    "        \n",
    "        \n",
    "        # production\n",
    "        if int(phase)==1 or int(phase)==2:\n",
    "           dcd_fn=out_dir+'/dcd/'+name+'_flat.dcd'\n",
    "           rst_fn=out_dir+'/res/'+name+'_flat.res'\n",
    "           lmd_fn=out_dir+'/res/'+name+'_flat.lmd'\n",
    "        elif int(phase)==3:\n",
    "           dcd_fn=out_dir+'/dcd/'+name+'_prod'+str(itt)+'.dcd'\n",
    "           rst_fn=out_dir+'/res/'+name+'_prod'+str(itt)+'.res'\n",
    "           lmd_fn=out_dir+'/res/'+name+'_prod'+str(itt)+'.lmd'\n",
    "           if itt>=2:\n",
    "              dyn_dict['start']=False\n",
    "              dyn_dict['restart']=True\n",
    "              dyn_dict['iunrea']=rpr_unit\n",
    "              rpr_fn=out_dir+'/res/'+name+'_prod'+str(ittm1)+'.res'\n",
    "              rpr=charmm_file.CharmmFile(file_name=rpr_fn,file_unit=rpr_unit,read_only=True,formatted='formatted')\n",
    "        \n",
    "        dyn_dict['nstep']=nsteps_prod\n",
    "        dcd=charmm_file.CharmmFile(file_name=dcd_fn,file_unit=dcd_unit,read_only=False,formatted=False)\n",
    "        rst=charmm_file.CharmmFile(file_name=rst_fn,file_unit=rst_unit,read_only=False,formatted='formatted')\n",
    "        lmd=charmm_file.CharmmFile(file_name=lmd_fn,file_unit=lmd_unit,read_only=False,formatted=False)\n",
    "        npt_prod=pycharmm.DynamicsScript(**dyn_dict)\n",
    "        npt_prod.run()\n",
    "        dcd.close()\n",
    "        rst.close()\n",
    "        lmd.close()\n",
    "        \n",
    "        # box size\n",
    "        boxx=lingo.get_energy_value('XTLA')\n",
    "        boxy=lingo.get_energy_value('XTLB')\n",
    "        boxz=lingo.get_energy_value('XTLC')\n",
    "        size=np.array([[boxx,boxy,boxz]])\n",
    "                \n",
    "        # last snapshot\n",
    "        if int(phase)==1 or int(phase)==2:\n",
    "           write.coor_pdb(out_dir+'/pdb/prod.pdb')\n",
    "           np.savetxt(out_dir+'/size.dat',size)\n",
    "        elif int(phase)==3:\n",
    "           write.coor_pdb(out_dir+'/pdb/prod'+str(itt)+'.pdb')\n",
    "           np.savetxt(out_dir+'/size'+str(itt)+'.dat',size)\n",
    "        \n",
    "        # analyze l-dynamics output\n",
    "        lmd=charmm_file.CharmmFile(file_name=lmd_fn,file_unit=lmd_unit,read_only=True,formatted=False)\n",
    "        lingo.charmm_script('traj lamb print ctlo 0.95 cthi 0.99 first %s nunit 1'%(lmd_unit))\n",
    "        lmd.close()\n",
    "\n",
    "        if int(phase)==1 or int(phase)==2:\n",
    "            # run ALF analysis to update biasing potential parameters\n",
    "            alf_flat_analysis(int(run),dir=wrk_dir)\n",
    "        elif int(phase)==3 and itt==nitt:\n",
    "            if os.path.exists(f'{wrk_dir}/run{run}{alpha_list[-1]}/pdb/prod{itt}.pdb'):\n",
    "                alf_prod_analysis(int(run),len(alpha_list),1,nitt,1,dir=wrk_dir)\n",
    "\n",
    "        # clear CHARMM systems for the next run\n",
    "        clear_system()"
   ]
  },
  {
   "cell_type": "markdown",
   "id": "046819ee-cc88-4c0a-92f7-31f094ef9cd4",
   "metadata": {},
   "source": [
    "#### Phase 1 of ALF flattening"
   ]
  },
  {
   "cell_type": "code",
   "execution_count": 22,
   "id": "6f05b413-e9b7-464e-bae1-3d2e5ca69fa9",
   "metadata": {
    "collapsed": true,
    "jupyter": {
     "outputs_hidden": true
    }
   },
   "outputs": [],
   "source": [
    "phase=1        # phase in ALF flattening\n",
    "itt=None       # index for iteraction in production run\n",
    "alpha=None     # an alphabet for one of the independent runs in production\n",
    "first_run=1\n",
    "last_run=50\n",
    "\n",
    "for run in range(first_run,last_run+1):\n",
    "    if not os.path.exists(f'{wrk_dir}/analysis{run}/b_sum.dat'):\n",
    "        run_dynamics()\n"
   ]
  },
  {
   "cell_type": "code",
   "execution_count": 23,
   "id": "0c815c56-9248-4461-842b-0b0a5fe9f97a",
   "metadata": {
    "collapsed": true,
    "jupyter": {
     "outputs_hidden": true
    }
   },
   "outputs": [
    {
     "data": {
      "image/png": "[encoded data removed]",
      "text/plain": [
       "<Figure size 640x480 with 1 Axes>"
      ]
     },
     "metadata": {},
     "output_type": "display_data"
    },
    {
     "data": {
      "image/png": "[encoded data removed]",
      "text/plain": [
       "<Figure size 640x480 with 1 Axes>"
      ]
     },
     "metadata": {},
     "output_type": "display_data"
    },
    {
     "data": {
      "image/png": "[encoded data removed]",
      "text/plain": [
       "<Figure size 640x480 with 1 Axes>"
      ]
     },
     "metadata": {},
     "output_type": "display_data"
    }
   ],
   "source": [
    "def plot_fixed(first_run,last_run):\n",
    "    fixed={}\n",
    "    for isite in range(nsites):\n",
    "        for isub in range(nsubs[isite]):\n",
    "            fixed[f'fixed_s{isite+1}s{isub+1}']=[]\n",
    "            for run in range(first_run,last_run+1):\n",
    "                fn=f'{wrk_dir}/variables/var-run{run}.txt'\n",
    "                var_df=pd.read_csv(fn,index_col=0,header=0)\n",
    "                fixed[f'fixed_s{isite+1}s{isub+1}'].append(var_df.loc[f'lams{isite+1}s{isub+1}','value'])\n",
    "            plt.xlabel('Run Index')\n",
    "            plt.ylabel('Fixed Parameter')\n",
    "            plt.plot(np.arange(first_run,last_run+1),fixed[f'fixed_s{isite+1}s{isub+1}'],label=f's{isite+1}s{isub+1}')\n",
    "            plt.legend()\n",
    "            plt.show()\n",
    "            \n",
    "plot_fixed(1,last_run)"
   ]
  },
  {
   "cell_type": "markdown",
   "id": "13130c9b-0de7-4617-9fcf-706f536a896d",
   "metadata": {},
   "source": [
    "#### Phase 2 of ALF flattening"
   ]
  },
  {
   "cell_type": "code",
   "execution_count": 24,
   "id": "46d0f490-0dae-4e88-ac0a-18761e0f2e45",
   "metadata": {
    "collapsed": true,
    "jupyter": {
     "outputs_hidden": true
    }
   },
   "outputs": [],
   "source": [
    "phase=2        # phase in ALF flattening\n",
    "itt=None       # index for iteraction in production run\n",
    "alpha=None     # an alphabet for one of the independent runs in production\n",
    "first_run=51\n",
    "last_run=65\n",
    "\n",
    "for run in range(first_run,last_run+1):\n",
    "    if not os.path.exists(f'{wrk_dir}/analysis{run}/b_sum.dat'):\n",
    "        run_dynamics()\n"
   ]
  },
  {
   "cell_type": "code",
   "execution_count": 25,
   "id": "6ada777a-9783-42c4-a4ea-a92956b8fca2",
   "metadata": {
    "collapsed": true,
    "jupyter": {
     "outputs_hidden": true
    }
   },
   "outputs": [
    {
     "data": {
      "image/png": "[encoded data removed]",
      "text/plain": [
       "<Figure size 640x480 with 1 Axes>"
      ]
     },
     "metadata": {},
     "output_type": "display_data"
    },
    {
     "data": {
      "image/png": "[encoded data removed]",
      "text/plain": [
       "<Figure size 640x480 with 1 Axes>"
      ]
     },
     "metadata": {},
     "output_type": "display_data"
    },
    {
     "data": {
      "image/png": "[encoded data removed]",
      "text/plain": [
       "<Figure size 640x480 with 1 Axes>"
      ]
     },
     "metadata": {},
     "output_type": "display_data"
    }
   ],
   "source": [
    "plot_fixed(1,last_run)"
   ]
  },
  {
   "cell_type": "markdown",
   "id": "cf689958-0219-46a6-9b4a-00bc17f3d3d2",
   "metadata": {},
   "source": [
    "#### Phase 3: production run "
   ]
  },
  {
   "cell_type": "code",
   "execution_count": 26,
   "id": "600aaf4c-5083-4351-8492-b23434125872",
   "metadata": {
    "collapsed": true,
    "jupyter": {
     "outputs_hidden": true
    }
   },
   "outputs": [],
   "source": [
    "phase=3        # phase in ALF flattening\n",
    "nitt=13        # number of iterations in production run\n",
    "alpha_list=['a','b','c']      # 5 independent runs in production\n",
    "first_run=66\n",
    "last_run=66\n",
    "\n",
    "for run in range(first_run,last_run+1):\n",
    "    for alpha in alpha_list:\n",
    "        for itt in range(1,nitt+1):\n",
    "            if not os.path.exists(f'{wrk_dir}/run{run}{alpha}/pdb/prod{itt}.pdb'):\n",
    "                run_dynamics()\n"
   ]
  },
  {
   "cell_type": "markdown",
   "id": "be3a9e2d-24e1-4fcf-b0d7-c2f426f141ba",
   "metadata": {},
   "source": [
    "### (2.2) Validation: use optimal $V_{bias}(\\{\\lambda\\})$ from ALF to run a CpHMD simulation (optional but recommended) "
   ]
  },
  {
   "cell_type": "markdown",
   "id": "3ab6fae7-8feb-49ce-a375-0d404268f188",
   "metadata": {},
   "source": [
    "#### Here we are going to use the above $V_{bias}(\\{\\lambda\\})$ to run CpHMD simulations under different pH. By calculating the titration curve, we could compute pKa value of the model compound, which should match the experimental value."
   ]
  },
  {
   "cell_type": "code",
   "execution_count": 27,
   "id": "5e367b91-95c2-4eb2-8a74-b25519c713d0",
   "metadata": {
    "collapsed": true,
    "jupyter": {
     "outputs_hidden": true
    }
   },
   "outputs": [],
   "source": [
    "def run_cphmd(pH,var_fn,itt):\n",
    "        global nsteps_eq, nsteps_prod, nsavc, out_dir, log_fn, ittm1  \n",
    "\n",
    "        nsteps_prod=2500000 # 5 ns\n",
    "        nsavc=10000   # saving frequency for dcd file\n",
    "        ittm1=itt-1\n",
    "        out_dir=f'{wrk_dir}/ph{pH}'          # output directory\n",
    "        log_fn=f'{out_dir}/prod{itt}.out'    # CHARMM output/log file\n",
    "\n",
    "        os.system('mkdir -p '+out_dir+'/dcd')\n",
    "        os.system('mkdir -p '+out_dir+'/res')\n",
    "        os.system('mkdir -p '+out_dir+'/pdb')\n",
    "        os.system('mkdir -p '+out_dir+'/box')\n",
    "\n",
    "        open_clog()\n",
    "        read_param()\n",
    "        \n",
    "        read_init()\n",
    "        \n",
    "        set_pbc()\n",
    "        define_sub(titr_res)\n",
    "        \n",
    "        var_df=pd.read_csv(var_fn,index_col=0,header=0)\n",
    "        blk=setup_block(var_df,titr_res,pH)\n",
    "        blk.run()\n",
    "        setup_nb(nbond)\n",
    "        \n",
    "        myscat=scat_restrain(titr_res,heavy=True)\n",
    "        myscat.restrain()\n",
    "        \n",
    "        lingo.charmm_script('energy blade')\n",
    "\n",
    "        # NPT simulation\n",
    "        dyn_dict={\n",
    "            'leap': True,\n",
    "            'verlet': False,\n",
    "            'cpt': False,\n",
    "            'new': False,\n",
    "            'langevin': False,\n",
    "            'omm': False,\n",
    "            'blade': True,\n",
    "            'start': True,\n",
    "            'timestep': 0.002,\n",
    "            'nstep': nsteps_prod,\n",
    "            'nsavc': nsavc,\n",
    "            'nsavv': 0,\n",
    "            'nsavl': 100,    # frequency for saving lambda values in lamda-dynamics\n",
    "            'nprint': nsavc, # Frequency to write to output\n",
    "            'iprfrq': nsavc, # Frequency to calculate averages\n",
    "            'isvfrq': nsavc, # Frequency to save restart file\n",
    "            'ntrfrq': 0,\n",
    "            'inbfrq':-1,\n",
    "            'ihbfrq':0,\n",
    "            'ilbfrq':0,\n",
    "            'imgfrq':-1,\n",
    "            'iunrea':-1,\n",
    "            'iunwri':rst_unit,\n",
    "            'iuncrd':dcd_unit,\n",
    "            'iunldm':lmd_unit,\n",
    "            'firstt': tsim,\n",
    "            'finalt': tsim,\n",
    "            'tstruct': tsim,\n",
    "            'tbath': tsim,\n",
    "            'prmc': True,\n",
    "            'iprs': 10,  # Monte carlo pressure frequency (50 is default)\n",
    "            'pref': 1,   # reference pressure (atmospheres)\n",
    "            'prdv': 100, # RMS proposed volume change (A cubed)\n",
    "            'iasors': 1, # assign velocities\n",
    "            'iasvel': 1, # method for assignment of velocities during heating & equil when IASORS is nonzero.\n",
    "                         # This option also controls the initial assignment of velocities \n",
    "            'iscale': 0, # not scale velocities on a restart\n",
    "            'scale': 1,  # scaling factor for velocity scaling\n",
    "            'ichecw': 0, # not check temperature\n",
    "            'echeck': -1 # not check energy\n",
    "        }\n",
    "        dyn_init()\n",
    "        \n",
    "\n",
    "        # production\n",
    "\n",
    "        dcd_fn=out_dir+'/dcd/'+name+'_prod'+str(itt)+'.dcd'\n",
    "        rst_fn=out_dir+'/res/'+name+'_prod'+str(itt)+'.res'\n",
    "        lmd_fn=out_dir+'/res/'+name+'_prod'+str(itt)+'.lmd'\n",
    "        if itt>=2:\n",
    "           dyn_dict['start']=False\n",
    "           dyn_dict['restart']=True\n",
    "           dyn_dict['iunrea']=rpr_unit\n",
    "           rpr_fn=out_dir+'/res/'+name+'_prod'+str(ittm1)+'.res'\n",
    "           rpr=charmm_file.CharmmFile(file_name=rpr_fn,file_unit=rpr_unit,read_only=True,formatted='formatted')\n",
    "        \n",
    "        dyn_dict['nstep']=nsteps_prod\n",
    "        dcd=charmm_file.CharmmFile(file_name=dcd_fn,file_unit=dcd_unit,read_only=False,formatted=False)\n",
    "        rst=charmm_file.CharmmFile(file_name=rst_fn,file_unit=rst_unit,read_only=False,formatted='formatted')\n",
    "        lmd=charmm_file.CharmmFile(file_name=lmd_fn,file_unit=lmd_unit,read_only=False,formatted=False)\n",
    "        npt_prod=pycharmm.DynamicsScript(**dyn_dict)\n",
    "        npt_prod.run()\n",
    "        dcd.close()\n",
    "        rst.close()\n",
    "        lmd.close()\n",
    "        \n",
    "        # box size\n",
    "        boxx=lingo.get_energy_value('XTLA')\n",
    "        boxy=lingo.get_energy_value('XTLB')\n",
    "        boxz=lingo.get_energy_value('XTLC')\n",
    "        size=np.array([[boxx,boxy,boxz]])\n",
    "                \n",
    "        # last snapshot\n",
    "        write.coor_pdb(out_dir+'/pdb/prod'+str(itt)+'.pdb')\n",
    "        np.savetxt(out_dir+'/box/size'+str(itt)+'.dat',size)\n",
    "        \n",
    "        # analyze l-dynamics output\n",
    "        lmd=charmm_file.CharmmFile(file_name=lmd_fn,file_unit=lmd_unit,read_only=True,formatted=False)\n",
    "        lingo.charmm_script('traj lamb print ctlo 0.95 cthi 0.99 first %s nunit 1'%(lmd_unit))\n",
    "        lmd.close()\n",
    "\n",
    "        # clear CHARMM systems for the next run\n",
    "        clear_system()"
   ]
  },
  {
   "cell_type": "code",
   "execution_count": 28,
   "id": "87a585ab-4753-4430-a9f4-3debae68280c",
   "metadata": {
    "collapsed": true,
    "jupyter": {
     "outputs_hidden": true
    }
   },
   "outputs": [
    {
     "name": "stdout",
     "output_type": "stream",
     "text": [
      " VOPEN> Attempting to open::./water-glu/ph2/prod1.out::\n",
      "  \n",
      " CHARMM>     outu 30\n",
      "A selection has been stored as SITEGLU1SUBW\n",
      "A selection has been stored as SITEGLU1SUBM\n",
      "A selection has been stored as SITEGLU1SUBP\n",
      "A selection has been stored as SITEGLU1SUBU\n",
      "Creating a copy of system\n",
      "allocating kcmap=0x557b203cf5f0\n",
      "allocating kcmap=0x557b203cf5d0\n",
      "allocating kcmap=0x557b203cf5d0\n",
      "allocating kcmap=0x557b203cf5d0\n",
      "allocating kcmap=0x557b203cf5d0\n",
      "allocating kcmap=0x557b203cf5d0\n",
      "PME grid(0) size: 36\n",
      "PME grid(1) size: 36\n",
      "PME grid(2) size: 36\n",
      "The following parameters are set heuristically at /home/xrliu/program/charmm/stable/charmm-compile/source/blade/src/domdec/domdec.cu:109, and can cause errors if set too low\n",
      "maxBlocks=454\n",
      "maxPartnersPerBlock=825\n",
      "freqDomdec=10 (how many steps before domain reset)\n",
      "cullPad=1.73008 (spatial padding for considering which blocks could interact\n",
      "maxBlockExclCount=1234 (can reallocate dynamically with \"run setvariable domdecheuristic off\")\n",
      "Destroying a copy of system\n",
      "Creating a copy of system\n",
      "allocating kcmap=0x557b20783b80\n",
      "allocating kcmap=0x557b20783b60\n",
      "allocating kcmap=0x557b20783b60\n",
      "allocating kcmap=0x557b20783b60\n",
      "allocating kcmap=0x557b20783b60\n",
      "allocating kcmap=0x557b20783b60\n",
      "PME grid(0) size: 36\n",
      "PME grid(1) size: 36\n",
      "PME grid(2) size: 36\n",
      "The following parameters are set heuristically at /home/xrliu/program/charmm/stable/charmm-compile/source/blade/src/domdec/domdec.cu:109, and can cause errors if set too low\n",
      "maxBlocks=454\n",
      "maxPartnersPerBlock=825\n",
      "freqDomdec=10 (how many steps before domain reset)\n",
      "cullPad=3.44948 (spatial padding for considering which blocks could interact\n",
      "maxBlockExclCount=1234 (can reallocate dynamically with \"run setvariable domdecheuristic off\")\n",
      "A selection has been stored as SITEGLU1SUBW\n",
      "A selection has been stored as SITEGLU1SUBM\n",
      "A selection has been stored as SITEGLU1SUBP\n",
      "A selection has been stored as SITEGLU1SUBU\n",
      "Destroying a copy of system\n",
      "Creating a copy of system\n",
      "allocating kcmap=0x557b1d9383b0\n",
      "allocating kcmap=0x557b1d938390\n",
      "allocating kcmap=0x557b1d938390\n",
      "allocating kcmap=0x557b1d938390\n",
      "allocating kcmap=0x557b1d938390\n",
      "allocating kcmap=0x557b1d938390\n",
      "PME grid(0) size: 36\n",
      "PME grid(1) size: 36\n",
      "PME grid(2) size: 36\n",
      "The following parameters are set heuristically at /home/xrliu/program/charmm/stable/charmm-compile/source/blade/src/domdec/domdec.cu:109, and can cause errors if set too low\n",
      "maxBlocks=454\n",
      "maxPartnersPerBlock=825\n",
      "freqDomdec=10 (how many steps before domain reset)\n",
      "cullPad=1.73008 (spatial padding for considering which blocks could interact\n",
      "maxBlockExclCount=1234 (can reallocate dynamically with \"run setvariable domdecheuristic off\")\n",
      "Destroying a copy of system\n",
      "Creating a copy of system\n",
      "allocating kcmap=0x557b208aae80\n",
      "allocating kcmap=0x557b208aae60\n",
      "allocating kcmap=0x557b208aae60\n",
      "allocating kcmap=0x557b208aae60\n",
      "allocating kcmap=0x557b208aae60\n",
      "allocating kcmap=0x557b208aae60\n",
      "PME grid(0) size: 36\n",
      "PME grid(1) size: 36\n",
      "PME grid(2) size: 36\n",
      "The following parameters are set heuristically at /home/xrliu/program/charmm/stable/charmm-compile/source/blade/src/domdec/domdec.cu:109, and can cause errors if set too low\n",
      "maxBlocks=454\n",
      "maxPartnersPerBlock=825\n",
      "freqDomdec=10 (how many steps before domain reset)\n",
      "cullPad=3.44948 (spatial padding for considering which blocks could interact\n",
      "maxBlockExclCount=1234 (can reallocate dynamically with \"run setvariable domdecheuristic off\")\n",
      "A selection has been stored as SITEGLU1SUBW\n",
      "A selection has been stored as SITEGLU1SUBM\n",
      "A selection has been stored as SITEGLU1SUBP\n",
      "A selection has been stored as SITEGLU1SUBU\n",
      "Destroying a copy of system\n",
      "Creating a copy of system\n",
      "allocating kcmap=0x557b208cf380\n",
      "allocating kcmap=0x557b208cf380\n",
      "allocating kcmap=0x557b208cf380\n",
      "allocating kcmap=0x557b208cf380\n",
      "allocating kcmap=0x557b208cf380\n",
      "allocating kcmap=0x557b208cf380\n",
      "PME grid(0) size: 36\n",
      "PME grid(1) size: 36\n",
      "PME grid(2) size: 36\n",
      "The following parameters are set heuristically at /home/xrliu/program/charmm/stable/charmm-compile/source/blade/src/domdec/domdec.cu:109, and can cause errors if set too low\n",
      "maxBlocks=454\n",
      "maxPartnersPerBlock=825\n",
      "freqDomdec=10 (how many steps before domain reset)\n",
      "cullPad=1.73008 (spatial padding for considering which blocks could interact\n",
      "maxBlockExclCount=1234 (can reallocate dynamically with \"run setvariable domdecheuristic off\")\n",
      "Destroying a copy of system\n",
      "Creating a copy of system\n",
      "allocating kcmap=0x557b1d6a7a30\n",
      "allocating kcmap=0x557b1d6a7a10\n",
      "allocating kcmap=0x557b1d6a7a10\n",
      "allocating kcmap=0x557b1d6a7a10\n",
      "allocating kcmap=0x557b1d6a7a10\n",
      "allocating kcmap=0x557b1d6a7a10\n",
      "PME grid(0) size: 36\n",
      "PME grid(1) size: 36\n",
      "PME grid(2) size: 36\n",
      "The following parameters are set heuristically at /home/xrliu/program/charmm/stable/charmm-compile/source/blade/src/domdec/domdec.cu:109, and can cause errors if set too low\n",
      "maxBlocks=454\n",
      "maxPartnersPerBlock=825\n",
      "freqDomdec=10 (how many steps before domain reset)\n",
      "cullPad=3.44948 (spatial padding for considering which blocks could interact\n",
      "maxBlockExclCount=1234 (can reallocate dynamically with \"run setvariable domdecheuristic off\")\n",
      "A selection has been stored as SITEGLU1SUBW\n",
      "A selection has been stored as SITEGLU1SUBM\n",
      "A selection has been stored as SITEGLU1SUBP\n",
      "A selection has been stored as SITEGLU1SUBU\n",
      "Destroying a copy of system\n",
      "Creating a copy of system\n",
      "allocating kcmap=0x557b1d81d5b0\n",
      "allocating kcmap=0x557b1d81d590\n",
      "allocating kcmap=0x557b1d81d590\n",
      "allocating kcmap=0x557b1d81d590\n",
      "allocating kcmap=0x557b1d81d590\n",
      "allocating kcmap=0x557b1d81d590\n",
      "PME grid(0) size: 36\n",
      "PME grid(1) size: 36\n",
      "PME grid(2) size: 36\n",
      "The following parameters are set heuristically at /home/xrliu/program/charmm/stable/charmm-compile/source/blade/src/domdec/domdec.cu:109, and can cause errors if set too low\n",
      "maxBlocks=454\n",
      "maxPartnersPerBlock=825\n",
      "freqDomdec=10 (how many steps before domain reset)\n",
      "cullPad=1.73008 (spatial padding for considering which blocks could interact\n",
      "maxBlockExclCount=1234 (can reallocate dynamically with \"run setvariable domdecheuristic off\")\n",
      "Destroying a copy of system\n",
      "Creating a copy of system\n",
      "allocating kcmap=0x557b21615450\n",
      "allocating kcmap=0x557b21615430\n",
      "allocating kcmap=0x557b21615430\n",
      "allocating kcmap=0x557b21615430\n",
      "allocating kcmap=0x557b21615430\n",
      "allocating kcmap=0x557b21615430\n",
      "PME grid(0) size: 36\n",
      "PME grid(1) size: 36\n",
      "PME grid(2) size: 36\n",
      "The following parameters are set heuristically at /home/xrliu/program/charmm/stable/charmm-compile/source/blade/src/domdec/domdec.cu:109, and can cause errors if set too low\n",
      "maxBlocks=454\n",
      "maxPartnersPerBlock=825\n",
      "freqDomdec=10 (how many steps before domain reset)\n",
      "cullPad=3.44948 (spatial padding for considering which blocks could interact\n",
      "maxBlockExclCount=1234 (can reallocate dynamically with \"run setvariable domdecheuristic off\")\n",
      "A selection has been stored as SITEGLU1SUBW\n",
      "A selection has been stored as SITEGLU1SUBM\n",
      "A selection has been stored as SITEGLU1SUBP\n",
      "A selection has been stored as SITEGLU1SUBU\n",
      "Destroying a copy of system\n",
      "Creating a copy of system\n",
      "allocating kcmap=0x557b2087f230\n",
      "allocating kcmap=0x557b2087f230\n",
      "allocating kcmap=0x557b2087f230\n",
      "allocating kcmap=0x557b2087f230\n",
      "allocating kcmap=0x557b2087f230\n",
      "allocating kcmap=0x557b2087f230\n",
      "PME grid(0) size: 36\n",
      "PME grid(1) size: 36\n",
      "PME grid(2) size: 36\n",
      "The following parameters are set heuristically at /home/xrliu/program/charmm/stable/charmm-compile/source/blade/src/domdec/domdec.cu:109, and can cause errors if set too low\n",
      "maxBlocks=454\n",
      "maxPartnersPerBlock=825\n",
      "freqDomdec=10 (how many steps before domain reset)\n",
      "cullPad=1.73008 (spatial padding for considering which blocks could interact\n",
      "maxBlockExclCount=1234 (can reallocate dynamically with \"run setvariable domdecheuristic off\")\n",
      "Destroying a copy of system\n",
      "Creating a copy of system\n",
      "allocating kcmap=0x557b1d6d9fb0\n",
      "allocating kcmap=0x557b1d6d9fb0\n",
      "allocating kcmap=0x557b1d6d9fb0\n",
      "allocating kcmap=0x557b1d6d9fb0\n",
      "allocating kcmap=0x557b1d6d9fb0\n",
      "allocating kcmap=0x557b1d6d9fb0\n",
      "PME grid(0) size: 36\n",
      "PME grid(1) size: 36\n",
      "PME grid(2) size: 36\n",
      "The following parameters are set heuristically at /home/xrliu/program/charmm/stable/charmm-compile/source/blade/src/domdec/domdec.cu:109, and can cause errors if set too low\n",
      "maxBlocks=454\n",
      "maxPartnersPerBlock=825\n",
      "freqDomdec=10 (how many steps before domain reset)\n",
      "cullPad=3.44948 (spatial padding for considering which blocks could interact\n",
      "maxBlockExclCount=1234 (can reallocate dynamically with \"run setvariable domdecheuristic off\")\n"
     ]
    }
   ],
   "source": [
    "#pH_list=[8,9,10,11,12]\n",
    "pH_list=[2,3,4,5,6]\n",
    "\n",
    "for pH in pH_list:\n",
    "    for itt in range(1,2):\n",
    "        if not os.path.exists(f'{wrk_dir}/ph{pH}/pdb/prod{itt}.pdb'):\n",
    "            run_cphmd(pH,f'{wrk_dir}/variables/var-run67.txt',itt)    "
   ]
  },
  {
   "cell_type": "code",
   "execution_count": 29,
   "id": "270cda4c-89b8-421e-a864-aebb7ccb8065",
   "metadata": {
    "collapsed": true,
    "jupyter": {
     "outputs_hidden": true
    }
   },
   "outputs": [
    {
     "name": "stderr",
     "output_type": "stream",
     "text": [
      "/home/xrliu/program/anaconda/anaconda3-2021/envs/CHARMM/lib/python3.11/site-packages/scipy/io/_fortran.py:255: FutureWarning: Passing (type, 1) or '1type' as a synonym of type is deprecated; in a future version of numpy, it will be understood as (type, (1,)) / '(1,)type'.\n",
      "  dtypes = tuple(np.dtype(dtype) for dtype in dtypes)\n"
     ]
    }
   ],
   "source": [
    "S_list=[]\n",
    "\n",
    "for pH in pH_list:\n",
    "    fnmsin=[]\n",
    "    for itt in range(1,2):\n",
    "        fnmsin.append(f'{wrk_dir}/ph{pH}/res/{name}_prod{itt}.lmd')\n",
    "    fnmout=f'{wrk_dir}/ph{pH}/res/lmd.dat'\n",
    "    GetLambda(alf_info,fnmout,fnmsin)\n",
    "    lmd=np.loadtxt(fnmout)\n",
    "\n",
    "    cutoff=0.99\n",
    "    \n",
    "    AA=comp[0:3].upper()\n",
    "    if AA=='ASP' or AA=='GLU':\n",
    "       P_u=np.sum(lmd[:,0]>cutoff)\n",
    "       P_p=np.sum(lmd[:,1]>cutoff)\n",
    "       if nsubs[0]==3:\n",
    "          P_p=P_p+np.sum(lmd[:,2]>cutoff)\n",
    "    elif AA=='LYS' or AA=='HSD' or AA=='HSE' or AA=='HSP':\n",
    "       P_p=np.sum(lmd[:,0]>cutoff)\n",
    "       P_u=np.sum(lmd[:,1]>cutoff)\n",
    "       if nsubs[0]==3:\n",
    "          P_u=P_u+np.sum(lmd[:,2]>cutoff)\n",
    "    \n",
    "    S=float(P_u)/float((P_u+P_p))\n",
    "    S_list.append(S)\n",
    "    np.savetxt(f'{wrk_dir}/ph{pH}/res/S.dat',np.array([S]))\n"
   ]
  },
  {
   "cell_type": "code",
   "execution_count": 30,
   "id": "f163b4e0-1054-4434-9f35-448766dea7a4",
   "metadata": {
    "collapsed": true,
    "jupyter": {
     "outputs_hidden": true
    }
   },
   "outputs": [
    {
     "data": {
      "text/plain": [
       "[<matplotlib.lines.Line2D at 0x7f315f520250>]"
      ]
     },
     "execution_count": 30,
     "metadata": {},
     "output_type": "execute_result"
    },
    {
     "data": {
      "image/png": "[encoded data removed]",
      "text/plain": [
       "<Figure size 640x480 with 1 Axes>"
      ]
     },
     "metadata": {},
     "output_type": "display_data"
    }
   ],
   "source": [
    "plt.ylim(0,1)\n",
    "plt.plot(pH_list,S_list)\n",
    "\n"
   ]
  },
  {
   "cell_type": "code",
   "execution_count": 31,
   "id": "45c9347f-41e7-4168-bbe9-5ab759dbb8b6",
   "metadata": {
    "collapsed": true,
    "jupyter": {
     "outputs_hidden": true
    }
   },
   "outputs": [],
   "source": [
    "def func(pH, pKa, n):\n",
    "    return 1/(1+10**(-1*n*(pH-pKa)))"
   ]
  },
  {
   "cell_type": "code",
   "execution_count": 32,
   "id": "55a95223-8cc6-41c5-a8e6-34d72bb84d29",
   "metadata": {
    "collapsed": true,
    "jupyter": {
     "outputs_hidden": true
    }
   },
   "outputs": [],
   "source": [
    "popt, pcov = curve_fit(func, pH_list, S_list,bounds=([-1,0], [15,5]))"
   ]
  },
  {
   "cell_type": "code",
   "execution_count": 33,
   "id": "dab6813c-9037-47ac-98b7-ea2b932d0f89",
   "metadata": {
    "collapsed": true,
    "jupyter": {
     "outputs_hidden": true
    }
   },
   "outputs": [
    {
     "data": {
      "text/plain": [
       "<matplotlib.legend.Legend at 0x7f319532a3d0>"
      ]
     },
     "execution_count": 33,
     "metadata": {},
     "output_type": "execute_result"
    },
    {
     "data": {
      "image/png": "[encoded data removed]",
      "text/plain": [
       "<Figure size 640x480 with 1 Axes>"
      ]
     },
     "metadata": {},
     "output_type": "display_data"
    }
   ],
   "source": [
    "\n",
    "plt.xlabel('pH')\n",
    "plt.ylabel('S')\n",
    "plt.ylim(0,1)\n",
    "plt.plot(pH_list,S_list,'b-', label='sim')\n",
    "plt.plot(pH_list, func(pH_list, *popt), 'r-',label='fit: pKa=%5.3f, n=%5.3f' % tuple(popt))\n",
    "plt.legend()\n"
   ]
  },
  {
   "cell_type": "markdown",
   "id": "fc09caae-65e8-45c7-9cc6-c41c4a227ea7",
   "metadata": {},
   "source": [
    "## (3) Set up a CpHMD simulation for a peptide"
   ]
  },
  {
   "cell_type": "code",
   "execution_count": null,
   "id": "a09b40fb-c7e4-4212-a4de-8ca1f9527c6f",
   "metadata": {
    "collapsed": true,
    "jupyter": {
     "outputs_hidden": true
    }
   },
   "outputs": [],
   "source": []
  },
  {
   "cell_type": "markdown",
   "id": "0e15166e-8292-40f6-8131-2689b46c20cb",
   "metadata": {},
   "source": []
  },
  {
   "cell_type": "markdown",
   "id": "88537074-5bc2-4be7-8997-cdca7a1c6ed4",
   "metadata": {},
   "source": [
    "## (4) Addtional remarks"
   ]
  }
 ],
 "metadata": {
  "kernelspec": {
   "display_name": "Python 3 (ipykernel)",
   "language": "python",
   "name": "python3"
  },
  "language_info": {
   "codemirror_mode": {
    "name": "ipython",
    "version": 3
   },
   "file_extension": ".py",
   "mimetype": "text/x-python",
   "name": "python",
   "nbconvert_exporter": "python",
   "pygments_lexer": "ipython3",
   "version": "3.11.0"
  }
 },
 "nbformat": 4,
 "nbformat_minor": 5
}
