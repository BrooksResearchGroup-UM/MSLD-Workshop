{
 "cells": [
  {
   "cell_type": "markdown",
   "id": "bb9a3a9d",
   "metadata": {},
   "source": [
    "<div class=\"alert alert-block alert-info\">\n",
    "<b>Note:</b> To run this notebook, MMTSB needs to be installed\n",
    "    \n",
    "</div>"
   ]
  },
  {
   "cell_type": "code",
   "execution_count": 1,
   "id": "21b0360b-e391-4280-a84c-5192d48fa6f0",
   "metadata": {},
   "outputs": [],
   "source": [
    "import os\n",
    "import sys\n",
    "import subprocess\n",
    "import numpy as np\n",
    "import pandas as pd\n",
    "import shlex\n",
    "\n",
    "import pycharmm\n",
    "import pycharmm.read as read\n",
    "import pycharmm.lingo as lingo\n",
    "import pycharmm.generate as gen\n",
    "import pycharmm.settings as settings\n",
    "import pycharmm.write as write\n",
    "import pycharmm.nbonds as nbonds\n",
    "import pycharmm.ic as ic\n",
    "import pycharmm.coor as coor\n",
    "import pycharmm.energy as energy\n",
    "import pycharmm.dynamics as dyn\n",
    "import pycharmm.minimize as minimize\n",
    "import pycharmm.crystal as crystal\n",
    "import pycharmm.select as select\n",
    "import pycharmm.image as image\n",
    "import pycharmm.psf as psf\n",
    "import pycharmm.param as param\n",
    "import pycharmm.cons_harm as cons_harm\n",
    "import pycharmm.cons_fix as cons_fix\n",
    "import pycharmm.shake as shake\n",
    "import pycharmm.scalar as scalar\n",
    "import pycharmm.charmm_file as charmm_file"
   ]
  },
  {
   "cell_type": "markdown",
   "id": "b0d21ca5",
   "metadata": {},
   "source": [
    "The following variables need to be defined"
   ]
  },
  {
   "cell_type": "code",
   "execution_count": 2,
   "id": "e7e9b3b3-96d7-4491-ad66-7b8965505225",
   "metadata": {},
   "outputs": [],
   "source": [
    "fname_base='kaaeh'    # system name\n",
    "seq_str='LYS ALA ALA GLU HSP'\n",
    "out_dir='./test2'\n"
   ]
  },
  {
   "cell_type": "code",
   "execution_count": 3,
   "id": "f2c2458b",
   "metadata": {},
   "outputs": [],
   "source": [
    "prm_dir='./toppar_c36_jul21'\n",
    "out_fn=f'{fname_base}-3state'\n",
    "os.system(f'mkdir -p {out_dir}')\n",
    "log_fn=out_dir+'/charmm.out'"
   ]
  },
  {
   "cell_type": "code",
   "execution_count": 4,
   "id": "8e611d6f-92c2-4987-af19-9face75fe985",
   "metadata": {},
   "outputs": [],
   "source": [
    "log_unit=20\n",
    "segid='PROT'   # segment ID for the peptide"
   ]
  },
  {
   "cell_type": "code",
   "execution_count": 5,
   "id": "5cdeefc9-f8de-4add-a946-c1b3dff314c5",
   "metadata": {},
   "outputs": [],
   "source": [
    "def open_clog():\n",
    "    '''\n",
    "    specify charmm output file for a given system\n",
    "    '''\n",
    "    clog=charmm_file.CharmmFile(file_name=log_fn,file_unit=log_unit,read_only=False,formatted=True)\n",
    "    lingo.charmm_script('outu {}'.format(log_unit))"
   ]
  },
  {
   "cell_type": "code",
   "execution_count": 6,
   "id": "2ce40273-ab8d-4167-a872-8952232004ee",
   "metadata": {},
   "outputs": [],
   "source": [
    "def read_param():\n",
    "    read.rtf(prm_dir+'/top_all36_prot.rtf')\n",
    "    read.rtf(prm_dir+'/cphmd_patch.rtf',append=True)\n",
    "    read.prm(prm_dir+'/par_all36m_prot.prm',flex=True)\n",
    "    lingo.charmm_script('stream '+prm_dir+'/toppar_water_ions.str')"
   ]
  },
  {
   "cell_type": "code",
   "execution_count": 7,
   "id": "bbc21f0f-b5a0-4f07-a12d-d439eb4bddf3",
   "metadata": {},
   "outputs": [],
   "source": [
    "def gen_init():\n",
    "    read.sequence_string(seq_str)\n",
    "    gen.new_segment(seg_name=segid,first_patch='ACE',last_patch='CT3',setup_ic=True)\n",
    "    ic.prm_fill(replace_all=True)\n",
    "    ic.seed(1, 'CAY', 1, 'CY', 1, 'N')\n",
    "    ic.build()\n",
    "    lingo.charmm_script('Hbuild')\n",
    "    write.psf_card(f'{out_dir}/{fname_base}.psf')\n",
    "    write.coor_pdb(f'{out_dir}/{fname_base}.pdb')\n",
    "    num_chrg=round(lingo.get_energy_value('CGTOT'))\n",
    "    return num_chrg\n",
    "\n"
   ]
  },
  {
   "cell_type": "code",
   "execution_count": 8,
   "id": "87f2609b-9d16-4ba1-b8e7-c3a994201276",
   "metadata": {},
   "outputs": [],
   "source": [
    "def switch_atom_names(resn):\n",
    "    if resn == 'ASP':\n",
    "       lingo.charmm_script('''\n",
    "            rename atome OD1T sele type OD1 .and. resn ASP end\n",
    "            rename atome OD2T sele type OD2 .and. resn ASP end\n",
    "            rename atome HD2T sele type HD2 .and. resn ASP end\n",
    "            rename atome OD2 sele type OD1T .and. resn ASP end\n",
    "            rename atome OD1 sele type OD2T .and. resn ASP end\n",
    "            rename atome HD1 sele type HD2T .and. resn ASP end\n",
    "       ''')\n",
    "    elif resn == 'GLU':\n",
    "       lingo.charmm_script('''\n",
    "            rename atome OE1T sele type OE1 .and. resn GLU end\n",
    "            rename atome OE2T sele type OE2 .and. resn GLU end\n",
    "            rename atome HE2T sele type HE2 .and. resn GLU end\n",
    "            rename atome OE2 sele type OE1T .and. resn GLU end\n",
    "            rename atome OE1 sele type OE2T .and. resn GLU end\n",
    "            rename atome HE1 sele type HE2T .and. resn GLU end\n",
    "       ''')\n"
   ]
  },
  {
   "cell_type": "code",
   "execution_count": 9,
   "id": "110f977e-c03e-4630-ab51-ac9fe8847fab",
   "metadata": {},
   "outputs": [],
   "source": [
    "def remove_suffix(resn,suffix):\n",
    "    '''\n",
    "    remove suffix from titratable groups\n",
    "    '''\n",
    "    atom_list=titr_grp(resn.upper())\n",
    "    for name in atom_list:\n",
    "        lingo.charmm_script('rename atom {} sele type {}{} .and. resn {} end'.format(name,name,suffix,resn))\n",
    "\n"
   ]
  },
  {
   "cell_type": "code",
   "execution_count": 10,
   "id": "8b039684-2486-452f-8dfe-3166b5f9bd6e",
   "metadata": {},
   "outputs": [],
   "source": [
    "class state1_o2:\n",
    "    '''\n",
    "    generate state1 structure: protonation & add atom name suffix.\n",
    "    add H at OD2 position for ASP, or OE2 position for GLU.\n",
    "    by default, this is what charmm36m does when patching. \n",
    "    '''\n",
    "    def __init__(self,titr_res):\n",
    "        self.titr_res_dict=titr_res\n",
    "        self.asp_patch()\n",
    "        self.glu_patch()\n",
    "        self.reset_ic()\n",
    "        self.asp_edit_ic()\n",
    "        self.glu_edit_ic()\n",
    "        lingo.charmm_script('ic build')\n",
    "        write.psf_card(out_dir+'/'+fname_base+'-state1-o2.psf')\n",
    "        add_suffix('ASP', 'p')\n",
    "        add_suffix('GLU', 'm')\n",
    "        add_suffix('HSP', 'u')\n",
    "        add_suffix('LYS', 'm')\n",
    "        write.coor_pdb(out_dir+'/'+fname_base+'-state1-o2.pdb')\n",
    "    def asp_patch(self):\n",
    "        resid_list=self.titr_res_dict['ASP'][0]\n",
    "        for i in range(0,len(resid_list)):\n",
    "            resid=resid_list[i]\n",
    "            self.patch('ASP',resid)\n",
    "    def glu_patch(self):\n",
    "        resid_list=self.titr_res_dict['GLU'][0]\n",
    "        for i in range(0,len(resid_list)):\n",
    "            resid=resid_list[i]\n",
    "            self.patch('GLU',resid)\n",
    "    def patch(self,resn,resid):\n",
    "        lingo.charmm_script('''\n",
    "              patch {}p {} {}\n",
    "        '''.format(resn,segid,resid))\n",
    "    def reset_ic(self):\n",
    "        lingo.charmm_script('''\n",
    "              autogen angles dihed\n",
    "              hbuild\n",
    "              ic gene\n",
    "              ic fill\n",
    "        ''')\n",
    "    def edit_ic(self,resn,resid,resinx):\n",
    "        if resn == 'ASP':\n",
    "           ic.edit_dihedral(resinx,'CB',resinx,'CG',resinx,'OD2',resinx,'HD2',180)\n",
    "           lingo.charmm_script('coor init sele type HD2 .and. resid {} end'.format(resid))\n",
    "        elif resn == 'GLU':\n",
    "           ic.edit_dihedral(resinx,'CG',resinx,'CD',resinx,'OE2',resinx,'HE2',180)\n",
    "           lingo.charmm_script('coor init sele type HE2 .and. resid {} end'.format(resid))\n",
    "    def asp_edit_ic(self):\n",
    "        resid_list=self.titr_res_dict['ASP'][0]\n",
    "        resinx_list=self.titr_res_dict['ASP'][1]\n",
    "        for i in range(0,len(resinx_list)):\n",
    "            resid=resid_list[i]\n",
    "            resinx=int(resinx_list[i])+1\n",
    "            self.edit_ic('ASP',resid,resinx)\n",
    "    def glu_edit_ic(self):\n",
    "        resid_list=self.titr_res_dict['GLU'][0]\n",
    "        resinx_list=self.titr_res_dict['GLU'][1]\n",
    "        for i in range(0,len(resinx_list)):\n",
    "            resid=resid_list[i]\n",
    "            resinx=int(resinx_list[i])+1\n",
    "            self.edit_ic('GLU',resid,resinx)\n",
    "\n"
   ]
  },
  {
   "cell_type": "code",
   "execution_count": 11,
   "id": "f5e9afd5-f73f-4e05-9336-6f0a947bbc3c",
   "metadata": {},
   "outputs": [],
   "source": [
    "class patch_all:\n",
    "    '''\n",
    "    generate psf and pdb for the hybrid model (protein only)\n",
    "    '''\n",
    "    def __init__(self,titr_res,ns):\n",
    "        self.titr_res_dict=titr_res\n",
    "        self.patch(ns)\n",
    "        self.del_connect()\n",
    "        write.psf_card(f'{out_dir}/{out_fn}.psf')\n",
    "        settings.set_bomb_level(-1)\n",
    "        read.pdb(out_dir+'/'+fname_base+'-state1-o2.pdb',resid=True)\n",
    "        read.pdb(out_dir+'/'+fname_base+'-state2-o1.pdb',resid=True)\n",
    "        settings.set_bomb_level(0)\n",
    "        coor_shift(self.titr_res_dict)\n",
    "        write.coor_pdb(f'{out_dir}/{out_fn}.pdb')\n",
    "    def patch(self,ns):\n",
    "        ns=int(ns)\n",
    "        # to bypass the error of \"MISSING PARAMETERS\"\n",
    "        settings.set_bomb_level(-2)\n",
    "        for resn in list(self.titr_res_dict.keys()):\n",
    "            AA=resn.upper()\n",
    "            resid_list=self.titr_res_dict[resn][0]\n",
    "            for resid in resid_list:\n",
    "                if ns==2:\n",
    "                   if AA=='ASP':\n",
    "                      lingo.charmm_script('''\n",
    "                            patch ASPP1 %s %s setup\n",
    "                      '''%(segid,resid))\n",
    "                   elif AA=='GLU':\n",
    "                      lingo.charmm_script('''\n",
    "                            patch GLUP1 %s %s setup\n",
    "                      '''%(segid,resid))\n",
    "                elif ns==3:\n",
    "                   if AA=='ASP':\n",
    "                      lingo.charmm_script('''\n",
    "                            patch ASPP1 %s %s setup\n",
    "                            patch ASPP2 %s %s setup\n",
    "                      '''%(segid,resid,segid,resid))\n",
    "                   elif AA=='GLU':\n",
    "                      lingo.charmm_script('''\n",
    "                            patch GLUP1 %s %s setup\n",
    "                            patch GLUP2 %s %s setup\n",
    "                      '''%(segid,resid,segid,resid))\n",
    "                if AA=='HSP':\n",
    "                   lingo.charmm_script('''\n",
    "                         patch HSDN %s %s setup\n",
    "                         patch HSEN %s %s setup\n",
    "                   '''%(segid,resid,segid,resid))\n",
    "                elif AA=='LYS':\n",
    "                   lingo.charmm_script('''\n",
    "                         patch LYSN %s %s setup\n",
    "                   '''%(segid,resid))\n",
    "        lingo.charmm_script('autogen angles dihed')\n",
    "        settings.set_bomb_level(0)\n",
    "    def del_connect(self):    \n",
    "        for resn in list(self.titr_res_dict.keys()):\n",
    "            AA=resn.upper()\n",
    "            resid_list=self.titr_res_dict[resn][0]\n",
    "            for resid in resid_list:\n",
    "                atom_list=titr_grp(AA)\n",
    "                sele1=~pycharmm.SelectAtoms(select_all=True)\n",
    "                sele2=~pycharmm.SelectAtoms(select_all=True)\n",
    "                sele3=~pycharmm.SelectAtoms(select_all=True)\n",
    "                if AA=='HSP':\n",
    "                   suffix1='u'\n",
    "                   suffix2='m'\n",
    "                else:\n",
    "                   suffix1='m'\n",
    "                   suffix2='p'\n",
    "                for name in atom_list:\n",
    "                    sele1 = sele1 | pycharmm.SelectAtoms(atom_type=name+'W')\n",
    "                    sele2 = sele2 | pycharmm.SelectAtoms(atom_type=name+suffix1.upper())\n",
    "                    sele3 = sele3 | pycharmm.SelectAtoms(atom_type=name+suffix2.upper())\n",
    "                psf.delete_connectivity(sele1,sele2) \n",
    "                psf.delete_connectivity(sele1,sele3) \n",
    "                psf.delete_connectivity(sele2,sele3) \n"
   ]
  },
  {
   "cell_type": "code",
   "execution_count": 12,
   "id": "6a00d180-2b50-49db-9ddf-412f5e80bf00",
   "metadata": {},
   "outputs": [],
   "source": [
    "class state2_o1:\n",
    "    '''\n",
    "    generate state2 structure: very similar to state1 but w/ different atom name suffix.\n",
    "    add H at OD1 position for ASP, or OE1 position for GLU.\n",
    "    '''\n",
    "    def __init__(self):\n",
    "        self.protonation_o1('ASP','p')\n",
    "        self.protonation_o1('GLU','m')\n",
    "        self.protonation_o1('HSP','u')\n",
    "        self.protonation_o1('LYS','m')\n",
    "        write.coor_pdb(out_dir+'/tmp.pdb')\n",
    "        lingo.charmm_script('delete atom sele all end')\n",
    "        read.psf_card(out_dir+'/'+fname_base+'-state1-o2.psf')\n",
    "        read.pdb(out_dir+'/tmp.pdb',resid=True)\n",
    "        lingo.charmm_script('hbuild')\n",
    "        switch_atom_names('ASP')\n",
    "        switch_atom_names('GLU')\n",
    "        add_suffix('ASP','m')\n",
    "        add_suffix('GLU','p')\n",
    "        add_suffix('HSP','m')\n",
    "        add_suffix('LYS','p')\n",
    "        write.coor_pdb(out_dir+'/'+fname_base+'-state2-o1.pdb')\n",
    "        os.system('rm -f '+out_dir+'/tmp.pdb')\n",
    "    def protonation_o1(self,selresn,suffix_old):\n",
    "        selresn=selresn.upper()\n",
    "        atom_list=titr_grp(selresn)\n",
    "        # remove old suffix\n",
    "        remove_suffix(selresn,suffix_old)\n",
    "        if selresn == 'ASP' or selresn == 'GLU':\n",
    "           # delete the newly added H\n",
    "           lingo.charmm_script('''\n",
    "                 bomblev -1\n",
    "                 delete atom sele resn {} .and. ( type HD2 .or. type HE2 ) end\n",
    "                 bomblev 0 \n",
    "           '''.format(selresn))\n",
    "           # switch atom names\n",
    "           switch_atom_names(selresn)\n"
   ]
  },
  {
   "cell_type": "code",
   "execution_count": 13,
   "id": "848bdeca-4d8c-49da-bd24-5bd4c544cef0",
   "metadata": {},
   "outputs": [],
   "source": [
    "def find_titr_res():\n",
    "    '''\n",
    "    Find titratable residues in a PDB structure.\n",
    "    Return a dictionary of residue IDs and names.\n",
    "    '''\n",
    "    sele_ca=pycharmm.SelectAtoms(atom_type='CA')\n",
    "    sele_asp=pycharmm.SelectAtoms(res_name='ASP')\n",
    "    sele_glu=pycharmm.SelectAtoms(res_name='GLU')\n",
    "    sele_hsp=pycharmm.SelectAtoms(res_name='HSP')\n",
    "    sele_hsd=pycharmm.SelectAtoms(res_name='HSD')\n",
    "    sele_hse=pycharmm.SelectAtoms(res_name='HSE')\n",
    "    sele_lys=pycharmm.SelectAtoms(res_name='LYS')\n",
    "    sele_ca_asp=sele_ca & sele_asp\n",
    "    sele_ca_glu=sele_ca & sele_glu\n",
    "    sele_ca_hsp=sele_ca & ( sele_hsp | sele_hsd | sele_hse )\n",
    "    sele_ca_lys=sele_ca & sele_lys\n",
    "    sele_asp_resid=sele_ca_asp.get_res_ids()\n",
    "    sele_glu_resid=sele_ca_glu.get_res_ids()\n",
    "    sele_hsp_resid=sele_ca_hsp.get_res_ids()\n",
    "    sele_lys_resid=sele_ca_lys.get_res_ids()\n",
    "    sele_asp_resinx=sele_ca_asp.get_res_indexes()\n",
    "    sele_glu_resinx=sele_ca_glu.get_res_indexes()\n",
    "    sele_hsp_resinx=sele_ca_hsp.get_res_indexes()\n",
    "    sele_lys_resinx=sele_ca_lys.get_res_indexes()\n",
    "    titr_res_dict={'ASP':[sele_asp_resid,sele_asp_resinx],\n",
    "                   'GLU':[sele_glu_resid,sele_glu_resinx],\n",
    "                   'HSP':[sele_hsp_resid,sele_hsp_resinx],\n",
    "                   'LYS':[sele_lys_resid,sele_lys_resinx]}\n",
    "    print(titr_res_dict)\n",
    "    return titr_res_dict\n"
   ]
  },
  {
   "cell_type": "code",
   "execution_count": 14,
   "id": "da04f911-012a-466d-ae22-5b843d6ecbda",
   "metadata": {},
   "outputs": [],
   "source": [
    "def titr_grp(resn):\n",
    "    '''\n",
    "    atom names in the titratable group for a given amino acid\n",
    "    '''\n",
    "    if resn == 'ASP' or resn == 'ASPM': \n",
    "       type_list=['CB','HB1','HB2','CG','OD1','OD2','HD1','HD2']\n",
    "    elif resn == 'GLU' or resn == 'GLUM':\n",
    "       type_list=['CG','HG1','HG2','CD','OE1','OE2','HE1','HE2']\n",
    "    elif resn == 'HSP' or resn == 'HSD' or resn == 'HSE':\n",
    "       type_list=['CB','HB1','HB2','CG','ND1','HD1','CE1','HE1','CD2','HD2','NE2','HE2']\n",
    "    elif resn == 'LYS':\n",
    "       type_list=['CE','HE1','HE2','NZ','HZ1','HZ2','HZ3']\n",
    "    return type_list"
   ]
  },
  {
   "cell_type": "code",
   "execution_count": 15,
   "id": "b85b9f74-3379-41cc-9f4e-45ae6ae9434c",
   "metadata": {},
   "outputs": [],
   "source": [
    "def add_suffix(resn,suffix):\n",
    "    '''\n",
    "    add suffix to titratable groups, and write the pdb file\n",
    "    '''\n",
    "    atom_list=titr_grp(resn.upper())\n",
    "    for name in atom_list:\n",
    "        lingo.charmm_script('rename atom {}{} sele type {} .and. resn {} end'.format(name,suffix,name,resn))"
   ]
  },
  {
   "cell_type": "code",
   "execution_count": 16,
   "id": "8f72d52e-adb9-40e7-9a4b-694e6f57a75b",
   "metadata": {},
   "outputs": [],
   "source": [
    "class state0:\n",
    "    '''\n",
    "    generate state0 structure: default protonation & add atom name suffix.\n",
    "    '''\n",
    "    def __init__(self,titr_res):\n",
    "        self.titr_res_dict=titr_res\n",
    "        if 'HSP' in list(self.titr_res_dict.keys()):\n",
    "           lingo.charmm_script('rename resn HSP sele resn HSD .or. resn HSE end')\n",
    "           write.coor_pdb('tmp.pdb')\n",
    "           psf.delete_atoms()\n",
    "           read.sequence_pdb('tmp.pdb')\n",
    "           gen.new_segment(seg_name=segid,first_patch='ACE',last_patch='CT3',setup_ic=True)\n",
    "           read.pdb('tmp.pdb',resid=True)\n",
    "           ic.prm_fill(replace_all=False)\n",
    "           ic.build()\n",
    "           os.system('rm -f tmp.pdb')\n",
    "        add_suffix('ASP', 'w')\n",
    "        add_suffix('GLU', 'w')\n",
    "        add_suffix('HSP', 'w')\n",
    "        add_suffix('LYS', 'w')\n",
    "        write.coor_pdb(out_dir+'/'+fname_base+'-state0.pdb')\n",
    "        write.psf_card(out_dir+'/'+fname_base+'-state0.psf')"
   ]
  },
  {
   "cell_type": "code",
   "execution_count": 17,
   "id": "d4df02ec-8eec-4390-9607-eeaa50da57db",
   "metadata": {},
   "outputs": [],
   "source": [
    "def solvate_prot(nchrg,salt_conc=0):\n",
    "    \n",
    "    # solvate the structure\n",
    "    solv='convpdb.pl -solvate -cubic -cutoff 12 -out charmm22 {}/{}.pdb | convpdb.pl -segnames > {}/prot-solv.pdb'.format(out_dir,fname_base,out_dir)\n",
    "    o=bytes.decode(subprocess.check_output(solv,shell=True,stderr=subprocess.STDOUT)).split()\n",
    "    size=float(o[len(o)-1])\n",
    "    np.savetxt('{}/box.dat'.format(out_dir),np.array([size]))\n",
    "\n",
    "    # number of water molecules\n",
    "    count_wat='grep \"OH2 TIP3\" {}/prot-solv.pdb | wc -l'.format(out_dir)\n",
    "    o=bytes.decode(subprocess.check_output(count_wat,shell=True,stderr=subprocess.STDOUT)).split()\n",
    "    nwat=int(o[0])\n",
    "    \n",
    "    # number of ions\n",
    "    nion=round(salt_conc/55.5*nwat)\n",
    "    nSOD=nion\n",
    "    nCLA=nion\n",
    "    if nchrg > 0: \n",
    "       nCLA+=int(np.abs(np.floor(nchrg)))\n",
    "    else:\n",
    "       nSOD+=int(np.abs(np.ceil(nchrg)))\n",
    "    print(\"number of charges in protein: {}, ions: {}, NA: {}, CL: {}\".format(nchrg,nion,nSOD,nCLA))\n",
    "    \n",
    "    # solvate again with ions\n",
    "    solv2='convpdb.pl -solvate -cubic -cutoff 12 -out charmm22 -ions CLA:{}=SOD:{} {}/{}.pdb | convpdb.pl -segnames > {}/prot-solv2.pdb'.format(nCLA,nSOD,out_dir,fname_base,out_dir)\n",
    "    o=bytes.decode(subprocess.check_output(solv2,shell=True,stderr=subprocess.STDOUT))\n",
    "    \n",
    "    # separate out water and ions to read into new segments\n",
    "    getwat = 'convpdb.pl -out charmm22 -nsel TIP3 -segnames -renumwatersegs {}/prot-solv2.pdb > {}/water.pdb'.format(out_dir,out_dir)\n",
    "    os.system(getwat)\n",
    "    if nCLA+nSOD > 0:\n",
    "        getions = 'convpdb.pl -out charmm22 -nsel CLA+SOD -segnames {}/prot-solv2.pdb | sed \"s/HETATM/ATOM  /g\" | sed \"s/ HETA/ IONS/g\" > {}/ions.pdb'.format(out_dir,out_dir)\n",
    "        os.system(getions)\n",
    "   \n",
    "    # get water segid(s)\n",
    "    water_pdb=open('{}/water.pdb'.format(out_dir),'r')\n",
    "    wat_segid=[]\n",
    "    segid_i=''\n",
    "    for line in water_pdb:\n",
    "        if line.split()[0]=='ATOM':\n",
    "           segid_j=line.split()[-1]\n",
    "           if segid_j != segid_i:\n",
    "               wat_segid.append(segid_j)\n",
    "           segid_i=segid_j\n",
    "    print('water segids are ',wat_segid)\n",
    "    \n",
    "    # read water into charmm\n",
    "    for segid_w in wat_segid:\n",
    "        read.sequence_pdb('{}/water.pdb'.format(out_dir),segid=segid_w)\n",
    "        # note that the option should be \"angle\" and \"dihedral\", not \"angles\" or \"dihedrals\" !!!\n",
    "        gen.new_segment(seg_name=segid_w,angle=False,dihedral=False)\n",
    "    read.pdb('{}/water.pdb'.format(out_dir),resid=True)\n",
    "\n",
    "    # read ions into charmm\n",
    "    if nCLA+nSOD > 0:\n",
    "        read.sequence_pdb('{}/ions.pdb'.format(out_dir),segid='IONS')\n",
    "        # note that the option should be \"angle\" and \"dihedral\", not \"angles\" or \"dihedrals\" !!!\n",
    "        gen.new_segment(seg_name='IONS',angle=False,dihedral=False)\n",
    "        read.pdb('{}/ions.pdb'.format(out_dir),resid=True)\n",
    "\n",
    "    # remove water molecules that overlap with protein/ligand/ions/cyrstal-water\n",
    "    for segid_w in wat_segid:\n",
    "        lingo.charmm_script('delete atom sele .byres. ( segid {} .and. ( ( segid {}* .or. segid ION* .or. segid SOLV ) .around. 2.8 )) end'.format(segid_w,segid))\n",
    "\n",
    "    # write pdb and psf files\n",
    "    write.psf_card('{}/solv-final.psf'.format(out_dir))\n",
    "    write.coor_pdb('{}/solv-final.pdb'.format(out_dir))\n",
    "\n",
    "    # check if there is any missing coordinate\n",
    "    debug=True\n",
    "    if debug == True:\n",
    "       sele_nan=~pycharmm.SelectAtoms(initials=True)\n",
    "       sele_nan_n=sele_nan.get_n_selected()\n",
    "       if sele_nan_n > 0:\n",
    "          print(f\"ERROR! coordinates of {sele_nan_n} atoms were not initialized\")\n",
    "          quit()"
   ]
  },
  {
   "cell_type": "code",
   "execution_count": 18,
   "id": "f5b36ed6-d010-4243-9832-6dcd93c81341",
   "metadata": {},
   "outputs": [],
   "source": [
    "def coor_shift(titr_res):\n",
    "    for resn in list(titr_res.keys()):\n",
    "        sele_m=~pycharmm.SelectAtoms(select_all=True)\n",
    "        sele_p=~pycharmm.SelectAtoms(select_all=True)\n",
    "        sele_u=~pycharmm.SelectAtoms(select_all=True)\n",
    "        atom_list=titr_grp(resn)\n",
    "        for atom_name in atom_list:\n",
    "            sele_m = sele_m | pycharmm.SelectAtoms().by_atom_type(atom_name+'M')\n",
    "            sele_p = sele_p | pycharmm.SelectAtoms().by_atom_type(atom_name+'P')\n",
    "            sele_u = sele_u | pycharmm.SelectAtoms().by_atom_type(atom_name+'U')\n",
    "            sele_m = sele_m & pycharmm.SelectAtoms().by_res_name(resn)\n",
    "            sele_p = sele_p & pycharmm.SelectAtoms().by_res_name(resn)\n",
    "            sele_u = sele_u & pycharmm.SelectAtoms().by_res_name(resn)\n",
    "        sele_nameM='site{}subM'.format(resn)\n",
    "        sele_nameP='site{}subP'.format(resn)\n",
    "        sele_nameU='site{}subU'.format(resn)\n",
    "        sele_m.store(sele_nameM)\n",
    "        sele_p.store(sele_nameP)\n",
    "        sele_u.store(sele_nameU)\n",
    "        lingo.charmm_script('coor print sele %s end'%(sele_nameM))\n",
    "        lingo.charmm_script('coor print sele %s end'%(sele_nameP))\n",
    "        lingo.charmm_script('coor print sele %s end'%(sele_nameU))\n",
    "        nm=sele_m.get_n_selected()\n",
    "        np=sele_p.get_n_selected()\n",
    "        nu=sele_u.get_n_selected()\n",
    "        if nm > 0:\n",
    "           lingo.charmm_script('''\n",
    "                 coor tranlate xdir 1 ydir 0 zdir 0 dist 0.1 sele {} end\n",
    "                 '''.format(sele_nameM))\n",
    "        if np > 0:\n",
    "           lingo.charmm_script('''\n",
    "                 coor tranlate xdir 0 ydir 1 zdir 0 dist 0.1 sele {} end\n",
    "                 '''.format(sele_nameP))\n",
    "        if nu > 0:\n",
    "           lingo.charmm_script('''\n",
    "                 coor tranlate xdir 0 ydir 0 zdir 1 dist 0.1 sele {} end\n",
    "                 '''.format(sele_nameU))"
   ]
  },
  {
   "cell_type": "markdown",
   "id": "581b8267",
   "metadata": {},
   "source": [
    "Personally, I prefer saving CHARMM output to a file"
   ]
  },
  {
   "cell_type": "code",
   "execution_count": 19,
   "id": "39156c65-8c9a-4685-a2a1-d7cc149855b0",
   "metadata": {},
   "outputs": [
    {
     "name": "stdout",
     "output_type": "stream",
     "text": [
      " VOPEN> Attempting to open::./test2/charmm.out::\n",
      "  \n",
      " CHARMM>     outu 20\n"
     ]
    }
   ],
   "source": [
    "open_clog()"
   ]
  },
  {
   "cell_type": "code",
   "execution_count": 20,
   "id": "dded682a-1930-479e-83f1-e7c93075bc0d",
   "metadata": {},
   "outputs": [],
   "source": [
    "read_param()"
   ]
  },
  {
   "cell_type": "markdown",
   "id": "ece71825",
   "metadata": {},
   "source": [
    "Here we are going  to generate psf for a given sequence, and generate initial structure based on internal coordinates.\n",
    "This function will also return the total number of charges of the system"
   ]
  },
  {
   "cell_type": "code",
   "execution_count": 21,
   "id": "d4bb13fa-c988-4a7c-8dfe-860ced6f5742",
   "metadata": {},
   "outputs": [],
   "source": [
    "nchrg=gen_init()"
   ]
  },
  {
   "cell_type": "markdown",
   "id": "71ac757e",
   "metadata": {},
   "source": [
    "For this tutorial, the salt concentration is 0"
   ]
  },
  {
   "cell_type": "code",
   "execution_count": 22,
   "id": "bfc891fd-6cf2-4691-bf1d-3e599bc7864a",
   "metadata": {},
   "outputs": [
    {
     "name": "stdout",
     "output_type": "stream",
     "text": [
      "number of charges in protein: 1, ions: 0, NA: 0, CL: 1\n"
     ]
    },
    {
     "name": "stderr",
     "output_type": "stream",
     "text": [
      "parseSelection: cannot find residue or atom SOD in current structure\n"
     ]
    },
    {
     "name": "stdout",
     "output_type": "stream",
     "text": [
      "water segids are  ['WT00']\n"
     ]
    }
   ],
   "source": [
    "solvate_prot(nchrg,0)"
   ]
  },
  {
   "cell_type": "markdown",
   "id": "43034a30",
   "metadata": {},
   "source": [
    "Delete the whole system\n"
   ]
  },
  {
   "cell_type": "code",
   "execution_count": 23,
   "id": "ba142633-9612-4cbb-ae77-ac1083df1903",
   "metadata": {},
   "outputs": [
    {
     "data": {
      "text/plain": [
       "True"
      ]
     },
     "execution_count": 23,
     "metadata": {},
     "output_type": "execute_result"
    }
   ],
   "source": [
    "psf.delete_atoms(selection=pycharmm.SelectAtoms(select_all=True))"
   ]
  },
  {
   "cell_type": "code",
   "execution_count": 24,
   "id": "f658dc60-ba11-4a2c-991d-eb854c185008",
   "metadata": {},
   "outputs": [],
   "source": [
    "nchrg=gen_init()"
   ]
  },
  {
   "cell_type": "markdown",
   "id": "b747ef9e",
   "metadata": {},
   "source": [
    "Find all titratable residues in a protein\n"
   ]
  },
  {
   "cell_type": "code",
   "execution_count": 25,
   "id": "1eda1c90-03ee-4fe3-a90a-f0b90d592d84",
   "metadata": {},
   "outputs": [
    {
     "name": "stdout",
     "output_type": "stream",
     "text": [
      "{'ASP': [[], []], 'GLU': [['4'], [3]], 'HSP': [['5'], [4]], 'LYS': [['1'], [0]]}\n"
     ]
    }
   ],
   "source": [
    "titr_res=find_titr_res()"
   ]
  },
  {
   "cell_type": "markdown",
   "id": "27f21899",
   "metadata": {},
   "source": [
    "For Glu and Asp, add H to one O atom of the carboxylate group\n"
   ]
  },
  {
   "cell_type": "code",
   "execution_count": 26,
   "id": "ed339ba7-f9bc-46b5-842d-11cdf20a9195",
   "metadata": {},
   "outputs": [
    {
     "data": {
      "text/plain": [
       "<__main__.state1_o2 at 0x7f95793bcb10>"
      ]
     },
     "execution_count": 26,
     "metadata": {},
     "output_type": "execute_result"
    }
   ],
   "source": [
    "state1_o2(titr_res)"
   ]
  },
  {
   "cell_type": "markdown",
   "id": "71803192",
   "metadata": {},
   "source": [
    "For Glu and Asp, add H to the other O atom of the carboxylate group\n"
   ]
  },
  {
   "cell_type": "code",
   "execution_count": 27,
   "id": "c1e6107b-0bf0-4198-ac18-32d3408d37d4",
   "metadata": {},
   "outputs": [
    {
     "data": {
      "text/plain": [
       "<__main__.state2_o1 at 0x7f957984c910>"
      ]
     },
     "execution_count": 27,
     "metadata": {},
     "output_type": "execute_result"
    }
   ],
   "source": [
    "state2_o1()\n"
   ]
  },
  {
   "cell_type": "code",
   "execution_count": 28,
   "id": "9b5e7c62-ff61-4a26-9dcb-b037425bdd11",
   "metadata": {},
   "outputs": [
    {
     "data": {
      "text/plain": [
       "True"
      ]
     },
     "execution_count": 28,
     "metadata": {},
     "output_type": "execute_result"
    }
   ],
   "source": [
    "psf.delete_atoms(selection=pycharmm.SelectAtoms(select_all=True))"
   ]
  },
  {
   "cell_type": "code",
   "execution_count": 29,
   "id": "d2bdcf19-a33b-4e77-a205-5e99dc3be226",
   "metadata": {},
   "outputs": [],
   "source": [
    "nchrg=gen_init()"
   ]
  },
  {
   "cell_type": "markdown",
   "id": "0ce25900",
   "metadata": {},
   "source": [
    "Standard protonation state, and add atom name suffix."
   ]
  },
  {
   "cell_type": "code",
   "execution_count": 30,
   "id": "977058b2-233b-43ed-9d43-c134ef068163",
   "metadata": {},
   "outputs": [
    {
     "data": {
      "text/plain": [
       "<__main__.state0 at 0x7f957984d510>"
      ]
     },
     "execution_count": 30,
     "metadata": {},
     "output_type": "execute_result"
    }
   ],
   "source": [
    "state0(titr_res)"
   ]
  },
  {
   "cell_type": "markdown",
   "id": "537d2ee9",
   "metadata": {},
   "source": [
    "Build a hybrid system"
   ]
  },
  {
   "cell_type": "code",
   "execution_count": 31,
   "id": "9e851dbb-3e61-4428-8e4d-1420632ad673",
   "metadata": {},
   "outputs": [
    {
     "name": "stdout",
     "output_type": "stream",
     "text": [
      "A selection has been stored as SITEASPSUBM\n",
      "A selection has been stored as SITEASPSUBP\n",
      "A selection has been stored as SITEASPSUBU\n",
      "A selection has been stored as SITEGLUSUBM\n",
      "A selection has been stored as SITEGLUSUBP\n",
      "A selection has been stored as SITEGLUSUBU\n",
      "A selection has been stored as SITEHSPSUBM\n",
      "A selection has been stored as SITEHSPSUBP\n",
      "A selection has been stored as SITEHSPSUBU\n",
      "A selection has been stored as SITELYSSUBM\n",
      "A selection has been stored as SITELYSSUBP\n",
      "A selection has been stored as SITELYSSUBU\n"
     ]
    },
    {
     "data": {
      "text/plain": [
       "<__main__.patch_all at 0x7f95bd706490>"
      ]
     },
     "execution_count": 31,
     "metadata": {},
     "output_type": "execute_result"
    }
   ],
   "source": [
    "patch_all(titr_res,3)"
   ]
  },
  {
   "cell_type": "markdown",
   "id": "5a69b2e2",
   "metadata": {},
   "source": [
    "Solvate the hybrid system"
   ]
  },
  {
   "cell_type": "code",
   "execution_count": 32,
   "id": "e1339a76-1b59-49a5-8d56-adfe1e117830",
   "metadata": {},
   "outputs": [],
   "source": [
    "def solvate():\n",
    "    inp_pdb_fn=f'{out_dir}/solv-final.pdb'\n",
    "    for seg_id in ['WT00']:\n",
    "        read.sequence_pdb(inp_pdb_fn,segid=seg_id)\n",
    "        # note that the valid option is \"angle\" not \"angles\"\n",
    "        gen.new_segment(seg_name=seg_id,angle=False,dihedral=False)\n",
    "    #settings.set_bomb_level(-1)\n",
    "    read.pdb(inp_pdb_fn,resid=True)\n",
    "    write.psf_card(f'{out_dir}/{out_fn}-solv.psf')\n",
    "    write.coor_pdb(f'{out_dir}/{out_fn}-solv.pdb')\n",
    "    settings.set_bomb_level(0)\n",
    "    energy.show()"
   ]
  },
  {
   "cell_type": "code",
   "execution_count": 33,
   "id": "672d03d2-eb36-4110-a948-c40124d50750",
   "metadata": {},
   "outputs": [],
   "source": [
    "solvate()"
   ]
  },
  {
   "cell_type": "markdown",
   "id": "958f763c",
   "metadata": {},
   "source": [
    "Remove temporary files"
   ]
  },
  {
   "cell_type": "code",
   "execution_count": 34,
   "id": "bd55857f",
   "metadata": {},
   "outputs": [
    {
     "data": {
      "text/plain": [
       "0"
      ]
     },
     "execution_count": 34,
     "metadata": {},
     "output_type": "execute_result"
    }
   ],
   "source": [
    "os.system(f'rm {out_dir}/{fname_base}-state*-o*.p*')\n",
    "os.system(f'rm {out_dir}/{fname_base}-state0.p*')\n",
    "os.system(f'rm {out_dir}/{fname_base}-3state.p*')\n",
    "os.system(f'rm {out_dir}/solv-final.*')\n",
    "os.system(f'rm {out_dir}/{fname_base}.p*')\n",
    "os.system(f'rm {out_dir}/prot-solv*.pdb')\n",
    "os.system(f'rm {out_dir}/water.pdb')\n",
    "os.system(f'rm {out_dir}/ions.pdb')\n",
    "\n"
   ]
  }
 ],
 "metadata": {
  "kernelspec": {
   "display_name": "Python 3 (ipykernel)",
   "language": "python",
   "name": "python3"
  },
  "language_info": {
   "codemirror_mode": {
    "name": "ipython",
    "version": 3
   },
   "file_extension": ".py",
   "mimetype": "text/x-python",
   "name": "python",
   "nbconvert_exporter": "python",
   "pygments_lexer": "ipython3",
   "version": "3.11.0"
  }
 },
 "nbformat": 4,
 "nbformat_minor": 5
}
